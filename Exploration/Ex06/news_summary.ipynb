{
 "cells": [
  {
   "cell_type": "code",
   "execution_count": 1,
   "id": "d61f591c",
   "metadata": {},
   "outputs": [
    {
     "name": "stderr",
     "output_type": "stream",
     "text": [
      "[nltk_data] Downloading package stopwords to /aiffel/nltk_data...\n",
      "[nltk_data]   Unzipping corpora/stopwords.zip.\n"
     ]
    }
   ],
   "source": [
    "import tensorflow as tf\n",
    "import pandas as pd\n",
    "import re\n",
    "\n",
    "import nltk\n",
    "nltk.download('stopwords')\n",
    "from nltk.corpus import stopwords"
   ]
  },
  {
   "cell_type": "code",
   "execution_count": 72,
   "id": "a5cf8dd1",
   "metadata": {},
   "outputs": [],
   "source": [
    "# 데이터 다운로드\n",
    "import urllib.request\n",
    "urllib.request.urlretrieve(\"https://raw.githubusercontent.com/sunnysai12345/News_Summary/master/news_summary_more.csv\", filename=\"news_summary_more.csv\")\n",
    "data = pd.read_csv('news_summary_more.csv', encoding='iso-8859-1')"
   ]
  },
  {
   "cell_type": "code",
   "execution_count": 73,
   "id": "fa8552f3",
   "metadata": {},
   "outputs": [
    {
     "data": {
      "text/html": [
       "<div>\n",
       "<style scoped>\n",
       "    .dataframe tbody tr th:only-of-type {\n",
       "        vertical-align: middle;\n",
       "    }\n",
       "\n",
       "    .dataframe tbody tr th {\n",
       "        vertical-align: top;\n",
       "    }\n",
       "\n",
       "    .dataframe thead th {\n",
       "        text-align: right;\n",
       "    }\n",
       "</style>\n",
       "<table border=\"1\" class=\"dataframe\">\n",
       "  <thead>\n",
       "    <tr style=\"text-align: right;\">\n",
       "      <th></th>\n",
       "      <th>headlines</th>\n",
       "      <th>text</th>\n",
       "    </tr>\n",
       "  </thead>\n",
       "  <tbody>\n",
       "    <tr>\n",
       "      <th>0</th>\n",
       "      <td>upGrad learner switches to career in ML &amp; Al w...</td>\n",
       "      <td>Saurav Kant, an alumnus of upGrad and IIIT-B's...</td>\n",
       "    </tr>\n",
       "    <tr>\n",
       "      <th>1</th>\n",
       "      <td>Delhi techie wins free food from Swiggy for on...</td>\n",
       "      <td>Kunal Shah's credit card bill payment platform...</td>\n",
       "    </tr>\n",
       "    <tr>\n",
       "      <th>2</th>\n",
       "      <td>New Zealand end Rohit Sharma-led India's 12-ma...</td>\n",
       "      <td>New Zealand defeated India by 8 wickets in the...</td>\n",
       "    </tr>\n",
       "    <tr>\n",
       "      <th>3</th>\n",
       "      <td>Aegon life iTerm insurance plan helps customer...</td>\n",
       "      <td>With Aegon Life iTerm Insurance plan, customer...</td>\n",
       "    </tr>\n",
       "    <tr>\n",
       "      <th>4</th>\n",
       "      <td>Have known Hirani for yrs, what if MeToo claim...</td>\n",
       "      <td>Speaking about the sexual harassment allegatio...</td>\n",
       "    </tr>\n",
       "  </tbody>\n",
       "</table>\n",
       "</div>"
      ],
      "text/plain": [
       "                                           headlines  \\\n",
       "0  upGrad learner switches to career in ML & Al w...   \n",
       "1  Delhi techie wins free food from Swiggy for on...   \n",
       "2  New Zealand end Rohit Sharma-led India's 12-ma...   \n",
       "3  Aegon life iTerm insurance plan helps customer...   \n",
       "4  Have known Hirani for yrs, what if MeToo claim...   \n",
       "\n",
       "                                                text  \n",
       "0  Saurav Kant, an alumnus of upGrad and IIIT-B's...  \n",
       "1  Kunal Shah's credit card bill payment platform...  \n",
       "2  New Zealand defeated India by 8 wickets in the...  \n",
       "3  With Aegon Life iTerm Insurance plan, customer...  \n",
       "4  Speaking about the sexual harassment allegatio...  "
      ]
     },
     "execution_count": 73,
     "metadata": {},
     "output_type": "execute_result"
    }
   ],
   "source": [
    "data.head()"
   ]
  },
  {
   "cell_type": "code",
   "execution_count": 74,
   "id": "24952598",
   "metadata": {},
   "outputs": [
    {
     "name": "stdout",
     "output_type": "stream",
     "text": [
      "전체 샘플 수:  98401\n",
      "text의 유니크 샘플 수:  98360\n",
      "headlines의 유니크 샘플 수:  98280\n",
      "빈 셀의 수:  headlines    0\n",
      "text         0\n",
      "dtype: int64\n"
     ]
    }
   ],
   "source": [
    "# 데이터 크기\n",
    "print('전체 샘플 수: ', len(data))\n",
    "print('text의 유니크 샘플 수: ', data['text'].nunique())\n",
    "print('headlines의 유니크 샘플 수: ', data['headlines'].nunique())\n",
    "print('빈 셀의 수: ', data.isnull().sum())"
   ]
  },
  {
   "cell_type": "markdown",
   "id": "16310e1d",
   "metadata": {},
   "source": [
    "- 중복제거 필요함, 빈 줄 제거 필요 없음."
   ]
  },
  {
   "cell_type": "code",
   "execution_count": 75,
   "id": "7d3efc28",
   "metadata": {},
   "outputs": [
    {
     "name": "stdout",
     "output_type": "stream",
     "text": [
      "전체 샘플 수:  98360\n"
     ]
    }
   ],
   "source": [
    "# 중복제거 - text에 대해서만 수행\n",
    "data.drop_duplicates(subset=['text'], inplace=True)\n",
    "print('전체 샘플 수: ', len(data))"
   ]
  },
  {
   "cell_type": "code",
   "execution_count": 76,
   "id": "8a73194a",
   "metadata": {},
   "outputs": [],
   "source": [
    "# 영어 풀어쓰기 사전\n",
    "contractions = {\"ain't\": \"is not\", \"aren't\": \"are not\", \"can't\": \"cannot\", \"'cause\": \"because\", \"could've\": \"could have\", \n",
    "                \"couldn't\": \"could not\", \"didn't\": \"did not\", \"doesn't\": \"does not\", \"don't\": \"do not\", \"hadn't\": \"had not\",\n",
    "                \"hasn't\": \"has not\", \"haven't\": \"have not\", \"he'd\": \"he would\", \"he'll\": \"he will\", \"he's\": \"he is\",\n",
    "                \"how'd\": \"how did\", \"how'd'y\": \"how do you\", \"how'll\": \"how will\", \"how's\": \"how is\", \"I'd\": \"I would\",\n",
    "                \"I'd've\": \"I would have\", \"I'll\": \"I will\", \"I'll've\": \"I will have\",\"I'm\": \"I am\", \"I've\": \"I have\",\n",
    "                \"i'd\": \"i would\", \"i'd've\": \"i would have\", \"i'll\": \"i will\",  \"i'll've\": \"i will have\",\"i'm\": \"i am\",\n",
    "                \"i've\": \"i have\", \"isn't\": \"is not\", \"it'd\": \"it would\", \"it'd've\": \"it would have\", \"it'll\": \"it will\",\n",
    "                \"it'll've\": \"it will have\",\"it's\": \"it is\", \"let's\": \"let us\", \"ma'am\": \"madam\", \"mayn't\": \"may not\",\n",
    "                \"might've\": \"might have\", \"mightn't\": \"might not\", \"mightn't've\": \"might not have\", \"must've\": \"must have\",\n",
    "                \"mustn't\": \"must not\", \"mustn't've\": \"must not have\", \"needn't\": \"need not\", \"needn't've\": \"need not have\",\n",
    "                \"o'clock\": \"of the clock\", \"oughtn't\": \"ought not\", \"oughtn't've\": \"ought not have\", \"shan't\": \"shall not\",\n",
    "                \"sha'n't\": \"shall not\", \"shan't've\": \"shall not have\", \"she'd\": \"she would\", \"she'd've\": \"she would have\",\n",
    "                \"she'll\": \"she will\", \"she'll've\": \"she will have\", \"she's\": \"she is\", \"should've\": \"should have\",\n",
    "                \"shouldn't\": \"should not\", \"shouldn't've\": \"should not have\", \"so've\": \"so have\",\"so's\": \"so as\",\n",
    "                \"this's\": \"this is\", \"that'd\": \"that would\", \"that'd've\": \"that would have\", \"that's\": \"that is\",\n",
    "                \"there'd\": \"there would\", \"there'd've\": \"there would have\", \"there's\": \"there is\", \"here's\": \"here is\",\n",
    "                \"they'd\": \"they would\", \"they'd've\": \"they would have\", \"they'll\": \"they will\", \"they'll've\": \"they will have\",\n",
    "                \"they're\": \"they are\", \"they've\": \"they have\", \"to've\": \"to have\", \"wasn't\": \"was not\", \"we'd\": \"we would\",\n",
    "                \"we'd've\": \"we would have\", \"we'll\": \"we will\", \"we'll've\": \"we will have\", \"we're\": \"we are\", \"we've\": \"we have\",\n",
    "                \"weren't\": \"were not\", \"what'll\": \"what will\", \"what'll've\": \"what will have\", \"what're\": \"what are\",\n",
    "                \"what's\": \"what is\", \"what've\": \"what have\", \"when's\": \"when is\", \"when've\": \"when have\", \"where'd\": \"where did\",\n",
    "                \"where's\": \"where is\", \"where've\": \"where have\", \"who'll\": \"who will\", \"who'll've\": \"who will have\",\n",
    "                \"who's\": \"who is\", \"who've\": \"who have\", \"why's\": \"why is\", \"why've\": \"why have\", \"will've\": \"will have\",\n",
    "                \"won't\": \"will not\", \"won't've\": \"will not have\", \"would've\": \"would have\", \"wouldn't\": \"would not\",\n",
    "                \"wouldn't've\": \"would not have\", \"y'all\": \"you all\", \"y'all'd\": \"you all would\", \"y'all'd've\": \"you all would have\",\n",
    "                \"y'all're\": \"you all are\", \"y'all've\": \"you all have\", \"you'd\": \"you would\", \"you'd've\": \"you would have\",\n",
    "                \"you'll\": \"you will\", \"you'll've\": \"you will have\", \"you're\": \"you are\", \"you've\": \"you have\"}\n",
    "\n",
    "# 데이터 전처리 함수\n",
    "def preprocess_sentence(sentence, remove_stopwords=True):\n",
    "    sentence = sentence.lower() # 텍스트 소문자화\n",
    "    #sentence = BeautifulSoup(sentence, \"lxml\").text # <br />, <a href = ...> 등의 html 태그 제거\n",
    "    sentence = re.sub(r'\\([^)]*\\)', '', sentence) # 괄호로 닫힌 문자열 (...) 제거 Ex) my husband (and myself!) for => my husband for\n",
    "    sentence = re.sub('\"','', sentence) # 쌍따옴표 \" 제거\n",
    "    sentence = ' '.join([contractions[t] if t in contractions else t for t in sentence.split(\" \")]) # 약어 정규화\n",
    "    sentence = re.sub(r\"'s\\b\",\"\", sentence) # 소유격 제거. Ex) roland's -> roland\n",
    "    sentence = re.sub(\"[^a-zA-Z]\", \" \", sentence) # 영어 외 문자(숫자, 특수문자 등) 공백으로 변환\n",
    "    sentence = re.sub('[m]{2,}', 'mm', sentence) # m이 3개 이상이면 2개로 변경. Ex) ummmmmmm yeah -> umm yeah\n",
    "    \n",
    "    # 불용어 제거 (Text)\n",
    "    if remove_stopwords:\n",
    "        tokens = ' '.join(word for word in sentence.split() if not word in stopwords.words('english') if len(word) > 1)\n",
    "    # 불용어 미제거 (Summary)\n",
    "    else:\n",
    "        tokens = ' '.join(word for word in sentence.split() if len(word) > 1)\n",
    "    return tokens"
   ]
  },
  {
   "cell_type": "code",
   "execution_count": 77,
   "id": "4a80df92",
   "metadata": {},
   "outputs": [],
   "source": [
    "# 전체 데이터 전처리\n",
    "clean_text = []\n",
    "for sentence in data[\"text\"]:\n",
    "    clean_text.append(preprocess_sentence(sentence))\n",
    "\n",
    "clean_headlines = []\n",
    "for sentence in data[\"headlines\"]:\n",
    "    clean_headlines.append(preprocess_sentence(sentence, False))\n",
    "\n",
    "data['text'] = clean_text\n",
    "data['headlines'] = clean_headlines"
   ]
  },
  {
   "cell_type": "code",
   "execution_count": 78,
   "id": "eef68c73",
   "metadata": {},
   "outputs": [
    {
     "data": {
      "text/html": [
       "<div>\n",
       "<style scoped>\n",
       "    .dataframe tbody tr th:only-of-type {\n",
       "        vertical-align: middle;\n",
       "    }\n",
       "\n",
       "    .dataframe tbody tr th {\n",
       "        vertical-align: top;\n",
       "    }\n",
       "\n",
       "    .dataframe thead th {\n",
       "        text-align: right;\n",
       "    }\n",
       "</style>\n",
       "<table border=\"1\" class=\"dataframe\">\n",
       "  <thead>\n",
       "    <tr style=\"text-align: right;\">\n",
       "      <th></th>\n",
       "      <th>headlines</th>\n",
       "      <th>text</th>\n",
       "    </tr>\n",
       "  </thead>\n",
       "  <tbody>\n",
       "    <tr>\n",
       "      <th>0</th>\n",
       "      <td>upgrad learner switches to career in ml al wit...</td>\n",
       "      <td>saurav kant alumnus upgrad iiit pg program mac...</td>\n",
       "    </tr>\n",
       "    <tr>\n",
       "      <th>1</th>\n",
       "      <td>delhi techie wins free food from swiggy for on...</td>\n",
       "      <td>kunal shah credit card bill payment platform c...</td>\n",
       "    </tr>\n",
       "    <tr>\n",
       "      <th>2</th>\n",
       "      <td>new zealand end rohit sharma led india match w...</td>\n",
       "      <td>new zealand defeated india wickets fourth odi ...</td>\n",
       "    </tr>\n",
       "    <tr>\n",
       "      <th>3</th>\n",
       "      <td>aegon life iterm insurance plan helps customer...</td>\n",
       "      <td>aegon life iterm insurance plan customers enjo...</td>\n",
       "    </tr>\n",
       "    <tr>\n",
       "      <th>4</th>\n",
       "      <td>have known hirani for yrs what if metoo claims...</td>\n",
       "      <td>speaking sexual harassment allegations rajkuma...</td>\n",
       "    </tr>\n",
       "  </tbody>\n",
       "</table>\n",
       "</div>"
      ],
      "text/plain": [
       "                                           headlines  \\\n",
       "0  upgrad learner switches to career in ml al wit...   \n",
       "1  delhi techie wins free food from swiggy for on...   \n",
       "2  new zealand end rohit sharma led india match w...   \n",
       "3  aegon life iterm insurance plan helps customer...   \n",
       "4  have known hirani for yrs what if metoo claims...   \n",
       "\n",
       "                                                text  \n",
       "0  saurav kant alumnus upgrad iiit pg program mac...  \n",
       "1  kunal shah credit card bill payment platform c...  \n",
       "2  new zealand defeated india wickets fourth odi ...  \n",
       "3  aegon life iterm insurance plan customers enjo...  \n",
       "4  speaking sexual harassment allegations rajkuma...  "
      ]
     },
     "execution_count": 78,
     "metadata": {},
     "output_type": "execute_result"
    }
   ],
   "source": [
    "data.head()"
   ]
  },
  {
   "cell_type": "code",
   "execution_count": 79,
   "id": "9a6ed1d0",
   "metadata": {},
   "outputs": [
    {
     "name": "stdout",
     "output_type": "stream",
     "text": [
      "text의 최소 길이 : 1\n",
      "text의 최대 길이 : 60\n",
      "text의 평균 길이 : 35.09968483123221\n",
      "headlines의 최소 길이 : 1\n",
      "headlines의 최대 길이 : 16\n",
      "headlines의 평균 길이 : 9.299532330215534\n"
     ]
    },
    {
     "data": {
      "image/png": "[encoded data removed]",
      "text/plain": [
       "<Figure size 1080x360 with 2 Axes>"
      ]
     },
     "metadata": {
      "needs_background": "light"
     },
     "output_type": "display_data"
    },
    {
     "data": {
      "image/png": "[encoded data removed]",
      "text/plain": [
       "<Figure size 1080x360 with 2 Axes>"
      ]
     },
     "metadata": {
      "needs_background": "light"
     },
     "output_type": "display_data"
    }
   ],
   "source": [
    "# 길이 분포 출력\n",
    "import numpy as np\n",
    "import matplotlib.pyplot as plt\n",
    "from collections import Counter\n",
    "\n",
    "len_text = [len(s.split()) for s in data['text']]\n",
    "len_headlines = [len(s.split()) for s in data['headlines']]\n",
    "\n",
    "print('text의 최소 길이 : {}'.format(np.min(len_text)))\n",
    "print('text의 최대 길이 : {}'.format(np.max(len_text)))\n",
    "print('text의 평균 길이 : {}'.format(np.mean(len_text)))\n",
    "print('headlines의 최소 길이 : {}'.format(np.min(len_headlines)))\n",
    "print('headlines의 최대 길이 : {}'.format(np.max(len_headlines)))\n",
    "print('headlines의 평균 길이 : {}'.format(np.mean(len_headlines)))\n",
    "\n",
    "len_text_counter = Counter(len_text)\n",
    "len_headlines_counter = Counter(len_headlines)\n",
    "\n",
    "plt.figure(figsize=(15,5))\n",
    "plt.subplot(1,2,1)\n",
    "plt.boxplot(len_text)\n",
    "plt.title('Text')\n",
    "plt.subplot(1,2,2)\n",
    "plt.boxplot(len_headlines)\n",
    "plt.title('Headlines')\n",
    "plt.show()\n",
    "\n",
    "plt.figure(figsize=(15,5))\n",
    "plt.subplot(1,2,1)\n",
    "plt.bar(len_text_counter.keys(), len_text_counter.values())\n",
    "plt.title('Text')\n",
    "plt.subplot(1,2,2)\n",
    "plt.bar(len_headlines_counter.keys(), len_headlines_counter.values())\n",
    "plt.title('Headlines')\n",
    "plt.show()"
   ]
  },
  {
   "cell_type": "code",
   "execution_count": 80,
   "id": "29279e07",
   "metadata": {},
   "outputs": [],
   "source": [
    "# 최대 길이 이용\n",
    "max_text_len = 60\n",
    "max_headlines_len = 16"
   ]
  },
  {
   "cell_type": "code",
   "execution_count": 81,
   "id": "8c50383f",
   "metadata": {},
   "outputs": [
    {
     "name": "stdout",
     "output_type": "stream",
     "text": [
      "테스트 데이터의 수 : 19672\n",
      "훈련 데이터의 개수 : 78688\n",
      "훈련 레이블의 개수 : 78688\n",
      "테스트 데이터의 개수 : 19672\n",
      "테스트 레이블의 개수 : 19672\n"
     ]
    }
   ],
   "source": [
    "# 데이터셋 준비\n",
    "# 요약 데이터에는 시작 토큰과 종료 토큰을 추가한다.\n",
    "data['decoder_input'] = data['headlines'].apply(lambda x : 'sostoken '+ x)\n",
    "data['decoder_target'] = data['headlines'].apply(lambda x : x + ' eostoken')\n",
    "\n",
    "encoder_input = np.array(data['text']) # 인코더의 입력\n",
    "decoder_input = np.array(data['decoder_input']) # 디코더의 입력\n",
    "decoder_target = np.array(data['decoder_target']) # 디코더의 레이블\n",
    "\n",
    "# 데이터 셔플\n",
    "indices = np.arange(encoder_input.shape[0])\n",
    "np.random.shuffle(indices)\n",
    "\n",
    "encoder_input = encoder_input[indices]\n",
    "decoder_input = decoder_input[indices]\n",
    "decoder_target = decoder_target[indices]\n",
    "\n",
    "# Train, Test 데이터 분리\n",
    "n_of_val = int(len(encoder_input)*0.2)\n",
    "print('테스트 데이터의 수 :', n_of_val)\n",
    "\n",
    "encoder_input_train = encoder_input[:-n_of_val]\n",
    "decoder_input_train = decoder_input[:-n_of_val]\n",
    "decoder_target_train = decoder_target[:-n_of_val]\n",
    "\n",
    "encoder_input_test = encoder_input[-n_of_val:]\n",
    "decoder_input_test = decoder_input[-n_of_val:]\n",
    "decoder_target_test = decoder_target[-n_of_val:]\n",
    "\n",
    "# 원문 출력을 위해 테스트 데이터만 별도 저장\n",
    "text_input_test = encoder_input[-n_of_val:]\n",
    "#text_input_test = decoder_input[-n_of_val:]\n",
    "text_target_test = decoder_target[-n_of_val:]\n",
    "\n",
    "print('훈련 데이터의 개수 :', len(encoder_input_train))\n",
    "print('훈련 레이블의 개수 :', len(decoder_input_train))\n",
    "print('테스트 데이터의 개수 :', len(encoder_input_test))\n",
    "print('테스트 레이블의 개수 :', len(decoder_input_test))"
   ]
  },
  {
   "cell_type": "code",
   "execution_count": 82,
   "id": "3da9731a",
   "metadata": {},
   "outputs": [],
   "source": [
    "# 단어 빈도수 분석 함수\n",
    "def word_freq_analysis(tokenizer, threshold):\n",
    "    total_cnt = len(tokenizer.word_index) # 단어의 수\n",
    "    rare_cnt = 0 # 등장 빈도수가 threshold보다 작은 단어의 개수를 카운트\n",
    "    total_freq = 0 # 훈련 데이터의 전체 단어 빈도수 총 합\n",
    "    rare_freq = 0 # 등장 빈도수가 threshold보다 작은 단어의 등장 빈도수의 총 합\n",
    "\n",
    "    # 단어와 빈도수의 쌍(pair)을 key와 value로 받는다.\n",
    "    for key, value in tokenizer.word_counts.items():\n",
    "        total_freq = total_freq + value\n",
    "\n",
    "        # 단어의 등장 빈도수가 threshold보다 작으면\n",
    "        if(value < threshold):\n",
    "            rare_cnt = rare_cnt + 1\n",
    "            rare_freq = rare_freq + value\n",
    "\n",
    "    print('단어 집합(vocabulary)의 크기 :', total_cnt)\n",
    "    print('등장 빈도가 %s번 이하인 희귀 단어의 수: %s'%(threshold - 1, rare_cnt))\n",
    "    print('단어 집합에서 희귀 단어를 제외시킬 경우의 단어 집합의 크기 %s'%(total_cnt - rare_cnt))\n",
    "    print(\"단어 집합에서 희귀 단어의 비율:\", (rare_cnt / total_cnt)*100)\n",
    "    print(\"전체 등장 빈도에서 희귀 단어 등장 빈도 비율:\", (rare_freq / total_freq)*100)"
   ]
  },
  {
   "cell_type": "code",
   "execution_count": 83,
   "id": "a1cfaab2",
   "metadata": {},
   "outputs": [
    {
     "name": "stdout",
     "output_type": "stream",
     "text": [
      "단어 집합(vocabulary)의 크기 : 69695\n",
      "등장 빈도가 5번 이하인 희귀 단어의 수: 45683\n",
      "단어 집합에서 희귀 단어를 제외시킬 경우의 단어 집합의 크기 24012\n",
      "단어 집합에서 희귀 단어의 비율: 65.54702632900495\n",
      "전체 등장 빈도에서 희귀 단어 등장 빈도 비율: 3.0884522770086633\n"
     ]
    }
   ],
   "source": [
    "# 인덱스 사전 만들기\n",
    "from tensorflow.keras.preprocessing.text import Tokenizer \n",
    "\n",
    "src_tokenizer = Tokenizer() # 토크나이저 정의\n",
    "src_tokenizer.fit_on_texts(encoder_input_train) # 입력된 데이터로부터 단어 집합 생성\n",
    "\n",
    "word_freq_analysis(src_tokenizer, 6)"
   ]
  },
  {
   "cell_type": "code",
   "execution_count": 84,
   "id": "3da32c89",
   "metadata": {},
   "outputs": [],
   "source": [
    "# 사전 재생성\n",
    "src_vocab = 25000\n",
    "src_tokenizer = Tokenizer(num_words=src_vocab)\n",
    "src_tokenizer.fit_on_texts(encoder_input_train)"
   ]
  },
  {
   "cell_type": "code",
   "execution_count": 85,
   "id": "3f2fdcd7",
   "metadata": {},
   "outputs": [
    {
     "name": "stdout",
     "output_type": "stream",
     "text": [
      "[[1620, 98, 20, 881, 1082, 188, 2094, 1511, 22197, 559, 17455, 1115, 1776, 1119, 9, 921, 6122, 6054, 592, 99, 20, 1209, 22197, 2926, 1373, 912, 30, 882, 64, 9, 2410, 22197, 1102, 143, 20717, 1165, 13356, 22197], [15412, 12227, 3160, 426, 1365, 1297, 88, 124, 899, 202, 184, 1644, 686, 334, 804, 854, 3, 13, 715, 362, 568, 395, 12572, 656, 17, 2364, 3933, 804, 17, 1827, 1148, 196, 30, 11522, 3114, 596, 472, 394, 508, 12227, 1, 2872, 283], [690, 6884, 4478, 10055, 22198, 309, 44, 4479, 889, 59, 1184, 2302, 728, 5718, 947, 1171, 3504, 183, 771, 126, 890, 4819, 45, 16683, 1, 690, 6723, 1871, 1482, 10, 1294, 3075, 904, 6809, 5339, 762]]\n",
      "[[1116, 7177, 4422, 121, 19, 318, 14586, 15425, 23, 297, 1753, 2507, 8144, 2068, 18, 36, 18, 335, 114, 121, 5786, 640, 18, 1116, 826, 3613, 7466, 640, 189, 18, 1329, 5370, 33, 31, 1, 8144, 2068, 5118, 9851, 18], [429, 76, 100, 3988, 48, 61, 1, 455, 6681, 245, 21, 2679, 3931, 521, 1075, 1430, 185, 4085, 1078, 24, 604, 112, 21, 8660, 60, 133, 591, 8, 3105, 389, 455, 180, 185, 24], [27, 2, 544, 520, 841, 2738, 568, 15752, 12484, 425, 218, 871, 3658, 13, 434, 759, 9520, 78, 58, 6953, 16345, 501, 3055, 3429, 299, 113, 2903, 841, 6, 10292, 403, 2, 1522, 2821, 9272, 8781, 8244, 48, 8013]]\n"
     ]
    }
   ],
   "source": [
    "# 텍스트 시퀀스를 정수 시퀀스로 변환\n",
    "encoder_input_train = src_tokenizer.texts_to_sequences(encoder_input_train) \n",
    "encoder_input_test = src_tokenizer.texts_to_sequences(encoder_input_test)\n",
    "\n",
    "print(encoder_input_train[:3])\n",
    "print(encoder_input_test[:3])"
   ]
  },
  {
   "cell_type": "code",
   "execution_count": 86,
   "id": "6be3a4eb",
   "metadata": {},
   "outputs": [
    {
     "name": "stdout",
     "output_type": "stream",
     "text": [
      "단어 집합(vocabulary)의 크기 : 30123\n",
      "등장 빈도가 5번 이하인 희귀 단어의 수: 19705\n",
      "단어 집합에서 희귀 단어를 제외시킬 경우의 단어 집합의 크기 10418\n",
      "단어 집합에서 희귀 단어의 비율: 65.41513129502373\n",
      "전체 등장 빈도에서 희귀 단어 등장 빈도 비율: 4.645426389111684\n"
     ]
    }
   ],
   "source": [
    "# 인덱스 사전 만들기 - 디코더 입력용\n",
    "tar_tokenizer = Tokenizer()\n",
    "tar_tokenizer.fit_on_texts(decoder_input_train)\n",
    "\n",
    "word_freq_analysis(tar_tokenizer, 6)"
   ]
  },
  {
   "cell_type": "code",
   "execution_count": 87,
   "id": "bc2e95d2",
   "metadata": {},
   "outputs": [],
   "source": [
    "# 사전 재생성\n",
    "tar_vocab = 10500\n",
    "tar_tokenizer = Tokenizer(num_words=tar_vocab) \n",
    "tar_tokenizer.fit_on_texts(decoder_input_train)\n",
    "tar_tokenizer.fit_on_texts(decoder_target_train)"
   ]
  },
  {
   "cell_type": "code",
   "execution_count": 88,
   "id": "9a880771",
   "metadata": {},
   "outputs": [
    {
     "name": "stdout",
     "output_type": "stream",
     "text": [
      "[[1, 1598, 555, 3, 714, 4, 3892, 3893, 67, 1310], [1, 473, 1202, 700, 565, 145, 11, 111, 440, 3107, 660, 91], [1, 536, 1203, 18, 550, 2284, 51, 459]]\n",
      "[[1598, 555, 3, 714, 4, 3892, 3893, 67, 1310, 2], [473, 1202, 700, 565, 145, 11, 111, 440, 3107, 660, 91, 2], [536, 1203, 18, 550, 2284, 51, 459, 2]]\n"
     ]
    }
   ],
   "source": [
    "# 텍스트 시퀀스를 정수 시퀀스로 변환\n",
    "decoder_input_train = tar_tokenizer.texts_to_sequences(decoder_input_train) \n",
    "decoder_target_train = tar_tokenizer.texts_to_sequences(decoder_target_train)\n",
    "decoder_input_test = tar_tokenizer.texts_to_sequences(decoder_input_test)\n",
    "decoder_target_test = tar_tokenizer.texts_to_sequences(decoder_target_test)\n",
    "\n",
    "print(decoder_input_train[:3])\n",
    "print(decoder_target_train[:3])"
   ]
  },
  {
   "cell_type": "code",
   "execution_count": 89,
   "id": "0790c0f6",
   "metadata": {},
   "outputs": [
    {
     "name": "stdout",
     "output_type": "stream",
     "text": [
      "삭제할 훈련 데이터의 개수 : 0\n",
      "삭제할 테스트 데이터의 개수 : 0\n"
     ]
    }
   ],
   "source": [
    "# 문장의 길이기 1인 문장 검사\n",
    "drop_train = [index for index, sentence in enumerate(decoder_input_train) if len(sentence) == 1]\n",
    "drop_test = [index for index, sentence in enumerate(decoder_input_test) if len(sentence) == 1]\n",
    "\n",
    "print('삭제할 훈련 데이터의 개수 :', len(drop_train))\n",
    "print('삭제할 테스트 데이터의 개수 :', len(drop_test))"
   ]
  },
  {
   "cell_type": "code",
   "execution_count": 90,
   "id": "e1cf3ad2",
   "metadata": {},
   "outputs": [],
   "source": [
    "# pad 삽입\n",
    "from tensorflow.keras.preprocessing.sequence import pad_sequences\n",
    "\n",
    "encoder_input_train = pad_sequences(encoder_input_train, maxlen=max_text_len, padding='post')\n",
    "encoder_input_test = pad_sequences(encoder_input_test, maxlen=max_text_len, padding='post')\n",
    "\n",
    "decoder_input_train = pad_sequences(decoder_input_train, maxlen=max_headlines_len, padding='post')\n",
    "decoder_target_train = pad_sequences(decoder_target_train, maxlen=max_headlines_len, padding='post')\n",
    "decoder_input_test = pad_sequences(decoder_input_test, maxlen=max_headlines_len, padding='post')\n",
    "decoder_target_test = pad_sequences(decoder_target_test, maxlen=max_headlines_len, padding='post')"
   ]
  },
  {
   "cell_type": "code",
   "execution_count": 91,
   "id": "73eec8e9",
   "metadata": {},
   "outputs": [
    {
     "name": "stdout",
     "output_type": "stream",
     "text": [
      "Model: \"model_7\"\n",
      "__________________________________________________________________________________________________\n",
      "Layer (type)                    Output Shape         Param #     Connected to                     \n",
      "==================================================================================================\n",
      "input_13 (InputLayer)           [(None, 60)]         0                                            \n",
      "__________________________________________________________________________________________________\n",
      "input_14 (InputLayer)           [(None, None)]       0                                            \n",
      "__________________________________________________________________________________________________\n",
      "embedding_4 (Embedding)         (None, 60, 128)      3200000     input_13[0][0]                   \n",
      "__________________________________________________________________________________________________\n",
      "embedding_5 (Embedding)         (None, None, 128)    1344000     input_14[0][0]                   \n",
      "__________________________________________________________________________________________________\n",
      "lstm_4 (LSTM)                   [(None, 60, 256), (N 394240      embedding_4[0][0]                \n",
      "__________________________________________________________________________________________________\n",
      "lstm_5 (LSTM)                   [(None, None, 256),  394240      embedding_5[0][0]                \n",
      "                                                                 lstm_4[0][1]                     \n",
      "                                                                 lstm_4[0][2]                     \n",
      "__________________________________________________________________________________________________\n",
      "dense_2 (Dense)                 (None, None, 10500)  2698500     lstm_5[0][0]                     \n",
      "==================================================================================================\n",
      "Total params: 8,030,980\n",
      "Trainable params: 8,030,980\n",
      "Non-trainable params: 0\n",
      "__________________________________________________________________________________________________\n"
     ]
    }
   ],
   "source": [
    "# 모델 만들기\n",
    "from tensorflow.keras.layers import Input, LSTM, Embedding, Dense, Concatenate, TimeDistributed\n",
    "from tensorflow.keras.models import Model\n",
    "from tensorflow.keras.callbacks import EarlyStopping, ModelCheckpoint\n",
    "\n",
    "# 인코더\n",
    "embedding_dim = 128\n",
    "hidden_size = 256\n",
    "\n",
    "encoder_inputs = Input(shape=(max_text_len,))\n",
    "enc_emb = Embedding(src_vocab, embedding_dim)(encoder_inputs)\n",
    "encoder_lstm = LSTM(hidden_size, return_sequences=True, return_state=True ,dropout = 0.4)\n",
    "encoder_outputs, state_h, state_c = encoder_lstm(enc_emb)\n",
    "\n",
    "# 디코더\n",
    "decoder_inputs = Input(shape=(None,))\n",
    "\n",
    "dec_emb_layer = Embedding(tar_vocab, embedding_dim)\n",
    "dec_emb = dec_emb_layer(decoder_inputs)\n",
    "decoder_lstm = LSTM(hidden_size, return_sequences=True, return_state=True, dropout=0.4)\n",
    "decoder_outputs, _, _ = decoder_lstm(dec_emb, initial_state=[state_h, state_c])\n",
    "\n",
    "decoder_softmax_layer = Dense(tar_vocab, activation='softmax')\n",
    "decoder_softmax_outputs = decoder_softmax_layer(decoder_outputs) \n",
    "\n",
    "model = Model([encoder_inputs, decoder_inputs], decoder_softmax_outputs)\n",
    "model.summary()"
   ]
  },
  {
   "cell_type": "markdown",
   "id": "68ea68bf",
   "metadata": {},
   "source": [
    "- input_13 - embedding_4 - lstm_4 연결됨\n",
    "- input_14 - embedding_5 - lstm_5 - dense_2 연결됨 (lstm_5에 lstm_4의 출력 연결됨)\n",
    "\n",
    "- embedding_4의 파라미터 수: 128(임베딩 벡터 크기) * 25000(단어 수) = 3,200,000\n",
    "- embedding_5의 파라미터 수: 128(임베딩 벡터 크기) * 10500(단어 수) = 1,344,000\n",
    "- lstm_4의 파라미터 수: 4(내부 스테이트) * (128 * 256(W 메트릭스) + 256 * 256(U 메트릭스) + 256(b 벡터)) = 394,240\n",
    "- lstm_5의 파라미터 수: lstm_4와 동일\n",
    "- dense_2의 파라미터 수: (256(lstm_5의 출력) + 1(바이어스)) * 10500(타겟 단어수) = 2,698,500"
   ]
  },
  {
   "cell_type": "code",
   "execution_count": 92,
   "id": "19aacc53",
   "metadata": {},
   "outputs": [
    {
     "name": "stdout",
     "output_type": "stream",
     "text": [
      "Model: \"model_8\"\n",
      "__________________________________________________________________________________________________\n",
      "Layer (type)                    Output Shape         Param #     Connected to                     \n",
      "==================================================================================================\n",
      "input_13 (InputLayer)           [(None, 60)]         0                                            \n",
      "__________________________________________________________________________________________________\n",
      "input_14 (InputLayer)           [(None, None)]       0                                            \n",
      "__________________________________________________________________________________________________\n",
      "embedding_4 (Embedding)         (None, 60, 128)      3200000     input_13[0][0]                   \n",
      "__________________________________________________________________________________________________\n",
      "embedding_5 (Embedding)         (None, None, 128)    1344000     input_14[0][0]                   \n",
      "__________________________________________________________________________________________________\n",
      "lstm_4 (LSTM)                   [(None, 60, 256), (N 394240      embedding_4[0][0]                \n",
      "__________________________________________________________________________________________________\n",
      "lstm_5 (LSTM)                   [(None, None, 256),  394240      embedding_5[0][0]                \n",
      "                                                                 lstm_4[0][1]                     \n",
      "                                                                 lstm_4[0][2]                     \n",
      "__________________________________________________________________________________________________\n",
      "attention_layer (AdditiveAttent (None, None, 256)    256         lstm_5[0][0]                     \n",
      "                                                                 lstm_4[0][0]                     \n",
      "__________________________________________________________________________________________________\n",
      "concat_layer (Concatenate)      (None, None, 512)    0           lstm_5[0][0]                     \n",
      "                                                                 attention_layer[0][0]            \n",
      "__________________________________________________________________________________________________\n",
      "dense_3 (Dense)                 (None, None, 10500)  5386500     concat_layer[0][0]               \n",
      "==================================================================================================\n",
      "Total params: 10,719,236\n",
      "Trainable params: 10,719,236\n",
      "Non-trainable params: 0\n",
      "__________________________________________________________________________________________________\n"
     ]
    }
   ],
   "source": [
    "from tensorflow.keras.layers import AdditiveAttention\n",
    "\n",
    "# 어텐션 층(어텐션 함수)\n",
    "attn_layer = AdditiveAttention(name='attention_layer')\n",
    "\n",
    "# 인코더와 디코더의 모든 time step의 hidden state를 어텐션 층에 전달하고 결과를 리턴\n",
    "attn_out = attn_layer([decoder_outputs, encoder_outputs])\n",
    "\n",
    "# 어텐션의 결과와 디코더의 hidden state들을 연결\n",
    "decoder_concat_input = Concatenate(axis=-1, name='concat_layer')([decoder_outputs, attn_out])\n",
    "\n",
    "# 디코더의 출력층\n",
    "decoder_softmax_layer = Dense(tar_vocab, activation='softmax')\n",
    "decoder_softmax_outputs = decoder_softmax_layer(decoder_concat_input)\n",
    "\n",
    "# 모델 정의\n",
    "model = Model([encoder_inputs, decoder_inputs], decoder_softmax_outputs)\n",
    "model.summary()\n"
   ]
  },
  {
   "cell_type": "markdown",
   "id": "a126d3c3",
   "metadata": {},
   "source": [
    "- attention_layer 추가 되었고, lstm_5의 출력과 attention_layer 출력 합쳐서 dense 레이어로 전달 됨\n",
    "- dense_3의 파라미터: (512 + 1) * 10500 = 5,386,500"
   ]
  },
  {
   "cell_type": "code",
   "execution_count": 93,
   "id": "937b7f9a",
   "metadata": {},
   "outputs": [
    {
     "name": "stdout",
     "output_type": "stream",
     "text": [
      "Epoch 1/50\n",
      "308/308 [==============================] - 33s 98ms/step - loss: 4.3406 - val_loss: 4.0170\n",
      "Epoch 2/50\n",
      "308/308 [==============================] - 30s 97ms/step - loss: 3.9027 - val_loss: 3.7274\n",
      "Epoch 3/50\n",
      "308/308 [==============================] - 31s 99ms/step - loss: 3.6106 - val_loss: 3.4872\n",
      "Epoch 4/50\n",
      "308/308 [==============================] - 31s 99ms/step - loss: 3.3865 - val_loss: 3.3320\n",
      "Epoch 5/50\n",
      "308/308 [==============================] - 30s 99ms/step - loss: 3.2251 - val_loss: 3.2180\n",
      "Epoch 6/50\n",
      "308/308 [==============================] - 31s 99ms/step - loss: 3.0933 - val_loss: 3.1358\n",
      "Epoch 7/50\n",
      "308/308 [==============================] - 31s 99ms/step - loss: 2.9812 - val_loss: 3.0593\n",
      "Epoch 8/50\n",
      "308/308 [==============================] - 31s 100ms/step - loss: 2.8829 - val_loss: 3.0082\n",
      "Epoch 9/50\n",
      "308/308 [==============================] - 31s 100ms/step - loss: 2.7945 - val_loss: 2.9546\n",
      "Epoch 10/50\n",
      "308/308 [==============================] - 31s 99ms/step - loss: 2.7141 - val_loss: 2.9159\n",
      "Epoch 11/50\n",
      "308/308 [==============================] - 31s 99ms/step - loss: 2.6398 - val_loss: 2.8739\n",
      "Epoch 12/50\n",
      "308/308 [==============================] - 31s 100ms/step - loss: 2.5679 - val_loss: 2.8415\n",
      "Epoch 13/50\n",
      "308/308 [==============================] - 31s 99ms/step - loss: 2.5019 - val_loss: 2.8112\n",
      "Epoch 14/50\n",
      "308/308 [==============================] - 31s 99ms/step - loss: 2.4412 - val_loss: 2.7834\n",
      "Epoch 15/50\n",
      "308/308 [==============================] - 31s 99ms/step - loss: 2.3887 - val_loss: 2.7607\n",
      "Epoch 16/50\n",
      "308/308 [==============================] - 31s 100ms/step - loss: 2.3369 - val_loss: 2.7373\n",
      "Epoch 17/50\n",
      "308/308 [==============================] - 31s 100ms/step - loss: 2.2880 - val_loss: 2.7280\n",
      "Epoch 18/50\n",
      "308/308 [==============================] - 31s 100ms/step - loss: 2.2406 - val_loss: 2.7111\n",
      "Epoch 19/50\n",
      "308/308 [==============================] - 31s 100ms/step - loss: 2.1977 - val_loss: 2.6984\n",
      "Epoch 20/50\n",
      "308/308 [==============================] - 31s 99ms/step - loss: 2.1567 - val_loss: 2.6856\n",
      "Epoch 21/50\n",
      "308/308 [==============================] - 31s 100ms/step - loss: 2.1189 - val_loss: 2.6807\n",
      "Epoch 22/50\n",
      "308/308 [==============================] - 31s 100ms/step - loss: 2.0812 - val_loss: 2.6652\n",
      "Epoch 23/50\n",
      "308/308 [==============================] - 31s 100ms/step - loss: 2.0466 - val_loss: 2.6602\n",
      "Epoch 24/50\n",
      "308/308 [==============================] - 31s 100ms/step - loss: 2.0124 - val_loss: 2.6470\n",
      "Epoch 25/50\n",
      "308/308 [==============================] - 31s 100ms/step - loss: 1.9787 - val_loss: 2.6471\n",
      "Epoch 26/50\n",
      "308/308 [==============================] - 31s 100ms/step - loss: 1.9467 - val_loss: 2.6316\n",
      "Epoch 27/50\n",
      "308/308 [==============================] - 31s 100ms/step - loss: 1.9151 - val_loss: 2.6322\n",
      "Epoch 28/50\n",
      "308/308 [==============================] - 31s 100ms/step - loss: 1.8842 - val_loss: 2.6300\n",
      "Epoch 29/50\n",
      "308/308 [==============================] - 31s 100ms/step - loss: 1.8595 - val_loss: 2.6200\n",
      "Epoch 30/50\n",
      "308/308 [==============================] - 31s 100ms/step - loss: 1.8361 - val_loss: 2.6169\n",
      "Epoch 31/50\n",
      "308/308 [==============================] - 31s 99ms/step - loss: 1.8136 - val_loss: 2.6201\n",
      "Epoch 32/50\n",
      "308/308 [==============================] - 31s 100ms/step - loss: 1.7902 - val_loss: 2.6210\n",
      "Epoch 00032: early stopping\n"
     ]
    }
   ],
   "source": [
    "model.compile(optimizer='rmsprop', loss='sparse_categorical_crossentropy')\n",
    "es = EarlyStopping(monitor='val_loss', patience=2, verbose=1)\n",
    "history = model.fit(x=[encoder_input_train, decoder_input_train], y=decoder_target_train, \\\n",
    "          validation_data=([encoder_input_test, decoder_input_test], decoder_target_test), \\\n",
    "          batch_size=256, callbacks=[es], epochs=50)"
   ]
  },
  {
   "cell_type": "code",
   "execution_count": 94,
   "id": "045619e6",
   "metadata": {},
   "outputs": [
    {
     "data": {
      "image/png": "[encoded data removed]",
      "text/plain": [
       "<Figure size 432x288 with 1 Axes>"
      ]
     },
     "metadata": {
      "needs_background": "light"
     },
     "output_type": "display_data"
    }
   ],
   "source": [
    "# 학습 그래프\n",
    "plt.plot(history.history['loss'], label='train')\n",
    "plt.plot(history.history['val_loss'], label='test')\n",
    "plt.legend()\n",
    "plt.show()"
   ]
  },
  {
   "cell_type": "code",
   "execution_count": 95,
   "id": "b6f29890",
   "metadata": {},
   "outputs": [],
   "source": [
    "src_index_to_word = src_tokenizer.index_word # 원문 단어 집합에서 정수 -> 단어를 얻음\n",
    "tar_word_to_index = tar_tokenizer.word_index # 요약 단어 집합에서 단어 -> 정수를 얻음\n",
    "tar_index_to_word = tar_tokenizer.index_word # 요약 단어 집합에서 정수 -> 단어를 얻음"
   ]
  },
  {
   "cell_type": "code",
   "execution_count": 96,
   "id": "799eea3f",
   "metadata": {},
   "outputs": [],
   "source": [
    "# 인코더 설계\n",
    "encoder_model = Model(inputs=encoder_inputs, outputs=[encoder_outputs, state_h, state_c])\n",
    "\n",
    "# 이전 시점의 상태들을 저장하는 텐서\n",
    "decoder_state_input_h = Input(shape=(hidden_size,))\n",
    "decoder_state_input_c = Input(shape=(hidden_size,))\n",
    "\n",
    "dec_emb2 = dec_emb_layer(decoder_inputs)\n",
    "\n",
    "# 문장의 다음 단어를 예측하기 위해서 초기 상태(initial_state)를 이전 시점의 상태로 사용. 이는 뒤의 함수 decode_sequence()에 구현\n",
    "# 훈련 과정에서와 달리 LSTM의 리턴하는 은닉 상태와 셀 상태인 state_h와 state_c를 버리지 않음.\n",
    "decoder_outputs2, state_h2, state_c2 = decoder_lstm(dec_emb2, initial_state=[decoder_state_input_h, decoder_state_input_c])\n",
    "\n",
    "# code 7-10-3\n",
    "# 어텐션 함수\n",
    "decoder_hidden_state_input = Input(shape=(max_text_len, hidden_size))\n",
    "attn_out_inf = attn_layer([decoder_outputs2, decoder_hidden_state_input])\n",
    "decoder_inf_concat = Concatenate(axis=-1, name='concat')([decoder_outputs2, attn_out_inf])\n",
    "\n",
    "# 디코더의 출력층\n",
    "decoder_outputs2 = decoder_softmax_layer(decoder_inf_concat) \n",
    "\n",
    "# 최종 디코더 모델\n",
    "decoder_model = Model(\n",
    "    [decoder_inputs] + [decoder_hidden_state_input,decoder_state_input_h, decoder_state_input_c],\n",
    "    [decoder_outputs2] + [state_h2, state_c2])"
   ]
  },
  {
   "cell_type": "code",
   "execution_count": 97,
   "id": "1876981a",
   "metadata": {},
   "outputs": [
    {
     "name": "stdout",
     "output_type": "stream",
     "text": [
      "Model: \"model_9\"\n",
      "_________________________________________________________________\n",
      "Layer (type)                 Output Shape              Param #   \n",
      "=================================================================\n",
      "input_13 (InputLayer)        [(None, 60)]              0         \n",
      "_________________________________________________________________\n",
      "embedding_4 (Embedding)      (None, 60, 128)           3200000   \n",
      "_________________________________________________________________\n",
      "lstm_4 (LSTM)                [(None, 60, 256), (None,  394240    \n",
      "=================================================================\n",
      "Total params: 3,594,240\n",
      "Trainable params: 3,594,240\n",
      "Non-trainable params: 0\n",
      "_________________________________________________________________\n"
     ]
    }
   ],
   "source": [
    "encoder_model.summary()"
   ]
  },
  {
   "cell_type": "markdown",
   "id": "0d9bb2ac",
   "metadata": {},
   "source": [
    "- embedding_4 레이어와 lstm_4 레이어는 위의 학습된 모델에서 가지고 온 것임"
   ]
  },
  {
   "cell_type": "code",
   "execution_count": 98,
   "id": "87c8fdcc",
   "metadata": {},
   "outputs": [
    {
     "name": "stdout",
     "output_type": "stream",
     "text": [
      "Model: \"model_10\"\n",
      "__________________________________________________________________________________________________\n",
      "Layer (type)                    Output Shape         Param #     Connected to                     \n",
      "==================================================================================================\n",
      "input_14 (InputLayer)           [(None, None)]       0                                            \n",
      "__________________________________________________________________________________________________\n",
      "embedding_5 (Embedding)         (None, None, 128)    1344000     input_14[0][0]                   \n",
      "__________________________________________________________________________________________________\n",
      "input_15 (InputLayer)           [(None, 256)]        0                                            \n",
      "__________________________________________________________________________________________________\n",
      "input_16 (InputLayer)           [(None, 256)]        0                                            \n",
      "__________________________________________________________________________________________________\n",
      "lstm_5 (LSTM)                   [(None, None, 256),  394240      embedding_5[1][0]                \n",
      "                                                                 input_15[0][0]                   \n",
      "                                                                 input_16[0][0]                   \n",
      "__________________________________________________________________________________________________\n",
      "input_17 (InputLayer)           [(None, 60, 256)]    0                                            \n",
      "__________________________________________________________________________________________________\n",
      "attention_layer (AdditiveAttent (None, None, 256)    256         lstm_5[1][0]                     \n",
      "                                                                 input_17[0][0]                   \n",
      "__________________________________________________________________________________________________\n",
      "concat (Concatenate)            (None, None, 512)    0           lstm_5[1][0]                     \n",
      "                                                                 attention_layer[1][0]            \n",
      "__________________________________________________________________________________________________\n",
      "dense_3 (Dense)                 (None, None, 10500)  5386500     concat[0][0]                     \n",
      "==================================================================================================\n",
      "Total params: 7,124,996\n",
      "Trainable params: 7,124,996\n",
      "Non-trainable params: 0\n",
      "__________________________________________________________________________________________________\n"
     ]
    }
   ],
   "source": [
    "decoder_model.summary()"
   ]
  },
  {
   "cell_type": "markdown",
   "id": "c75826c6",
   "metadata": {},
   "source": [
    "- embedding_5, lstm_5, attention_layer, dense_3 레이어 모두 위의 학습된 모델에서 가지고 온 것임"
   ]
  },
  {
   "cell_type": "code",
   "execution_count": 99,
   "id": "c0939f4d",
   "metadata": {},
   "outputs": [],
   "source": [
    "def decode_sequence(input_seq):\n",
    "    # 입력으로부터 인코더의 상태를 얻음\n",
    "    #print(input_seq)\n",
    "    e_out, e_h, e_c = encoder_model.predict(input_seq) # 인코더 모델은 불완전한 구현이 아닌가?\n",
    "    #print(e_out, e_out.shape)\n",
    "    #print(e_h, e_h.shape)\n",
    "    #print(e_c, e_c.shape)\n",
    "\n",
    "     # <SOS>에 해당하는 토큰 생성\n",
    "    target_seq = np.zeros((1,1))\n",
    "    target_seq[0, 0] = tar_word_to_index['sostoken']\n",
    "\n",
    "    stop_condition = False\n",
    "    decoded_sentence = ''\n",
    "    while not stop_condition: # stop_condition이 True가 될 때까지 루프 반복\n",
    "\n",
    "        output_tokens, h, c = decoder_model.predict([target_seq] + [e_out, e_h, e_c])\n",
    "        sampled_token_index = np.argmax(output_tokens[0, -1, :])\n",
    "        sampled_token = tar_index_to_word[sampled_token_index]\n",
    "\n",
    "        if (sampled_token!='eostoken'):\n",
    "            decoded_sentence += ' '+sampled_token\n",
    "\n",
    "        #  <eos>에 도달하거나 최대 길이를 넘으면 중단.\n",
    "        if (sampled_token == 'eostoken'  or len(decoded_sentence.split()) >= (max_headlines_len-1)):\n",
    "            stop_condition = True\n",
    "\n",
    "        # 길이가 1인 타겟 시퀀스를 업데이트\n",
    "        target_seq = np.zeros((1,1))\n",
    "        target_seq[0, 0] = sampled_token_index\n",
    "\n",
    "        # 상태를 업데이트 합니다.\n",
    "        e_h, e_c = h, c\n",
    "\n",
    "    return decoded_sentence"
   ]
  },
  {
   "cell_type": "code",
   "execution_count": 100,
   "id": "894727d7",
   "metadata": {},
   "outputs": [],
   "source": [
    "# 원문의 정수 시퀀스를 텍스트 시퀀스로 변환\n",
    "def seq2text(input_seq):\n",
    "    #print(input_seq)\n",
    "    temp=''\n",
    "    for i in input_seq:\n",
    "        if (i!=0):\n",
    "            temp = temp + src_index_to_word[i]+' '\n",
    "    return temp\n",
    "\n",
    "# 요약문의 정수 시퀀스를 텍스트 시퀀스로 변환\n",
    "def seq2summary(input_seq):\n",
    "    #print(input_seq)\n",
    "    temp=''\n",
    "    for i in input_seq[1:]:\n",
    "        if (i!=0):\n",
    "            temp = temp + tar_index_to_word[i]+' '\n",
    "    return temp"
   ]
  },
  {
   "cell_type": "code",
   "execution_count": 101,
   "id": "d38ecc8c",
   "metadata": {},
   "outputs": [
    {
     "name": "stdout",
     "output_type": "stream",
     "text": [
      "원문 : billionaire lakshmi mittal led world largest steelmaker arcelormittal reportedly raised bid acquire essar steel crore earlier crore russia bank led consortium offered crore billionaire anil agarwal vedanta offered nearly crore debt laden company reports said essar steel owes creditors crore \n",
      "실제 요약 : raises essar steel bid to cr report \n",
      "예측 요약 :  tata steel to buy cr for cr in bid\n"
     ]
    }
   ],
   "source": [
    "# 테스트\n",
    "print(\"원문 :\", seq2text(encoder_input_test[0]))\n",
    "print(\"실제 요약 :\", seq2summary(decoder_input_test[0]))\n",
    "print(\"예측 요약 :\", decode_sequence(encoder_input_test[0].reshape(1, max_text_len)))"
   ]
  },
  {
   "cell_type": "markdown",
   "id": "7c4c3c07",
   "metadata": {},
   "source": [
    "### Extractive 요약"
   ]
  },
  {
   "cell_type": "code",
   "execution_count": 102,
   "id": "6ed29bd8",
   "metadata": {},
   "outputs": [],
   "source": [
    "# 관련 라이브러리 -> 테스트 결과 요약이 안되는 것 같아 키워드 추출 라이브러리도 포함\n",
    "from summa.summarizer import summarize\n",
    "from summa.keywords import keywords"
   ]
  },
  {
   "cell_type": "code",
   "execution_count": 103,
   "id": "d43caba6",
   "metadata": {},
   "outputs": [
    {
     "name": "stdout",
     "output_type": "stream",
     "text": [
      "원문:  congress president rahul gandhi claimed goa cm manohar parrikar told nothing new rafale deal osd parrikar prasanna karthik called rahul compulsive liar karthik accused rahul shamelessly lying parrikar claiming wanted meet cm wish latter speedy recovery\n",
      "실제 요약:  rahul gandhi is compulsive liar says goa cm osd\n",
      "Summa summarize:  \n",
      "Summa keywords:  parrikar\n",
      "rahul\n",
      "cm\n",
      "claimed\n",
      "claiming\n",
      "karthik\n"
     ]
    }
   ],
   "source": [
    "# 테스트\n",
    "print(\"원문: \", data['text'][124])\n",
    "print(\"실제 요약: \", data['headlines'][124])\n",
    "print(\"Summa summarize: \", summarize(data['text'][124], ratio=0.1))\n",
    "print(\"Summa keywords: \", keywords(data['text'][124]))"
   ]
  },
  {
   "cell_type": "markdown",
   "id": "3beff9f7",
   "metadata": {},
   "source": [
    "### 종합 비교"
   ]
  },
  {
   "cell_type": "code",
   "execution_count": 106,
   "id": "a8a2443e",
   "metadata": {},
   "outputs": [
    {
     "name": "stdout",
     "output_type": "stream",
     "text": [
      "1) 원문:  billionaire lakshmi mittal led world largest steelmaker arcelormittal reportedly raised bid acquire essar steel crore earlier crore russia vtb bank led consortium offered crore billionaire anil agarwal vedanta offered nearly crore debt laden company reports said essar steel owes creditors crore\n",
      "2) 전처리된 원문:  billionaire lakshmi mittal led world largest steelmaker arcelormittal reportedly raised bid acquire essar steel crore earlier crore russia bank led consortium offered crore billionaire anil agarwal vedanta offered nearly crore debt laden company reports said essar steel owes creditors crore \n",
      "3) 요약문:  arcelormittal raises essar steel bid to cr report eostoken\n",
      "4) 전처리된 요약문:  raises essar steel bid to cr report \n",
      "5) 어텐션 모델 요약:   tata steel to buy cr for cr in bid\n",
      "6) Summa 모델 요약:  \n",
      "7) Summa 모델 키워드:  crore\n",
      "reportedly\n",
      "reports\n",
      "led\n",
      "offered\n",
      "essar\n",
      "billionaire\n",
      "\n",
      "\n",
      "1) 원문:  punjab cm captain amarinder singh tuesday said student unions across state colleges universities allowed hold direct elections academic session years banned due state militancy comes month haryana government lifted ban student union elections years\n",
      "2) 전처리된 원문:  punjab cm captain amarinder singh tuesday said student unions across state colleges universities allowed hold direct elections academic session years banned due state militancy comes month haryana government lifted ban student union elections years \n",
      "3) 요약문:  punjab to hold student union elections years after ban eostoken\n",
      "4) 전처리된 요약문:  punjab to hold student union elections years after ban \n",
      "5) 어텐션 모델 요약:   punjab cm colleges to be barred from state in punjab\n",
      "6) Summa 모델 요약:  \n",
      "7) Summa 모델 키워드:  elections\n",
      "student\n",
      "ban\n",
      "years banned\n",
      "cm\n",
      "\n",
      "\n",
      "1) 원문:  former india batsman sachin tendulkar childhood coach ramakant achrekar passed away aged owing old age related ailments mumbai wednesday conferred dronacharya award padma shri services cricket besides tendulkar also coached ex india cricketers vinod kambli pravin amre sameer dighe balwinder singh sandhu\n",
      "2) 전처리된 원문:  former india batsman sachin tendulkar childhood coach ramakant achrekar passed away aged owing old age related ailments mumbai wednesday conferred dronacharya award padma shri services cricket besides tendulkar also coached ex india cricketers vinod kambli pravin sameer singh sandhu \n",
      "3) 요약문:  sachin tendulkar childhood coach ramakant achrekar dies aged eostoken\n",
      "4) 전처리된 요약문:  sachin tendulkar childhood coach achrekar dies aged \n",
      "5) 어텐션 모델 요약:   sachin tendulkar first coach to be made in cricket\n",
      "6) Summa 모델 요약:  \n",
      "7) Summa 모델 키워드:  aged\n",
      "age\n",
      "coach\n",
      "coached\n",
      "cricket\n",
      "cricketers\n",
      "india\n",
      "balwinder singh\n",
      "\n",
      "\n",
      "1) 원문:  defending muslim women bill bjp leader meenakshi lekhi said suraa holy quran talaq biddat mentioned vs issues human rights violation added constitution talks uniform civil code uniform religious code\n",
      "2) 전처리된 원문:  defending muslim women bill bjp leader meenakshi lekhi said holy quran talaq biddat mentioned vs issues human rights violation added constitution talks uniform civil code uniform religious code \n",
      "3) 요약문:  triple talaq bill not about he vs she meenakshi lekhi eostoken\n",
      "4) 전처리된 요약문:  triple talaq bill not about he vs she \n",
      "5) 어텐션 모델 요약:   muslim body on triple talaq bill to be\n",
      "6) Summa 모델 요약:  \n",
      "7) Summa 모델 키워드:  defending muslim women\n",
      "leader meenakshi\n",
      "\n",
      "\n",
      "1) 원문:  mumbai based online fashion rental platform flyrobe raised around million funding round led sequoia capital idg ventures flyrobe co founders pranay surana shreya mishra also participated round founded three iit bombay alumni startup offers occasion wear rent men women\n",
      "2) 전처리된 원문:  mumbai based online fashion rental platform raised around million funding round led sequoia capital idg ventures co founders pranay shreya mishra also participated round founded three iit bombay alumni startup offers occasion wear rent men women \n",
      "3) 요약문:  sequoia leads funding round in fashion rental firm flyrobe eostoken\n",
      "4) 전처리된 요약문:  sequoia leads funding round in fashion rental firm \n",
      "5) 어텐션 모델 요약:   mumbai based startup raises mn in series\n",
      "6) Summa 모델 요약:  \n",
      "7) Summa 모델 키워드:  round\n",
      "flyrobe\n",
      "pranay surana shreya\n",
      "men\n",
      "\n",
      "\n"
     ]
    }
   ],
   "source": [
    "for i in range(5):\n",
    "    print(\"1) 원문: \", text_input_test[i])\n",
    "    print(\"2) 전처리된 원문: \", seq2text(encoder_input_test[i]))\n",
    "    print(\"3) 요약문: \", text_target_test[i])\n",
    "    print(\"4) 전처리된 요약문: \", seq2summary(decoder_input_test[i]))\n",
    "    print(\"5) 어텐션 모델 요약: \", decode_sequence(encoder_input_test[i].reshape(1, max_text_len)))\n",
    "    print(\"6) Summa 모델 요약: \", summarize(text_input_test[i]))\n",
    "    print(\"7) Summa 모델 키워드: \", keywords(text_input_test[i]))\n",
    "    print(\"\\n\")"
   ]
  },
  {
   "cell_type": "markdown",
   "id": "73cdfbda",
   "metadata": {},
   "source": [
    "### 회고\n",
    "- Summa 모델이 요약을 전혀 해주지 못하고 있습니다.\n",
    "문장이 짧아서 요약을 하지 못하는 것이 아닌가 예상됩니다.\n",
    "공식 홈페이지에서도 자세한 사용법을 찾을 수 없어 원인 분석 어려웠습니다.\n",
    "- Attention 모델도 요약이 잘 되고 있다는 생각은 안 듭니다.\n",
    "레이어 수나 하이퍼파라미터 조정 후 추가 테스트를 하면 좋을 것 같습니다."
   ]
  },
  {
   "cell_type": "code",
   "execution_count": null,
   "id": "ac0c6114",
   "metadata": {},
   "outputs": [],
   "source": []
  },
  {
   "cell_type": "code",
   "execution_count": null,
   "id": "f9aeae64",
   "metadata": {},
   "outputs": [],
   "source": []
  }
 ],
 "metadata": {
  "kernelspec": {
   "display_name": "Python 3 (ipykernel)",
   "language": "python",
   "name": "python3"
  },
  "language_info": {
   "codemirror_mode": {
    "name": "ipython",
    "version": 3
   },
   "file_extension": ".py",
   "mimetype": "text/x-python",
   "name": "python",
   "nbconvert_exporter": "python",
   "pygments_lexer": "ipython3",
   "version": "3.9.7"
  }
 },
 "nbformat": 4,
 "nbformat_minor": 5
}
