{
 "cells": [
  {
   "cell_type": "code",
   "execution_count": 48,
   "id": "72910518",
   "metadata": {},
   "outputs": [],
   "source": [
    "from sklearn.datasets import load_diabetes\n",
    "\n",
    "# 데이터 로딩\n",
    "diabetes = load_diabetes()\n",
    "\n",
    "df_X = diabetes.data\n",
    "df_y = diabetes.target"
   ]
  },
  {
   "cell_type": "code",
   "execution_count": 49,
   "id": "147f9e8d",
   "metadata": {},
   "outputs": [],
   "source": [
    "import numpy as np\n",
    "\n",
    "# 읽어온 데이터를 np.array 타입으로 변환\n",
    "df_X = np.array(df_X)\n",
    "df_y = np.array(df_y)"
   ]
  },
  {
   "cell_type": "code",
   "execution_count": 50,
   "id": "a0025146",
   "metadata": {},
   "outputs": [],
   "source": [
    "from sklearn.model_selection import train_test_split\n",
    "\n",
    "# 데이터를 train set과 test set으로 구분\n",
    "X_train, X_test, y_train, y_test = train_test_split(df_X, df_y, test_size=0.2, random_state=250110)"
   ]
  },
  {
   "cell_type": "code",
   "execution_count": 51,
   "id": "71109c2b",
   "metadata": {},
   "outputs": [
    {
     "data": {
      "text/plain": [
       "((353, 10), (89, 10), (353,), (89,))"
      ]
     },
     "execution_count": 51,
     "metadata": {},
     "output_type": "execute_result"
    }
   ],
   "source": [
    "# 데이터의 차원 확인\n",
    "X_train.shape, X_test.shape, y_train.shape, y_test.shape"
   ]
  },
  {
   "cell_type": "code",
   "execution_count": 52,
   "id": "a354ae1d",
   "metadata": {},
   "outputs": [],
   "source": [
    "# 모델의 파라미터 초기화\n",
    "W = np.random.rand(10)\n",
    "b = np.random.rand()\n",
    "\n",
    "# 모델 함수\n",
    "def model(X, W, b):\n",
    "    predictions = 0\n",
    "    for i in range(10):\n",
    "        predictions += X[:, i] * [i]\n",
    "    predictions += b\n",
    "    return predictions        "
   ]
  },
  {
   "cell_type": "code",
   "execution_count": 53,
   "id": "7bd1fc0d",
   "metadata": {},
   "outputs": [],
   "source": [
    "# Loss 계산을 위한 MSE 계산 함수\n",
    "def MSE(truth, predictions):\n",
    "    mse = ((truth - predictions) ** 2).mean()\n",
    "    return mse"
   ]
  },
  {
   "cell_type": "code",
   "execution_count": 54,
   "id": "4400ae0a",
   "metadata": {},
   "outputs": [],
   "source": [
    "# Loss 함수\n",
    "def loss(X, W, b, y):\n",
    "    predictions = model(X, W, b)\n",
    "    L = MSE(y, predictions)\n",
    "    return L"
   ]
  },
  {
   "cell_type": "code",
   "execution_count": 55,
   "id": "7609ddd1",
   "metadata": {},
   "outputs": [],
   "source": [
    "# 학습을 위한 gradient 계산\n",
    "def gradient(X, W, b, y):\n",
    "    N = len(y)\n",
    "    \n",
    "    y_pred = model(X, W, b)\n",
    "    \n",
    "    dW = 1/N * 2 * X.T.dot(y_pred - y)\n",
    "    db = 2 * (y_pred - y).mean()\n",
    "    \n",
    "    return dW, db"
   ]
  },
  {
   "cell_type": "code",
   "execution_count": 56,
   "id": "0f6531f9",
   "metadata": {},
   "outputs": [],
   "source": [
    "# Learning Rate\n",
    "learning_rate = 0.001"
   ]
  },
  {
   "cell_type": "code",
   "execution_count": 57,
   "id": "27fcf310",
   "metadata": {},
   "outputs": [
    {
     "name": "stdout",
     "output_type": "stream",
     "text": [
      "Iteration 100: Loss 21891.286407358755\n",
      "Iteration 200: Loss 16657.99112253264\n",
      "Iteration 300: Loss 13151.41317176836\n",
      "Iteration 400: Loss 10801.824957161292\n",
      "Iteration 500: Loss 9227.479582344453\n",
      "Iteration 600: Loss 8172.586923367753\n",
      "Iteration 700: Loss 7465.754394900229\n",
      "Iteration 800: Loss 6992.140118558182\n",
      "Iteration 900: Loss 6674.794108405922\n",
      "Iteration 1000: Loss 6462.155902190139\n",
      "Iteration 1100: Loss 6319.677328972944\n",
      "Iteration 1200: Loss 6224.209331065695\n",
      "Iteration 1300: Loss 6160.240845007622\n",
      "Iteration 1400: Loss 6117.378657696048\n",
      "Iteration 1500: Loss 6088.658779919592\n",
      "Iteration 1600: Loss 6069.414979469126\n",
      "Iteration 1700: Loss 6056.520639922839\n",
      "Iteration 1800: Loss 6047.88076690177\n",
      "Iteration 1900: Loss 6042.091606041511\n",
      "Iteration 2000: Loss 6038.212569464906\n"
     ]
    }
   ],
   "source": [
    "# 학습; gradient 계산 -> 가중치 업데이트 -> Loss 계산 과정 반복\n",
    "losses = []\n",
    "for i in range(1, 2001):\n",
    "    dW, db = gradient(X_train, W, b, y_train)\n",
    "    W -= learning_rate * dW\n",
    "    b -= learning_rate * db\n",
    "    L = loss(X_train, W, b, y_train)\n",
    "    losses.append(L)\n",
    "    \n",
    "    if i % 100 == 0:\n",
    "        print(f'Iteration {i}: Loss {L}')\n"
   ]
  },
  {
   "cell_type": "code",
   "execution_count": 58,
   "id": "e631f4ef",
   "metadata": {},
   "outputs": [
    {
     "data": {
      "text/plain": [
       "5039.827995038341"
      ]
     },
     "execution_count": 58,
     "metadata": {},
     "output_type": "execute_result"
    }
   ],
   "source": [
    "# Test set에 대한 예측 수행하고, mse 확인\n",
    "prediction = model(X_test, W, b)\n",
    "mse = loss(X_test, W, b, y_test)\n",
    "mse"
   ]
  },
  {
   "cell_type": "code",
   "execution_count": 59,
   "id": "6ea4f0e9",
   "metadata": {},
   "outputs": [
    {
     "data": {
      "image/png": "[encoded data removed]",
      "text/plain": [
       "<Figure size 432x288 with 1 Axes>"
      ]
     },
     "metadata": {
      "image/png": {
       "height": 248,
       "width": 375
      },
      "needs_background": "light"
     },
     "output_type": "display_data"
    }
   ],
   "source": [
    "# 그래프로 표현\n",
    "import matplotlib.pyplot as plt\n",
    "%matplotlib inline \n",
    "%config InlineBackend.figure_format = 'retina'\n",
    "\n",
    "plt.scatter(X_test[:, 0], y_test)\n",
    "plt.scatter(X_test[:, 0], prediction)\n",
    "plt.show()"
   ]
  },
  {
   "cell_type": "code",
   "execution_count": 60,
   "id": "0fe5c937",
   "metadata": {},
   "outputs": [
    {
     "data": {
      "text/plain": [
       "array([ 2.90886016,  0.9169499 ,  9.75797479,  6.82945508,  3.33313818,\n",
       "        3.05625955, -5.73709703,  6.70715213,  9.0716658 ,  6.39714674])"
      ]
     },
     "execution_count": 60,
     "metadata": {},
     "output_type": "execute_result"
    }
   ],
   "source": [
    "# 가중치 값 확인\n",
    "W"
   ]
  },
  {
   "cell_type": "code",
   "execution_count": 61,
   "id": "7865d5b3",
   "metadata": {},
   "outputs": [
    {
     "data": {
      "text/plain": [
       "151.834731071307"
      ]
     },
     "execution_count": 61,
     "metadata": {},
     "output_type": "execute_result"
    }
   ],
   "source": [
    "b"
   ]
  },
  {
   "cell_type": "code",
   "execution_count": 62,
   "id": "8988a3a4",
   "metadata": {},
   "outputs": [
    {
     "data": {
      "image/png": "[encoded data removed]",
      "text/plain": [
       "<Figure size 432x288 with 1 Axes>"
      ]
     },
     "metadata": {
      "image/png": {
       "height": 248,
       "width": 375
      },
      "needs_background": "light"
     },
     "output_type": "display_data"
    }
   ],
   "source": [
    "# truth와 예측값 간의 상관관계 시각화\n",
    "plt.scatter(y_test, prediction)\n",
    "plt.show()"
   ]
  },
  {
   "cell_type": "code",
   "execution_count": null,
   "id": "80c64fda",
   "metadata": {},
   "outputs": [],
   "source": []
  }
 ],
 "metadata": {
  "kernelspec": {
   "display_name": "Python 3 (ipykernel)",
   "language": "python",
   "name": "python3"
  },
  "language_info": {
   "codemirror_mode": {
    "name": "ipython",
    "version": 3
   },
   "file_extension": ".py",
   "mimetype": "text/x-python",
   "name": "python",
   "nbconvert_exporter": "python",
   "pygments_lexer": "ipython3",
   "version": "3.9.7"
  }
 },
 "nbformat": 4,
 "nbformat_minor": 5
}
