{
 "cells": [
  {
   "cell_type": "code",
   "execution_count": 13,
   "id": "af40299d",
   "metadata": {},
   "outputs": [],
   "source": [
    "# 관련 라이브러리 import\n",
    "import warnings\n",
    "warnings.filterwarnings(\"ignore\")\n",
    "\n",
    "import os\n",
    "from os.path import join\n",
    "\n",
    "import pandas as pd\n",
    "import numpy as np\n",
    "\n",
    "import xgboost as xgb\n",
    "import lightgbm as lgb\n",
    "from sklearn.ensemble import GradientBoostingRegressor, RandomForestRegressor\n",
    "\n",
    "from sklearn.model_selection import train_test_split\n",
    "from sklearn.metrics import mean_squared_error\n",
    "\n",
    "from sklearn.model_selection import GridSearchCV"
   ]
  },
  {
   "cell_type": "code",
   "execution_count": 55,
   "id": "a3d7ed72",
   "metadata": {},
   "outputs": [
    {
     "name": "stdout",
     "output_type": "stream",
     "text": [
      "/aiffel/aiffel/kaggle_kakr_housing/data/train.csv\n",
      "/aiffel/aiffel/kaggle_kakr_housing/data/test.csv\n",
      "train data dim : (15035, 21)\n",
      "sub data dim : (6468, 20)\n"
     ]
    }
   ],
   "source": [
    "# 데이터 가져오기\n",
    "data_dir = os.getenv('HOME')+'/aiffel/kaggle_kakr_housing/data'\n",
    "\n",
    "train_data_path = join(data_dir, 'train.csv')\n",
    "sub_data_path = join(data_dir, 'test.csv')\n",
    "\n",
    "print(train_data_path)\n",
    "print(sub_data_path)\n",
    "\n",
    "train = pd.read_csv(train_data_path)\n",
    "sub = pd.read_csv(sub_data_path)\n",
    "\n",
    "print(f'train data dim : {train.shape}')\n",
    "print(f'sub data dim : {sub.shape}')"
   ]
  },
  {
   "cell_type": "code",
   "execution_count": 56,
   "id": "5d851a31",
   "metadata": {},
   "outputs": [
    {
     "name": "stdout",
     "output_type": "stream",
     "text": [
      "Index(['id', 'date', 'bedrooms', 'bathrooms', 'sqft_living', 'sqft_lot',\n",
      "       'floors', 'waterfront', 'view', 'condition', 'grade', 'sqft_above',\n",
      "       'sqft_basement', 'yr_built', 'yr_renovated', 'zipcode', 'lat', 'long',\n",
      "       'sqft_living15', 'sqft_lot15'],\n",
      "      dtype='object')\n"
     ]
    }
   ],
   "source": [
    "# 학습 데이터에서 정답 분리\n",
    "y = train['price']\n",
    "del train['price']\n",
    "\n",
    "print(train.columns)\n",
    "\n",
    "# 데이터 전처리\n",
    "train['date'] = train['date'].apply(lambda i: i[:6]).astype(int)\n",
    "sub['date'] = sub['date'].apply(lambda i: i[:6]).astype(int)"
   ]
  },
  {
   "cell_type": "code",
   "execution_count": 57,
   "id": "a5edde42",
   "metadata": {},
   "outputs": [
    {
     "name": "stdout",
     "output_type": "stream",
     "text": [
      "21503\n",
      "id : 0\n",
      "date : 0\n",
      "bedrooms : 0\n",
      "bathrooms : 0\n",
      "sqft_living : 0\n",
      "sqft_lot : 0\n",
      "floors : 0\n",
      "waterfront : 0\n",
      "view : 0\n",
      "condition : 0\n",
      "grade : 0\n",
      "sqft_above : 0\n",
      "sqft_basement : 0\n",
      "yr_built : 0\n",
      "yr_renovated : 0\n",
      "zipcode : 0\n",
      "lat : 0\n",
      "long : 0\n",
      "sqft_living15 : 0\n",
      "sqft_lot15 : 0\n"
     ]
    }
   ],
   "source": [
    "# 데이터 결측치 검사\n",
    "data = pd.concat((train, sub), axis=0)\n",
    "\n",
    "print(len(data))\n",
    "\n",
    "for c in data.columns:\n",
    "    print('{} : {}'.format(c, len(data.loc[pd.isnull(data[c]), c].values)))"
   ]
  },
  {
   "cell_type": "code",
   "execution_count": 58,
   "id": "bccabca0",
   "metadata": {},
   "outputs": [],
   "source": [
    "random_state = 250113\n",
    "\n",
    "# 데이터 분리\n",
    "X_train, X_test, y_train, y_test = train_test_split(train, y, test_size=0.1, random_state=random_state)\n"
   ]
  },
  {
   "cell_type": "code",
   "execution_count": 59,
   "id": "9590f73a",
   "metadata": {},
   "outputs": [],
   "source": [
    "# 모델 생성\n",
    "gboost = GradientBoostingRegressor(random_state=random_state)\n",
    "xgboost = xgb.XGBRegressor(random_state=random_state)\n",
    "lightgbm = lgb.LGBMRegressor(random_state=random_state)\n",
    "rdforest = RandomForestRegressor(random_state=random_state)\n",
    "\n",
    "models = [gboost, xgboost, lightgbm, rdforest]\n"
   ]
  },
  {
   "cell_type": "code",
   "execution_count": 60,
   "id": "5e104890",
   "metadata": {},
   "outputs": [],
   "source": [
    "def rmse(y_test, y_pred):\n",
    "    return np.sqrt(mean_squared_error(np.expm1(y_test), np.expm1(y_pred)))\n"
   ]
  },
  {
   "cell_type": "code",
   "execution_count": 61,
   "id": "bdd95062",
   "metadata": {},
   "outputs": [],
   "source": [
    "# 하이퍼 파라미터 최적화를 위한 함수\n",
    "def my_GridSearch(model, train, y, param_grid, verbose=2, n_jobs=5):\n",
    "    # GridSearchCV\n",
    "    grid_model = GridSearchCV(model, param_grid=param_grid, scoring='neg_mean_squared_error', cv=5, verbose=verbose, n_jobs=n_jobs)\n",
    "\n",
    "    # 모델 fit\n",
    "    grid_model.fit(train, y)\n",
    "\n",
    "    params = grid_model.cv_results_['params']\n",
    "    score = grid_model.cv_results_['mean_test_score']\n",
    "\n",
    "    results = pd.DataFrame(params)\n",
    "    results['score'] = score\n",
    "    results['RMSLE'] = np.sqrt(-1 * results['score'])\n",
    "    results = results.sort_values('RMSLE')\n",
    "\n",
    "    return results"
   ]
  },
  {
   "cell_type": "code",
   "execution_count": 75,
   "id": "2e039d03",
   "metadata": {},
   "outputs": [],
   "source": [
    "# 하이퍼 파라미터 설정값\n",
    "param_grid = {\n",
    "    'num_leaves': [31, 63],\n",
    "    'max_depth': [10, 30, 50],\n",
    "    'n_estimators': [100, 300, 500]\n",
    "}"
   ]
  },
  {
   "cell_type": "code",
   "execution_count": 63,
   "id": "f2d53933",
   "metadata": {},
   "outputs": [],
   "source": [
    "# 데이터 선택\n",
    "#features = ['date', 'bedrooms', 'bathrooms', 'sqft_living', 'sqft_lot', 'floors', 'waterfront', 'view', 'condition', 'grade', 'sqft_above', 'sqft_basement', 'yr_built', 'yr_renovated', 'sqft_living15', 'sqft_lot15']\n",
    "\n",
    "#train = train[features]\n",
    "y = np.log1p(y)"
   ]
  },
  {
   "cell_type": "code",
   "execution_count": 48,
   "id": "d11fb6eb",
   "metadata": {},
   "outputs": [
    {
     "data": {
      "text/html": [
       "<div>\n",
       "<style scoped>\n",
       "    .dataframe tbody tr th:only-of-type {\n",
       "        vertical-align: middle;\n",
       "    }\n",
       "\n",
       "    .dataframe tbody tr th {\n",
       "        vertical-align: top;\n",
       "    }\n",
       "\n",
       "    .dataframe thead th {\n",
       "        text-align: right;\n",
       "    }\n",
       "</style>\n",
       "<table border=\"1\" class=\"dataframe\">\n",
       "  <thead>\n",
       "    <tr style=\"text-align: right;\">\n",
       "      <th></th>\n",
       "      <th>RMSE</th>\n",
       "    </tr>\n",
       "  </thead>\n",
       "  <tbody>\n",
       "    <tr>\n",
       "      <th>XGBRegressor</th>\n",
       "      <td>134272.681536</td>\n",
       "    </tr>\n",
       "    <tr>\n",
       "      <th>RandomForestRegressor</th>\n",
       "      <td>132491.749357</td>\n",
       "    </tr>\n",
       "    <tr>\n",
       "      <th>GradientBoostingRegressor</th>\n",
       "      <td>130132.470157</td>\n",
       "    </tr>\n",
       "    <tr>\n",
       "      <th>LGBMRegressor</th>\n",
       "      <td>121313.856049</td>\n",
       "    </tr>\n",
       "  </tbody>\n",
       "</table>\n",
       "</div>"
      ],
      "text/plain": [
       "                                    RMSE\n",
       "XGBRegressor               134272.681536\n",
       "RandomForestRegressor      132491.749357\n",
       "GradientBoostingRegressor  130132.470157\n",
       "LGBMRegressor              121313.856049"
      ]
     },
     "execution_count": 48,
     "metadata": {},
     "output_type": "execute_result"
    },
    {
     "name": "stdout",
     "output_type": "stream",
     "text": [
      "[CV] END .......................max_depth=1, n_estimators=50; total time=   2.9s\n",
      "[CV] END ......................max_depth=1, n_estimators=100; total time=   8.5s\n",
      "[CV] END ......................max_depth=10, n_estimators=50; total time=  40.9s\n",
      "[CV] END .....................max_depth=10, n_estimators=100; total time= 1.2min\n",
      "[CV] END .......................max_depth=1, n_estimators=50; total time=   4.3s\n",
      "[CV] END ......................max_depth=1, n_estimators=100; total time=   8.6s\n",
      "[CV] END ......................max_depth=10, n_estimators=50; total time=  42.1s\n",
      "[CV] END .....................max_depth=10, n_estimators=100; total time= 1.2min\n",
      "[CV] END .......................max_depth=1, n_estimators=50; total time=   7.3s\n",
      "[CV] END ......................max_depth=1, n_estimators=100; total time=  10.4s\n",
      "[CV] END ......................max_depth=10, n_estimators=50; total time=  39.7s\n",
      "[CV] END .....................max_depth=10, n_estimators=100; total time= 1.3min\n"
     ]
    }
   ],
   "source": [
    "def get_scores(models, train, y):\n",
    "    df = {}\n",
    "    for model in models:\n",
    "        model_name = model.__class__.__name__\n",
    "\n",
    "        # train, test 데이터셋 분리\n",
    "        X_train, X_test, y_train, y_test = train_test_split(train, y, test_size=0.2, random_state=random_state)\n",
    "\n",
    "        # 모델 학습\n",
    "        model.fit(X_train, y_train)\n",
    "        \n",
    "        # 예측\n",
    "        y_pred = model.predict(X_test)\n",
    "\n",
    "        # 예측 결과의 rmse값 저장\n",
    "        df[model_name] = rmse(y_test, y_pred)\n",
    "        \n",
    "        # data frame에 저장\n",
    "        score_df = pd.DataFrame(df, index=['RMSE']).T.sort_values('RMSE', ascending=False)\n",
    "    return score_df\n",
    "\n",
    "get_scores(models, train, y)"
   ]
  },
  {
   "cell_type": "code",
   "execution_count": 76,
   "id": "aa1d370b",
   "metadata": {},
   "outputs": [
    {
     "name": "stdout",
     "output_type": "stream",
     "text": [
      "Fitting 5 folds for each of 18 candidates, totalling 90 fits\n"
     ]
    },
    {
     "data": {
      "text/html": [
       "<div>\n",
       "<style scoped>\n",
       "    .dataframe tbody tr th:only-of-type {\n",
       "        vertical-align: middle;\n",
       "    }\n",
       "\n",
       "    .dataframe tbody tr th {\n",
       "        vertical-align: top;\n",
       "    }\n",
       "\n",
       "    .dataframe thead th {\n",
       "        text-align: right;\n",
       "    }\n",
       "</style>\n",
       "<table border=\"1\" class=\"dataframe\">\n",
       "  <thead>\n",
       "    <tr style=\"text-align: right;\">\n",
       "      <th></th>\n",
       "      <th>max_depth</th>\n",
       "      <th>n_estimators</th>\n",
       "      <th>num_leaves</th>\n",
       "      <th>score</th>\n",
       "      <th>RMSLE</th>\n",
       "    </tr>\n",
       "  </thead>\n",
       "  <tbody>\n",
       "    <tr>\n",
       "      <th>8</th>\n",
       "      <td>30</td>\n",
       "      <td>300</td>\n",
       "      <td>31</td>\n",
       "      <td>-0.026495</td>\n",
       "      <td>0.162771</td>\n",
       "    </tr>\n",
       "    <tr>\n",
       "      <th>14</th>\n",
       "      <td>50</td>\n",
       "      <td>300</td>\n",
       "      <td>31</td>\n",
       "      <td>-0.026495</td>\n",
       "      <td>0.162771</td>\n",
       "    </tr>\n",
       "    <tr>\n",
       "      <th>2</th>\n",
       "      <td>10</td>\n",
       "      <td>300</td>\n",
       "      <td>31</td>\n",
       "      <td>-0.026591</td>\n",
       "      <td>0.163068</td>\n",
       "    </tr>\n",
       "    <tr>\n",
       "      <th>16</th>\n",
       "      <td>50</td>\n",
       "      <td>500</td>\n",
       "      <td>31</td>\n",
       "      <td>-0.026758</td>\n",
       "      <td>0.163579</td>\n",
       "    </tr>\n",
       "    <tr>\n",
       "      <th>10</th>\n",
       "      <td>30</td>\n",
       "      <td>500</td>\n",
       "      <td>31</td>\n",
       "      <td>-0.026758</td>\n",
       "      <td>0.163579</td>\n",
       "    </tr>\n",
       "    <tr>\n",
       "      <th>3</th>\n",
       "      <td>10</td>\n",
       "      <td>300</td>\n",
       "      <td>63</td>\n",
       "      <td>-0.026802</td>\n",
       "      <td>0.163713</td>\n",
       "    </tr>\n",
       "    <tr>\n",
       "      <th>4</th>\n",
       "      <td>10</td>\n",
       "      <td>500</td>\n",
       "      <td>31</td>\n",
       "      <td>-0.026827</td>\n",
       "      <td>0.163788</td>\n",
       "    </tr>\n",
       "    <tr>\n",
       "      <th>1</th>\n",
       "      <td>10</td>\n",
       "      <td>100</td>\n",
       "      <td>63</td>\n",
       "      <td>-0.026870</td>\n",
       "      <td>0.163922</td>\n",
       "    </tr>\n",
       "    <tr>\n",
       "      <th>7</th>\n",
       "      <td>30</td>\n",
       "      <td>100</td>\n",
       "      <td>63</td>\n",
       "      <td>-0.027154</td>\n",
       "      <td>0.164784</td>\n",
       "    </tr>\n",
       "    <tr>\n",
       "      <th>13</th>\n",
       "      <td>50</td>\n",
       "      <td>100</td>\n",
       "      <td>63</td>\n",
       "      <td>-0.027154</td>\n",
       "      <td>0.164784</td>\n",
       "    </tr>\n",
       "    <tr>\n",
       "      <th>6</th>\n",
       "      <td>30</td>\n",
       "      <td>100</td>\n",
       "      <td>31</td>\n",
       "      <td>-0.027181</td>\n",
       "      <td>0.164865</td>\n",
       "    </tr>\n",
       "    <tr>\n",
       "      <th>12</th>\n",
       "      <td>50</td>\n",
       "      <td>100</td>\n",
       "      <td>31</td>\n",
       "      <td>-0.027181</td>\n",
       "      <td>0.164865</td>\n",
       "    </tr>\n",
       "    <tr>\n",
       "      <th>5</th>\n",
       "      <td>10</td>\n",
       "      <td>500</td>\n",
       "      <td>63</td>\n",
       "      <td>-0.027216</td>\n",
       "      <td>0.164972</td>\n",
       "    </tr>\n",
       "    <tr>\n",
       "      <th>15</th>\n",
       "      <td>50</td>\n",
       "      <td>300</td>\n",
       "      <td>63</td>\n",
       "      <td>-0.027247</td>\n",
       "      <td>0.165068</td>\n",
       "    </tr>\n",
       "    <tr>\n",
       "      <th>9</th>\n",
       "      <td>30</td>\n",
       "      <td>300</td>\n",
       "      <td>63</td>\n",
       "      <td>-0.027263</td>\n",
       "      <td>0.165115</td>\n",
       "    </tr>\n",
       "    <tr>\n",
       "      <th>0</th>\n",
       "      <td>10</td>\n",
       "      <td>100</td>\n",
       "      <td>31</td>\n",
       "      <td>-0.027268</td>\n",
       "      <td>0.165131</td>\n",
       "    </tr>\n",
       "    <tr>\n",
       "      <th>17</th>\n",
       "      <td>50</td>\n",
       "      <td>500</td>\n",
       "      <td>63</td>\n",
       "      <td>-0.027590</td>\n",
       "      <td>0.166103</td>\n",
       "    </tr>\n",
       "    <tr>\n",
       "      <th>11</th>\n",
       "      <td>30</td>\n",
       "      <td>500</td>\n",
       "      <td>63</td>\n",
       "      <td>-0.027592</td>\n",
       "      <td>0.166107</td>\n",
       "    </tr>\n",
       "  </tbody>\n",
       "</table>\n",
       "</div>"
      ],
      "text/plain": [
       "    max_depth  n_estimators  num_leaves     score     RMSLE\n",
       "8          30           300          31 -0.026495  0.162771\n",
       "14         50           300          31 -0.026495  0.162771\n",
       "2          10           300          31 -0.026591  0.163068\n",
       "16         50           500          31 -0.026758  0.163579\n",
       "10         30           500          31 -0.026758  0.163579\n",
       "3          10           300          63 -0.026802  0.163713\n",
       "4          10           500          31 -0.026827  0.163788\n",
       "1          10           100          63 -0.026870  0.163922\n",
       "7          30           100          63 -0.027154  0.164784\n",
       "13         50           100          63 -0.027154  0.164784\n",
       "6          30           100          31 -0.027181  0.164865\n",
       "12         50           100          31 -0.027181  0.164865\n",
       "5          10           500          63 -0.027216  0.164972\n",
       "15         50           300          63 -0.027247  0.165068\n",
       "9          30           300          63 -0.027263  0.165115\n",
       "0          10           100          31 -0.027268  0.165131\n",
       "17         50           500          63 -0.027590  0.166103\n",
       "11         30           500          63 -0.027592  0.166107"
      ]
     },
     "execution_count": 76,
     "metadata": {},
     "output_type": "execute_result"
    }
   ],
   "source": [
    "# 최적 모델 학습\n",
    "model = lgb.LGBMRegressor(random_state=random_state)\n",
    "#model = xgb.XGBRegressor(random_state=random_state)\n",
    "my_GridSearch(model, train, y, param_grid, verbose=2, n_jobs=5)"
   ]
  },
  {
   "cell_type": "code",
   "execution_count": 77,
   "id": "8a7576c7",
   "metadata": {},
   "outputs": [
    {
     "data": {
      "text/plain": [
       "LGBMRegressor(max_depth=30, n_estimators=300, random_state=250113)"
      ]
     },
     "execution_count": 77,
     "metadata": {},
     "output_type": "execute_result"
    }
   ],
   "source": [
    "model = lgb.LGBMRegressor(max_depth=30, n_estimators=300, num_leaves=31, random_state=random_state)\n",
    "#model = xgb.XGBRegressor(random_state=random_state)\n",
    "\n",
    "model.fit(train, y)"
   ]
  },
  {
   "cell_type": "code",
   "execution_count": 78,
   "id": "e65c2fe3",
   "metadata": {},
   "outputs": [
    {
     "data": {
      "text/plain": [
       "array([ 503177.58369034,  485859.8823204 , 1410212.58179806, ...,\n",
       "        458023.38064559,  333485.73359231,  441249.29932214])"
      ]
     },
     "execution_count": 78,
     "metadata": {},
     "output_type": "execute_result"
    }
   ],
   "source": [
    "# submission 데이터 준비\n",
    "#sub = sub[features]\n",
    "\n",
    "prediction = model.predict(sub)\n",
    "prediction = np.expm1(prediction)\n",
    "prediction"
   ]
  },
  {
   "cell_type": "code",
   "execution_count": 79,
   "id": "a874eb0d",
   "metadata": {},
   "outputs": [
    {
     "name": "stdout",
     "output_type": "stream",
     "text": [
      "/aiffel/aiffel/kaggle_kakr_housing/data/submission_lgbm_RMSLE_0.162771.csv\n"
     ]
    }
   ],
   "source": [
    "data_dir = os.getenv('HOME')+'/aiffel/kaggle_kakr_housing/data'\n",
    "\n",
    "submission_path = join(data_dir, 'sample_submission.csv')\n",
    "submission = pd.read_csv(submission_path)\n",
    "submission.head()\n",
    "\n",
    "submission['price'] = prediction\n",
    "submission.head()\n",
    "\n",
    "submission_csv_path = '{}/submission_{}_RMSLE_{}.csv'.format(data_dir, 'lgbm', '0.162771')\n",
    "submission.to_csv(submission_csv_path, index=False)\n",
    "print(submission_csv_path)"
   ]
  },
  {
   "cell_type": "code",
   "execution_count": 1,
   "id": "1b9ed3db",
   "metadata": {},
   "outputs": [
    {
     "name": "stdout",
     "output_type": "stream",
     "text": [
      "Kaggle Score: 111858.87392 (Private), 108813.35707 (Public) \n"
     ]
    }
   ],
   "source": [
    "print(f'Kaggle Score: 111858.87392 (Private), 108813.35707 (Public) ')"
   ]
  },
  {
   "cell_type": "code",
   "execution_count": null,
   "id": "1e2f37ec",
   "metadata": {},
   "outputs": [],
   "source": []
  }
 ],
 "metadata": {
  "kernelspec": {
   "display_name": "Python 3 (ipykernel)",
   "language": "python",
   "name": "python3"
  },
  "language_info": {
   "codemirror_mode": {
    "name": "ipython",
    "version": 3
   },
   "file_extension": ".py",
   "mimetype": "text/x-python",
   "name": "python",
   "nbconvert_exporter": "python",
   "pygments_lexer": "ipython3",
   "version": "3.9.7"
  }
 },
 "nbformat": 4,
 "nbformat_minor": 5
}
