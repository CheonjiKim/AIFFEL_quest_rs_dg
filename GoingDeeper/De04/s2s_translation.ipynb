{
 "cells": [
  {
   "cell_type": "markdown",
   "id": "5b2354a9",
   "metadata": {},
   "source": [
    "## 12. Seq2seq으로 한영 번역기 만들기\n",
    "\n",
    "Step 2. 데이터 정제\n",
    "set 데이터형이 중복을 허용하지 않는다는 것을 활용해 중복된 데이터를 제거하도록 합니다. 데이터의 병렬 쌍이 흐트러지지 않게 주의하세요! 중복을 제거한 데이터를 cleaned_corpus 에 저장합니다.\n",
    "\n",
    "앞서 정의한 preprocessing() 함수는 한글에서는 동작하지 않습니다. 한글에 적용할 수 있는 정규식을 추가하여 함수를 재정의하세요!\n",
    "\n",
    "타겟 언어인 영문엔 <start> 토큰과 <end> 토큰을 추가하고 split() 함수를 이용하여 토큰화합니다. 한글 토큰화는 KoNLPy의 mecab 클래스를 사용합니다.\n",
    "\n",
    "모든 데이터를 사용할 경우 학습에 굉장히 오랜 시간이 걸립니다. cleaned_corpus로부터 토큰의 길이가 40 이하인 데이터를 선별하여 eng_corpus와 kor_corpus를 각각 구축하세요.\n",
    "\n",
    "Step 3. 데이터 토큰화\n",
    "앞서 정의한 tokenize() 함수를 사용해 데이터를 텐서로 변환하고 각각의 tokenizer를 얻으세요! 단어의 수는 실험을 통해 적당한 값을 맞춰주도록 합니다! (최소 10,000 이상!)\n",
    "\n",
    "❗ 주의: 난이도에 비해 데이터가 많지 않아 훈련 데이터와 검증 데이터를 따로 나누지는 않습니다.\n",
    "\n",
    "Step 4. 모델 설계\n",
    "한국어를 영어로 잘 번역해 줄 멋진 Attention 기반 Seq2seq 모델을 설계하세요! 앞서 만든 모델에 Dropout 모듈을 추가하면 성능이 더 좋아집니다! Embedding Size와 Hidden Size는 실험을 통해 적당한 값을 맞춰 주도록 합니다!\n",
    "\n",
    "Step 5. 훈련하기\n",
    "훈련엔 위에서 사용한 코드를 그대로 사용하되, eval_step() 부분이 없음에 유의합니다! 매 스텝 아래의 예문에 대한 번역을 생성하여 본인이 생각하기에 가장 멋지게 번역한 Case를 제출하세요! (Attention Map을 시각화해보는 것도 재밌을 거예요!)"
   ]
  },
  {
   "cell_type": "markdown",
   "id": "95296456",
   "metadata": {},
   "source": [
    "### 1. 데이터 준비"
   ]
  },
  {
   "cell_type": "code",
   "execution_count": 144,
   "id": "c8b02742",
   "metadata": {},
   "outputs": [
    {
     "data": {
      "text/plain": [
       "'/usr/share/fonts/truetype/nanum/NanumBarunGothic.ttf'"
      ]
     },
     "execution_count": 144,
     "metadata": {},
     "output_type": "execute_result"
    }
   ],
   "source": [
    "import tensorflow as tf\n",
    "import pandas as pd\n",
    "import numpy as np\n",
    "import re"
   ]
  },
  {
   "cell_type": "code",
   "execution_count": 3,
   "id": "246b880f",
   "metadata": {},
   "outputs": [],
   "source": [
    "kor_text_file = \"korean-english-park.train.ko\"\n",
    "eng_text_file = \"korean-english-park.train.en\""
   ]
  },
  {
   "cell_type": "code",
   "execution_count": 4,
   "id": "03e45758",
   "metadata": {},
   "outputs": [],
   "source": [
    "# 데이터 읽어오기\n",
    "def read_data(file_path):\n",
    "    with open(file_path, \"r\") as f:\n",
    "        raw = f.read().splitlines()\n",
    "\n",
    "    print(\"Data Size:\", len(raw))\n",
    "    print(\"Example:\")\n",
    "    for sentence in raw[:5]:\n",
    "        print(\">>\", sentence)\n",
    "\n",
    "    return raw"
   ]
  },
  {
   "cell_type": "code",
   "execution_count": 13,
   "id": "4c0adba6",
   "metadata": {},
   "outputs": [
    {
     "name": "stdout",
     "output_type": "stream",
     "text": [
      "Data Size: 94123\n",
      "Example:\n",
      ">> 개인용 컴퓨터 사용의 상당 부분은 \"이것보다 뛰어날 수 있느냐?\"\n",
      ">> 모든 광마우스와 마찬가지 로 이 광마우스도 책상 위에 놓는 마우스 패드를 필요로 하지 않는다.\n",
      ">> 그러나 이것은 또한 책상도 필요로 하지 않는다.\n",
      ">> 79.95달러하는 이 최첨단 무선 광마우스는 허공에서 팔목, 팔, 그외에 어떤 부분이든 그 움직임에따라 커서의 움직임을 조절하는 회전 운동 센서를 사용하고 있다.\n",
      ">> 정보 관리들은 동남 아시아에서의 선박들에 대한 많은 (테러) 계획들이 실패로 돌아갔음을 밝혔으며, 세계 해상 교역량의 거의 3분의 1을 운송하는 좁은 해로인 말라카 해협이 테러 공격을 당하기 쉽다고 경고하고 있다.\n",
      "Data Size: 94123\n",
      "Example:\n",
      ">> Much of personal computing is about \"can you top this?\"\n",
      ">> so a mention a few weeks ago about a rechargeable wireless optical mouse brought in another rechargeable, wireless mouse.\n",
      ">> Like all optical mice, But it also doesn't need a desk.\n",
      ">> uses gyroscopic sensors to control the cursor movement as you move your wrist, arm, whatever through the air.\n",
      ">> Intelligence officials have revealed a spate of foiled plots on ships in Southeast Asia and are warning that a narrow stretch of water carrying almost one third of the world's maritime trade is vulnerable to a terror attack.\n"
     ]
    }
   ],
   "source": [
    "kor_text = read_data(kor_text_file)\n",
    "eng_text = read_data(eng_text_file)"
   ]
  },
  {
   "cell_type": "code",
   "execution_count": 18,
   "id": "c6f02bf6",
   "metadata": {},
   "outputs": [
    {
     "name": "stdout",
     "output_type": "stream",
     "text": [
      "어휘 :\n",
      "The Geneva-based commission, in its annual study of the industry titled “World Robotics 2001,” said a record 100,000 robots were installed last year, up 25 percent on 1999.\n"
     ]
    }
   ],
   "source": [
    "# 랜덤하게 문장을 추출하여 한영 번역 결과 확인\n",
    "index = 27\n",
    "print(kor_text[index])\n",
    "print(eng_text[index])"
   ]
  },
  {
   "cell_type": "markdown",
   "id": "54b89bda",
   "metadata": {},
   "source": [
    "#### 분석\n",
    "- 한글과 영어의 번역 매칭이 맞지 않은 경우가 다수 발견됨"
   ]
  },
  {
   "cell_type": "code",
   "execution_count": 9,
   "id": "6d6f9f72",
   "metadata": {},
   "outputs": [
    {
     "name": "stdout",
     "output_type": "stream",
     "text": [
      "문장 수:  77591 75598\n"
     ]
    }
   ],
   "source": [
    "# 중복 제거\n",
    "kor_text_cleaned = list(set(kor_text))\n",
    "eng_text_cleaned = list(set(eng_text))\n",
    "print(\"중복제거 후 문장 수: \", len(kor_text_cleaned), len(eng_text_cleaned))"
   ]
  },
  {
   "cell_type": "markdown",
   "id": "e01d2e03",
   "metadata": {},
   "source": [
    "#### 분석\n",
    "- 각각 중복 제거했을 때, 데이터 크기가 맞지 않는 문제가 있음 --> **pandas DataFrame으로 변환하고 drop_duplicates 이용**"
   ]
  },
  {
   "cell_type": "code",
   "execution_count": 24,
   "id": "b9ab9e7f",
   "metadata": {},
   "outputs": [
    {
     "name": "stdout",
     "output_type": "stream",
     "text": [
      "데이터 크기: 94123\n"
     ]
    }
   ],
   "source": [
    "# 데이터를 DataFrame으로 변환\n",
    "data = pd.DataFrame({\"kor\": kor_text, \"eng\": eng_text})\n",
    "print(f'데이터 크기: {len(data)}')"
   ]
  },
  {
   "cell_type": "code",
   "execution_count": 25,
   "id": "3365c3a0",
   "metadata": {},
   "outputs": [
    {
     "name": "stdout",
     "output_type": "stream",
     "text": [
      "중복 제거 후 데이터 크기: 77591\n"
     ]
    }
   ],
   "source": [
    "# 중복 제거\n",
    "data = data.drop_duplicates(subset=['kor'])\n",
    "print(f'중복 제거 후 데이터 크기: {len(data)}')"
   ]
  },
  {
   "cell_type": "code",
   "execution_count": 26,
   "id": "0c74a941",
   "metadata": {},
   "outputs": [],
   "source": [
    "# 문장 단위 텍스트 전처리\n",
    "def preprocess_sentence(sentence):\n",
    "    # 소문자 변환\n",
    "    sentence = sentence.lower()\n",
    "\n",
    "    # 문장 부호 간 띄어쓰기\n",
    "    sentence = re.sub(r\"([?.!,])\", r\" \\1 \", sentence)\n",
    "    \n",
    "    # 숫자 간 띄어쓰기\n",
    "    sentence = re.sub(r\"([0-9]+)\", r\" \\1 \", sentence)\n",
    "    \n",
    "    # 알파벳 한글 간 띄어쓰기\n",
    "    sentence = re.sub(r\"([a-zA-Z]+)\", r\" \\1 \", sentence)\n",
    "\n",
    "    # 알파벳, 한글, 숫자, 문장부호를 제외한 모든 문자를 공백으로 대체\n",
    "    sentence = re.sub(\"[^a-zA-Z0-9가-힣?.!,]\", \" \", sentence)\n",
    "\n",
    "    # 빈 칸 반복되는 것 하나로 줄이기\n",
    "    sentence = re.sub(r'[\" \"]+', \" \", sentence)\n",
    "\n",
    "    # 문장 앞 뒤 공백 자르기\n",
    "    sentence = sentence.strip()\n",
    "\n",
    "    return sentence"
   ]
  },
  {
   "cell_type": "code",
   "execution_count": 29,
   "id": "3f1f7fec",
   "metadata": {},
   "outputs": [],
   "source": [
    "# 데이터셋 단위 전처리\n",
    "def preprocess_data(data):\n",
    "    kor = []\n",
    "    eng = []\n",
    "    for k, e in zip(data['kor'], data['eng']):\n",
    "        kor.append(preprocess_sentence(k))\n",
    "        eng.append(preprocess_sentence(e))\n",
    "\n",
    "    return kor, eng"
   ]
  },
  {
   "cell_type": "code",
   "execution_count": 32,
   "id": "a119f4d2",
   "metadata": {},
   "outputs": [],
   "source": [
    "kor_text_preprocessed, eng_text_preprocessed = preprocess_data(data)"
   ]
  },
  {
   "cell_type": "markdown",
   "id": "dbfcefdd",
   "metadata": {},
   "source": [
    "### 2. 한글 토큰화"
   ]
  },
  {
   "cell_type": "code",
   "execution_count": 33,
   "id": "568234df",
   "metadata": {},
   "outputs": [],
   "source": [
    "# 형태소 분석기로 Mecab 이용\n",
    "from konlpy.tag import Mecab\n",
    "\n",
    "mecab = Mecab()"
   ]
  },
  {
   "cell_type": "code",
   "execution_count": 34,
   "id": "87d9d52d",
   "metadata": {},
   "outputs": [
    {
     "name": "stdout",
     "output_type": "stream",
     "text": [
      "['개인', '용', '컴퓨터', '사용', '의', '상당', '부분', '은', '이것', '보다', '뛰어날', '수', '있', '느냐', '?']\n"
     ]
    }
   ],
   "source": [
    "# 형태소 분석기 테스트\n",
    "print(mecab.morphs(kor_text_preprocessed[0]))"
   ]
  },
  {
   "cell_type": "code",
   "execution_count": 84,
   "id": "8bf4f9c6",
   "metadata": {},
   "outputs": [],
   "source": [
    "# 한글 토큰화 함수\n",
    "# 형태소 분석기를 통해 분리된 토큰의 갯수가 지정된 갯수보다 작아야 말뭉치에 포함됨\n",
    "# 영어는 띄어쓰기 단위로 분리하고, 시작 토큰과 종료 토큰이 추가됨\n",
    "def tokenize(kor_data, eng_data, max_token_length):\n",
    "    kor = []\n",
    "    eng = []\n",
    "    for (kor_sen, eng_sen) in zip(kor_data, eng_data):\n",
    "        try:\n",
    "            kor_token = mecab.morphs(kor_sen)\n",
    "            eng_token = (\"<start> \" + eng_sen + \" <end>\").split(\" \")\n",
    "            if len(kor_token) < max_token_length:\n",
    "                kor.append(kor_token)\n",
    "                eng.append(eng_token)\n",
    "        except:\n",
    "            print(kor_sen, eng_sen)\n",
    "\n",
    "    return kor, eng"
   ]
  },
  {
   "cell_type": "code",
   "execution_count": 85,
   "id": "79d94348",
   "metadata": {},
   "outputs": [],
   "source": [
    "# 한글의 최대 토큰 길이를 50\n",
    "kor_corpus, eng_corpus = tokenize(kor_text_preprocessed, eng_text_preprocessed, 50)"
   ]
  },
  {
   "attachments": {
    "image.png": {
     "image/png": "[encoded data removed]"
    }
   },
   "cell_type": "markdown",
   "id": "c1f13ff7",
   "metadata": {},
   "source": [
    "#### 디버깅\n",
    "- 아래와 같은 에러메시지\n",
    "![image.png](attachment:image.png)\n",
    "- tokenize() 함수의 리턴값이 없어서 발생하는 문제임"
   ]
  },
  {
   "cell_type": "code",
   "execution_count": 86,
   "id": "4edc7423",
   "metadata": {},
   "outputs": [],
   "source": [
    "# 토큰 인덱스로 변환\n",
    "def tokenize_index(corpus):\n",
    "    tokenizer = tf.keras.preprocessing.text.Tokenizer(filters='')\n",
    "    tokenizer.fit_on_texts(corpus)\n",
    "\n",
    "    tensor = tokenizer.texts_to_sequences(corpus)\n",
    "\n",
    "    tensor = tf.keras.preprocessing.sequence.pad_sequences(tensor, padding='post')\n",
    "\n",
    "    return tensor, tokenizer"
   ]
  },
  {
   "cell_type": "code",
   "execution_count": 87,
   "id": "a25dcd1b",
   "metadata": {},
   "outputs": [],
   "source": [
    "enc_tensor, enc_tokenizer = tokenize_index(kor_corpus)\n",
    "dec_tensor, dec_tokenizer = tokenize_index(eng_corpus)"
   ]
  },
  {
   "cell_type": "markdown",
   "id": "98659bd9",
   "metadata": {},
   "source": [
    "### 3. 모델 설계"
   ]
  },
  {
   "cell_type": "code",
   "execution_count": 88,
   "id": "73f62677",
   "metadata": {},
   "outputs": [],
   "source": [
    "# 어텐션 함수\n",
    "class BahdanauAttention(tf.keras.layers.Layer):\n",
    "    def __init__(self, units):\n",
    "        super(BahdanauAttention, self).__init__()\n",
    "        self.w_dec = tf.keras.layers.Dense(units)\n",
    "        self.w_enc = tf.keras.layers.Dense(units)\n",
    "        self.w_com = tf.keras.layers.Dense(1)\n",
    "    \n",
    "    def call(self, h_enc, h_dec):\n",
    "        # h_enc shape: [batch x length x units]\n",
    "        # h_dec shape: [batch x units]\n",
    "\n",
    "        h_enc = self.w_enc(h_enc)\n",
    "        h_dec = tf.expand_dims(h_dec, 1)\n",
    "        h_dec = self.w_dec(h_dec)\n",
    "\n",
    "        score = self.w_com(tf.nn.tanh(h_dec + h_enc))\n",
    "        \n",
    "        attn = tf.nn.softmax(score, axis=1)\n",
    "\n",
    "        context_vec = attn * h_enc\n",
    "        context_vec = tf.reduce_sum(context_vec, axis=1)\n",
    "        print(context_vec.shape, attn.shape)\n",
    "\n",
    "        return context_vec, attn"
   ]
  },
  {
   "cell_type": "code",
   "execution_count": 89,
   "id": "467e8004",
   "metadata": {},
   "outputs": [],
   "source": [
    "# 인코더\n",
    "class Encoder(tf.keras.Model):\n",
    "    def __init__(self, vocab_size, embedding_dim, enc_units):\n",
    "        super(Encoder, self).__init__()\n",
    "        \n",
    "        self.enc_units = enc_units\n",
    "        self.embedding = tf.keras.layers.Embedding(vocab_size, embedding_dim)\n",
    "        self.gru = tf.keras.layers.GRU(enc_units, return_sequences=True)\n",
    "        \n",
    "    def call(self, x):\n",
    "        out = self.embedding(x)\n",
    "        out = self.gru(out)\n",
    "        \n",
    "        return out"
   ]
  },
  {
   "cell_type": "code",
   "execution_count": 90,
   "id": "7db2f8de",
   "metadata": {},
   "outputs": [],
   "source": [
    "# 디코더\n",
    "class Decoder(tf.keras.Model):\n",
    "    def __init__(self, vocab_size, embedding_dim, dec_units):\n",
    "        super(Decoder, self).__init__()\n",
    "        self.dec_units = dec_units\n",
    "        self.embedding = tf.keras.layers.Embedding(vocab_size, embedding_dim)\n",
    "        self.gru = tf.keras.layers.GRU(dec_units, return_sequences=True, return_state=True)\n",
    "        self.fc = tf.keras.layers.Dense(vocab_size)\n",
    "\n",
    "        self.attention = BahdanauAttention(self.dec_units)\n",
    "\n",
    "    def call(self, x, h_dec, enc_out):\n",
    "        context_vec, attn = self.attention(enc_out, h_dec)\n",
    "\n",
    "        out = self.embedding(x)\n",
    "        out = tf.concat([tf.expand_dims(context_vec, 1), out], axis=-1)\n",
    "        \n",
    "        out, h_dec = self.gru(out)\n",
    "        out = tf.reshape(out, (-1, out.shape[2]))\n",
    "        out = self.fc(out)\n",
    "\n",
    "        return out, h_dec, attn"
   ]
  },
  {
   "cell_type": "markdown",
   "id": "aff0adf0",
   "metadata": {},
   "source": [
    "### 4. 훈련"
   ]
  },
  {
   "cell_type": "code",
   "execution_count": 190,
   "id": "e38ae820",
   "metadata": {},
   "outputs": [],
   "source": [
    "# 옵티마이저\n",
    "optimizer = tf.keras.optimizers.Adam()"
   ]
  },
  {
   "cell_type": "code",
   "execution_count": null,
   "id": "2ee1e813",
   "metadata": {},
   "outputs": [],
   "source": [
    "# 손실 함수 정의\n",
    "loss_object = tf.keras.losses.SparseCategoricalCrossentropy(from_logits=True, reduction='none')\n",
    "\n",
    "def loss_function(real, pred):\n",
    "    mask = tf.math.logical_not(tf.math.equal(real, 0))\n",
    "    loss = loss_object(real, pred)\n",
    "    \n",
    "    mask = tf.cast(mask, dtype=loss.dtype)\n",
    "    loss *= mask\n",
    "    \n",
    "    return tf.reduce_mean(loss)"
   ]
  },
  {
   "cell_type": "code",
   "execution_count": 191,
   "id": "2c98ff60",
   "metadata": {},
   "outputs": [],
   "source": [
    "# 학습 스탭 정의\n",
    "@tf.function\n",
    "def train_step(src, tgt, encoder, decoder, optimizer, dec_tok):\n",
    "    bsz = src.shape[0]\n",
    "    loss = 0\n",
    "\n",
    "    with tf.GradientTape() as tape:\n",
    "        enc_out = encoder(src)\n",
    "        print(enc_out.shape)\n",
    "        h_dec = enc_out[:, -1]\n",
    "        \n",
    "        dec_src = tf.expand_dims([dec_tok.word_index['<start>']] * bsz, 1)\n",
    "\n",
    "        for t in range(1, tgt.shape[1]):\n",
    "            pred, h_dec, _ = decoder(dec_src, h_dec, enc_out)\n",
    "\n",
    "            loss += loss_function(tgt[:, t], pred)\n",
    "            dec_src = tf.expand_dims(tgt[:, t], 1)\n",
    "        \n",
    "    batch_loss = (loss / int(tgt.shape[1]))\n",
    "\n",
    "    variables = encoder.trainable_variables + decoder.trainable_variables\n",
    "    gradients = tape.gradient(loss, variables)\n",
    "    optimizer.apply_gradients(zip(gradients, variables))\n",
    "    \n",
    "    return batch_loss"
   ]
  },
  {
   "cell_type": "code",
   "execution_count": 193,
   "id": "ef900ee3",
   "metadata": {},
   "outputs": [
    {
     "name": "stderr",
     "output_type": "stream",
     "text": [
      "\r",
      "  0%|          | 0/1 [00:00<?, ?it/s]"
     ]
    },
    {
     "name": "stdout",
     "output_type": "stream",
     "text": [
      "(5, 49, 512)\n",
      "(5, 49, 512)\n"
     ]
    },
    {
     "name": "stderr",
     "output_type": "stream",
     "text": [
      "Epoch  1: 100%|██████████| 1/1 [01:49<00:00, 109.66s/it, Loss 2.4106]\n",
      "Epoch  2: 100%|██████████| 1/1 [00:00<00:00,  2.66it/s, Loss 2.4088]\n",
      "Epoch  3: 100%|██████████| 1/1 [00:00<00:00,  2.96it/s, Loss 2.4058]\n",
      "Epoch  4: 100%|██████████| 1/1 [00:00<00:00,  2.97it/s, Loss 2.3983]\n",
      "Epoch  5: 100%|██████████| 1/1 [00:00<00:00,  2.98it/s, Loss 2.3762]\n",
      "Epoch  6: 100%|██████████| 1/1 [00:00<00:00,  2.98it/s, Loss 2.3045]\n",
      "Epoch  7: 100%|██████████| 1/1 [00:00<00:00,  2.97it/s, Loss 2.0862]\n",
      "Epoch  8: 100%|██████████| 1/1 [00:00<00:00,  2.97it/s, Loss 1.6624]\n",
      "Epoch  9: 100%|██████████| 1/1 [00:00<00:00,  2.99it/s, Loss 1.4614]\n",
      "Epoch 10: 100%|██████████| 1/1 [00:00<00:00,  2.99it/s, Loss 1.2868]\n"
     ]
    }
   ],
   "source": [
    "# train_step을 호출하여 실제 모델 학습 수행 \n",
    "from tqdm import tqdm\n",
    "import random\n",
    "\n",
    "TRAIN_SAMPLE = 5\n",
    "enc_train = enc_tensor[:TRAIN_SAMPLE]\n",
    "dec_train = dec_tensor[:TRAIN_SAMPLE]\n",
    "\n",
    "BATCH_SIZE     = 32\n",
    "SRC_VOCAB_SIZE = len(enc_tokenizer.index_word) + 1\n",
    "TGT_VOCAB_SIZE = len(dec_tokenizer.index_word) + 1\n",
    "\n",
    "units         = 512\n",
    "embedding_dim = 256\n",
    "\n",
    "encoder = Encoder(SRC_VOCAB_SIZE, embedding_dim, units)\n",
    "decoder = Decoder(TGT_VOCAB_SIZE, embedding_dim, units)\n",
    "\n",
    "EPOCHS = 10\n",
    "\n",
    "for epoch in range(EPOCHS):\n",
    "    total_loss = 0\n",
    "    \n",
    "    idx_list = list(range(0, enc_train.shape[0], BATCH_SIZE))\n",
    "    random.shuffle(idx_list)\n",
    "    t = tqdm(idx_list)    # tqdm\n",
    "\n",
    "    for (batch, idx) in enumerate(t):\n",
    "        batch_loss = train_step(enc_train[idx:idx+BATCH_SIZE], dec_train[idx:idx+BATCH_SIZE], encoder, decoder, optimizer, dec_tokenizer)\n",
    "    \n",
    "        total_loss += batch_loss\n",
    "        \n",
    "        t.set_description_str('Epoch %2d' % (epoch + 1))    # tqdm\n",
    "        t.set_postfix_str('Loss %.4f' % (total_loss.numpy() / (batch + 1)))    # tqdm"
   ]
  },
  {
   "cell_type": "markdown",
   "id": "997075da",
   "metadata": {},
   "source": [
    "#### 디버깅\n",
    "- BATCH_SIZE: 64, units: 1024, embedding_dim: 512에서 메모리 부족 에러 발생"
   ]
  },
  {
   "cell_type": "markdown",
   "id": "75d97cda",
   "metadata": {},
   "source": [
    "### 5. 시각화"
   ]
  },
  {
   "cell_type": "code",
   "execution_count": null,
   "id": "ed3adb0b",
   "metadata": {},
   "outputs": [],
   "source": [
    "import matplotlib as mpl\n",
    "import matplotlib.ticker as ticker\n",
    "import matplotlib.pyplot as plt\n",
    "import matplotlib.font_manager as fm\n",
    "\n",
    "%config InlineBackend.figure_format = 'retina'\n",
    "\n",
    "#mpl.font_manager.findfont(font)\n",
    "fontpath = '/usr/share/fonts/truetype/nanum/NanumBarunGothic.ttf'\n",
    "font = fm.FontProperties(fname=fontpath, size=9)\n",
    "plt.rc('font', family='NanumBarunGothic')"
   ]
  },
  {
   "cell_type": "code",
   "execution_count": 195,
   "id": "aba7cf82",
   "metadata": {},
   "outputs": [],
   "source": [
    "# 어텐션 값을 시각화\n",
    "def plot_attention(attention, sentence, predicted_sentence):\n",
    "    print(attention.shape)\n",
    "    fig = plt.figure(figsize=(10,10))\n",
    "    ax = fig.add_subplot(1, 1, 1)\n",
    "    \n",
    "    ax.matshow(attention, cmap='viridis')\n",
    "\n",
    "    fontdict = {'fontsize': 10}\n",
    "\n",
    "    ax.xaxis.set_major_locator(ticker.MultipleLocator(1))\n",
    "    ax.yaxis.set_major_locator(ticker.MultipleLocator(1))\n",
    "\n",
    "    ax.set_xticklabels([''] + sentence, fontdict=fontdict, rotation=90)\n",
    "    ax.set_yticklabels([''] + predicted_sentence, fontdict=fontdict)\n",
    "\n",
    "    plt.show()"
   ]
  },
  {
   "cell_type": "markdown",
   "id": "2bf55020",
   "metadata": {},
   "source": [
    "### 6. 평가"
   ]
  },
  {
   "cell_type": "code",
   "execution_count": 194,
   "id": "59f7407e",
   "metadata": {},
   "outputs": [],
   "source": [
    "# 입력된 문장으로부터 디코더 출력을 얻어오는 함수 - 번역된 문장을 얻어온다\n",
    "def evaluate(sentence, encoder, decoder):\n",
    "    attention = np.zeros((dec_train.shape[-1], enc_train.shape[-1]))\n",
    "    \n",
    "    sentence = preprocess_sentence(sentence)\n",
    "   \n",
    "    #inputs = enc_tokenizer.texts_to_sequences([sentence.split()])\n",
    "    inputs = mecab.morphs(sentence)\n",
    "    inputs = enc_tokenizer.texts_to_sequences(inputs)\n",
    "    print(inputs, type(inputs))\n",
    "\n",
    "    res = []\n",
    "    for element in inputs:\n",
    "        res += element\n",
    "    inputs = [res]\n",
    "    print(inputs, type(res))\n",
    "\n",
    "    inputs = tf.keras.preprocessing.sequence.pad_sequences(inputs, maxlen=enc_train.shape[-1], padding='post')\n",
    "\n",
    "    result = ''\n",
    "\n",
    "    enc_out = encoder(inputs)\n",
    "\n",
    "    dec_hidden = enc_out[:, -1]\n",
    "    dec_input = tf.expand_dims([dec_tokenizer.word_index['<start>']], 0)\n",
    "\n",
    "    for t in range(dec_train.shape[-1]):\n",
    "        predictions, dec_hidden, attention_weights = decoder(dec_input, dec_hidden, enc_out)\n",
    "\n",
    "        attention_weights = tf.reshape(attention_weights, (-1, ))\n",
    "        attention[t] = attention_weights.numpy()\n",
    "\n",
    "        predicted_id = \\\n",
    "        tf.argmax(tf.math.softmax(predictions, axis=-1)[0]).numpy()\n",
    "\n",
    "        result += dec_tokenizer.index_word[predicted_id] + ' '\n",
    "\n",
    "        if dec_tokenizer.index_word[predicted_id] == '<end>':\n",
    "            return result, sentence, attention\n",
    "\n",
    "        dec_input = tf.expand_dims([predicted_id], 0)\n",
    "\n",
    "    return result, sentence, attention"
   ]
  },
  {
   "cell_type": "code",
   "execution_count": 196,
   "id": "1d0e1b7d",
   "metadata": {},
   "outputs": [],
   "source": [
    "# 번역과 어텐션 매트릭스 출력을 한 번에 처리하는 함수\n",
    "def translate(sentence, encoder, decoder):\n",
    "    result, sentence, attention = evaluate(sentence, encoder, decoder)\n",
    "\n",
    "    print('Input: %s' % (sentence))\n",
    "    print('Predicted translation: {}'.format(result))\n",
    "    \n",
    "    attention = attention[:len(result.split()), :len(sentence.split())]\n",
    "    plot_attention(attention, sentence.split(), result.split(' '))"
   ]
  },
  {
   "cell_type": "code",
   "execution_count": 197,
   "id": "52b82169",
   "metadata": {},
   "outputs": [
    {
     "name": "stdout",
     "output_type": "stream",
     "text": [
      "[[1738], [832], [6], [2734], [201], [113], [3], [13912], [399], [38], [12], [14], [62], [1]] <class 'list'>\n",
      "[[1738, 832, 6, 2734, 201, 113, 3, 13912, 399, 38, 12, 14, 62, 1]] <class 'list'>\n",
      "Input: 대법원 판사의 은퇴 가능성이 빈번히 언급되고 있습니다 .\n",
      "Predicted translation: <end> \n",
      "(1, 8)\n"
     ]
    },
    {
     "name": "stderr",
     "output_type": "stream",
     "text": [
      "/tmp/ipykernel_40/169424178.py:14: UserWarning: FixedFormatter should only be used together with FixedLocator\n",
      "  ax.set_xticklabels([''] + sentence, fontdict=fontdict, rotation=90)\n",
      "/tmp/ipykernel_40/169424178.py:15: UserWarning: FixedFormatter should only be used together with FixedLocator\n",
      "  ax.set_yticklabels([''] + predicted_sentence, fontdict=fontdict)\n"
     ]
    },
    {
     "data": {
      "image/png": "[encoded data removed]",
      "text/plain": [
       "<Figure size 720x720 with 1 Axes>"
      ]
     },
     "metadata": {
      "image/png": {
       "height": 130,
       "width": 605
      },
      "needs_background": "light"
     },
     "output_type": "display_data"
    }
   ],
   "source": [
    "# 테스트 케이스 1 - 학습된 문장\n",
    "translate(\"대법원 판사의 은퇴 가능성이 빈번히 언급되고 있습니다.\", encoder, decoder)"
   ]
  },
  {
   "cell_type": "code",
   "execution_count": null,
   "id": "dbeb264c",
   "metadata": {},
   "outputs": [],
   "source": [
    "# 테스트 케이스 2 - 새로운 문장\n",
    "translate(\"어떻게 지내니?\", encoder, decoder)"
   ]
  },
  {
   "cell_type": "markdown",
   "id": "a289390e",
   "metadata": {},
   "source": [
    "#### 분석\n",
    "- 분석 결과 쓰기"
   ]
  },
  {
   "cell_type": "markdown",
   "id": "571858fe",
   "metadata": {},
   "source": [
    "### 회고\n",
    "- 회고 결과 쓰기"
   ]
  }
 ],
 "metadata": {
  "kernelspec": {
   "display_name": "Python 3 (ipykernel)",
   "language": "python",
   "name": "python3"
  },
  "language_info": {
   "codemirror_mode": {
    "name": "ipython",
    "version": 3
   },
   "file_extension": ".py",
   "mimetype": "text/x-python",
   "name": "python",
   "nbconvert_exporter": "python",
   "pygments_lexer": "ipython3",
   "version": "3.9.7"
  }
 },
 "nbformat": 4,
 "nbformat_minor": 5
}
