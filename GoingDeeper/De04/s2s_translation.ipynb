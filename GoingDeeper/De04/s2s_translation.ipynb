{
 "cells": [
  {
   "cell_type": "markdown",
   "id": "de49840e",
   "metadata": {},
   "source": [
    "## 12. Seq2seq으로 한영 번역기 만들기"
   ]
  },
  {
   "cell_type": "markdown",
   "id": "a97d894e",
   "metadata": {},
   "source": [
    "### 1. 데이터 준비"
   ]
  },
  {
   "cell_type": "code",
   "execution_count": 1,
   "id": "39219b79",
   "metadata": {},
   "outputs": [],
   "source": [
    "import tensorflow as tf\n",
    "import pandas as pd\n",
    "import numpy as np\n",
    "import re"
   ]
  },
  {
   "cell_type": "code",
   "execution_count": 2,
   "id": "157956d1",
   "metadata": {},
   "outputs": [],
   "source": [
    "kor_text_file = \"korean-english-park.train.ko\"\n",
    "eng_text_file = \"korean-english-park.train.en\""
   ]
  },
  {
   "cell_type": "code",
   "execution_count": 3,
   "id": "77ed0cc6",
   "metadata": {},
   "outputs": [],
   "source": [
    "# 데이터 읽어오기\n",
    "def read_data(file_path):\n",
    "    with open(file_path, \"r\") as f:\n",
    "        raw = f.read().splitlines()\n",
    "\n",
    "    print(\"Data Size:\", len(raw))\n",
    "    print(\"Example:\")\n",
    "    for sentence in raw[:5]:\n",
    "        print(\">>\", sentence)\n",
    "\n",
    "    return raw"
   ]
  },
  {
   "cell_type": "code",
   "execution_count": 4,
   "id": "5c3503b3",
   "metadata": {},
   "outputs": [
    {
     "name": "stdout",
     "output_type": "stream",
     "text": [
      "Data Size: 94123\n",
      "Example:\n",
      ">> 개인용 컴퓨터 사용의 상당 부분은 \"이것보다 뛰어날 수 있느냐?\"\n",
      ">> 모든 광마우스와 마찬가지 로 이 광마우스도 책상 위에 놓는 마우스 패드를 필요로 하지 않는다.\n",
      ">> 그러나 이것은 또한 책상도 필요로 하지 않는다.\n",
      ">> 79.95달러하는 이 최첨단 무선 광마우스는 허공에서 팔목, 팔, 그외에 어떤 부분이든 그 움직임에따라 커서의 움직임을 조절하는 회전 운동 센서를 사용하고 있다.\n",
      ">> 정보 관리들은 동남 아시아에서의 선박들에 대한 많은 (테러) 계획들이 실패로 돌아갔음을 밝혔으며, 세계 해상 교역량의 거의 3분의 1을 운송하는 좁은 해로인 말라카 해협이 테러 공격을 당하기 쉽다고 경고하고 있다.\n",
      "Data Size: 94123\n",
      "Example:\n",
      ">> Much of personal computing is about \"can you top this?\"\n",
      ">> so a mention a few weeks ago about a rechargeable wireless optical mouse brought in another rechargeable, wireless mouse.\n",
      ">> Like all optical mice, But it also doesn't need a desk.\n",
      ">> uses gyroscopic sensors to control the cursor movement as you move your wrist, arm, whatever through the air.\n",
      ">> Intelligence officials have revealed a spate of foiled plots on ships in Southeast Asia and are warning that a narrow stretch of water carrying almost one third of the world's maritime trade is vulnerable to a terror attack.\n"
     ]
    }
   ],
   "source": [
    "kor_text = read_data(kor_text_file)\n",
    "eng_text = read_data(eng_text_file)"
   ]
  },
  {
   "cell_type": "code",
   "execution_count": 5,
   "id": "c561edf6",
   "metadata": {},
   "outputs": [
    {
     "name": "stdout",
     "output_type": "stream",
     "text": [
      "어휘 :\n",
      "The Geneva-based commission, in its annual study of the industry titled “World Robotics 2001,” said a record 100,000 robots were installed last year, up 25 percent on 1999.\n"
     ]
    }
   ],
   "source": [
    "# 랜덤하게 문장을 추출하여 한영 번역 결과 확인\n",
    "index = 27\n",
    "print(kor_text[index])\n",
    "print(eng_text[index])"
   ]
  },
  {
   "cell_type": "markdown",
   "id": "d7295fcb",
   "metadata": {},
   "source": [
    "#### 분석\n",
    "- 한글과 영어의 번역 매칭이 맞지 않은 경우가 다수 발견됨"
   ]
  },
  {
   "cell_type": "code",
   "execution_count": 6,
   "id": "6c25a127",
   "metadata": {},
   "outputs": [
    {
     "name": "stdout",
     "output_type": "stream",
     "text": [
      "중복제거 후 문장 수:  77591 75598\n"
     ]
    }
   ],
   "source": [
    "# 중복 제거\n",
    "kor_text_cleaned = list(set(kor_text))\n",
    "eng_text_cleaned = list(set(eng_text))\n",
    "print(\"중복제거 후 문장 수: \", len(kor_text_cleaned), len(eng_text_cleaned))"
   ]
  },
  {
   "cell_type": "markdown",
   "id": "ac3757a8",
   "metadata": {},
   "source": [
    "#### 분석\n",
    "- 각각 중복 제거했을 때, 데이터 크기가 맞지 않는 문제가 있음 --> **pandas DataFrame으로 변환하고 drop_duplicates 이용**"
   ]
  },
  {
   "cell_type": "code",
   "execution_count": 7,
   "id": "55c308bf",
   "metadata": {},
   "outputs": [
    {
     "name": "stdout",
     "output_type": "stream",
     "text": [
      "데이터 크기: 94123\n"
     ]
    }
   ],
   "source": [
    "# 데이터를 DataFrame으로 변환\n",
    "data = pd.DataFrame({\"kor\": kor_text, \"eng\": eng_text})\n",
    "print(f'데이터 크기: {len(data)}')"
   ]
  },
  {
   "cell_type": "code",
   "execution_count": 8,
   "id": "3cfe98b8",
   "metadata": {},
   "outputs": [
    {
     "name": "stdout",
     "output_type": "stream",
     "text": [
      "중복 제거 후 데이터 크기: 77591\n"
     ]
    }
   ],
   "source": [
    "# 중복 제거\n",
    "data = data.drop_duplicates(subset=['kor'])\n",
    "print(f'중복 제거 후 데이터 크기: {len(data)}')"
   ]
  },
  {
   "cell_type": "code",
   "execution_count": 9,
   "id": "2db2d9a7",
   "metadata": {},
   "outputs": [],
   "source": [
    "# 문장 단위 텍스트 전처리\n",
    "def preprocess_sentence(sentence):\n",
    "    # 소문자 변환\n",
    "    sentence = sentence.lower()\n",
    "\n",
    "    # 문장 부호 간 띄어쓰기\n",
    "    sentence = re.sub(r\"([?.!,])\", r\" \\1 \", sentence)\n",
    "    \n",
    "    # 숫자 간 띄어쓰기\n",
    "    sentence = re.sub(r\"([0-9]+)\", r\" \\1 \", sentence)\n",
    "    \n",
    "    # 알파벳 한글 간 띄어쓰기\n",
    "    sentence = re.sub(r\"([a-zA-Z]+)\", r\" \\1 \", sentence)\n",
    "\n",
    "    # 알파벳, 한글, 숫자, 문장부호를 제외한 모든 문자를 공백으로 대체\n",
    "    sentence = re.sub(\"[^a-zA-Z0-9가-힣?.!,]\", \" \", sentence)\n",
    "\n",
    "    # 빈 칸 반복되는 것 하나로 줄이기\n",
    "    sentence = re.sub(r'[\" \"]+', \" \", sentence)\n",
    "\n",
    "    # 문장 앞 뒤 공백 자르기\n",
    "    sentence = sentence.strip()\n",
    "\n",
    "    return sentence"
   ]
  },
  {
   "cell_type": "code",
   "execution_count": 10,
   "id": "d2cce11e",
   "metadata": {},
   "outputs": [],
   "source": [
    "# 데이터셋 단위 전처리\n",
    "def preprocess_data(data):\n",
    "    kor = []\n",
    "    eng = []\n",
    "    for k, e in zip(data['kor'], data['eng']):\n",
    "        kor.append(preprocess_sentence(k))\n",
    "        eng.append(preprocess_sentence(e))\n",
    "\n",
    "    return kor, eng"
   ]
  },
  {
   "cell_type": "code",
   "execution_count": 11,
   "id": "3cbd67dd",
   "metadata": {},
   "outputs": [],
   "source": [
    "kor_text_preprocessed, eng_text_preprocessed = preprocess_data(data)"
   ]
  },
  {
   "cell_type": "markdown",
   "id": "a8018012",
   "metadata": {},
   "source": [
    "### 2. 한글 토큰화"
   ]
  },
  {
   "cell_type": "code",
   "execution_count": 12,
   "id": "9a6f8578",
   "metadata": {},
   "outputs": [],
   "source": [
    "# 형태소 분석기로 Mecab 이용\n",
    "from konlpy.tag import Mecab\n",
    "\n",
    "mecab = Mecab()"
   ]
  },
  {
   "cell_type": "code",
   "execution_count": 13,
   "id": "e8ca2a98",
   "metadata": {},
   "outputs": [
    {
     "name": "stdout",
     "output_type": "stream",
     "text": [
      "['개인', '용', '컴퓨터', '사용', '의', '상당', '부분', '은', '이것', '보다', '뛰어날', '수', '있', '느냐', '?']\n"
     ]
    }
   ],
   "source": [
    "# 형태소 분석기 테스트\n",
    "print(mecab.morphs(kor_text_preprocessed[0]))"
   ]
  },
  {
   "cell_type": "code",
   "execution_count": 14,
   "id": "c30696b6",
   "metadata": {},
   "outputs": [],
   "source": [
    "# 한글 토큰화 함수\n",
    "# 형태소 분석기를 통해 분리된 토큰의 갯수가 지정된 갯수보다 작아야 말뭉치에 포함됨\n",
    "# 영어는 띄어쓰기 단위로 분리하고, 시작 토큰과 종료 토큰이 추가됨\n",
    "def tokenize(kor_data, eng_data, max_token_length):\n",
    "    kor = []\n",
    "    eng = []\n",
    "    for (kor_sen, eng_sen) in zip(kor_data, eng_data):\n",
    "        try:\n",
    "            kor_token = mecab.morphs(kor_sen)\n",
    "            eng_token = (\"<start> \" + eng_sen + \" <end>\").split(\" \")\n",
    "            if len(kor_token) < max_token_length:\n",
    "                kor.append(kor_token)\n",
    "                eng.append(eng_token)\n",
    "        except:\n",
    "            print(kor_sen, eng_sen)\n",
    "\n",
    "    return kor, eng"
   ]
  },
  {
   "cell_type": "code",
   "execution_count": 15,
   "id": "698e52fa",
   "metadata": {},
   "outputs": [],
   "source": [
    "# 한글의 최대 토큰 길이를 50\n",
    "kor_corpus, eng_corpus = tokenize(kor_text_preprocessed, eng_text_preprocessed, 50)"
   ]
  },
  {
   "attachments": {
    "image.png": {
     "image/png": "[encoded data removed]"
    }
   },
   "cell_type": "markdown",
   "id": "e8089d36",
   "metadata": {},
   "source": [
    "#### 디버깅\n",
    "- 아래와 같은 에러메시지\n",
    "![image.png](attachment:image.png)\n",
    "- tokenize() 함수의 리턴값이 없어서 발생하는 문제임"
   ]
  },
  {
   "cell_type": "code",
   "execution_count": 16,
   "id": "73fd306a",
   "metadata": {},
   "outputs": [],
   "source": [
    "# 토큰 인덱스로 변환\n",
    "def tokenize_index(corpus):\n",
    "    tokenizer = tf.keras.preprocessing.text.Tokenizer(filters='')\n",
    "    tokenizer.fit_on_texts(corpus)\n",
    "\n",
    "    tensor = tokenizer.texts_to_sequences(corpus)\n",
    "\n",
    "    tensor = tf.keras.preprocessing.sequence.pad_sequences(tensor, padding='post')\n",
    "\n",
    "    return tensor, tokenizer"
   ]
  },
  {
   "cell_type": "code",
   "execution_count": 17,
   "id": "f5dd51c3",
   "metadata": {},
   "outputs": [],
   "source": [
    "enc_tensor, enc_tokenizer = tokenize_index(kor_corpus)\n",
    "dec_tensor, dec_tokenizer = tokenize_index(eng_corpus)"
   ]
  },
  {
   "cell_type": "markdown",
   "id": "b8a279f2",
   "metadata": {},
   "source": [
    "### 3. 모델 설계"
   ]
  },
  {
   "cell_type": "code",
   "execution_count": 25,
   "id": "9893be2d",
   "metadata": {},
   "outputs": [],
   "source": [
    "# 어텐션 함수\n",
    "class BahdanauAttention(tf.keras.layers.Layer):\n",
    "    def __init__(self, units):\n",
    "        super(BahdanauAttention, self).__init__()\n",
    "        self.w_dec = tf.keras.layers.Dense(units)\n",
    "        self.w_enc = tf.keras.layers.Dense(units)\n",
    "        self.w_com = tf.keras.layers.Dense(1)\n",
    "    \n",
    "    def call(self, h_enc, h_dec):\n",
    "        # h_enc shape: [batch x length x units]\n",
    "        # h_dec shape: [batch x units]\n",
    "\n",
    "        h_enc = self.w_enc(h_enc)\n",
    "        h_dec = tf.expand_dims(h_dec, 1)\n",
    "        h_dec = self.w_dec(h_dec)\n",
    "\n",
    "        score = self.w_com(tf.nn.tanh(h_dec + h_enc))\n",
    "        \n",
    "        attn = tf.nn.softmax(score, axis=1)\n",
    "\n",
    "        context_vec = attn * h_enc\n",
    "        context_vec = tf.reduce_sum(context_vec, axis=1)\n",
    "        #print(context_vec.shape, attn.shape)\n",
    "\n",
    "        return context_vec, attn"
   ]
  },
  {
   "cell_type": "code",
   "execution_count": 19,
   "id": "a5a40858",
   "metadata": {},
   "outputs": [],
   "source": [
    "# 인코더\n",
    "class Encoder(tf.keras.Model):\n",
    "    def __init__(self, vocab_size, embedding_dim, enc_units):\n",
    "        super(Encoder, self).__init__()\n",
    "        \n",
    "        self.enc_units = enc_units\n",
    "        self.embedding = tf.keras.layers.Embedding(vocab_size, embedding_dim)\n",
    "        self.gru = tf.keras.layers.GRU(enc_units, return_sequences=True)\n",
    "        \n",
    "    def call(self, x):\n",
    "        out = self.embedding(x)\n",
    "        out = self.gru(out)\n",
    "        \n",
    "        return out"
   ]
  },
  {
   "cell_type": "code",
   "execution_count": 20,
   "id": "bb2a50d6",
   "metadata": {},
   "outputs": [],
   "source": [
    "# 디코더\n",
    "class Decoder(tf.keras.Model):\n",
    "    def __init__(self, vocab_size, embedding_dim, dec_units):\n",
    "        super(Decoder, self).__init__()\n",
    "        self.dec_units = dec_units\n",
    "        self.embedding = tf.keras.layers.Embedding(vocab_size, embedding_dim)\n",
    "        self.gru = tf.keras.layers.GRU(dec_units, return_sequences=True, return_state=True)\n",
    "        self.fc = tf.keras.layers.Dense(vocab_size)\n",
    "\n",
    "        self.attention = BahdanauAttention(self.dec_units)\n",
    "\n",
    "    def call(self, x, h_dec, enc_out):\n",
    "        context_vec, attn = self.attention(enc_out, h_dec)\n",
    "\n",
    "        out = self.embedding(x)\n",
    "        out = tf.concat([tf.expand_dims(context_vec, 1), out], axis=-1)\n",
    "        \n",
    "        out, h_dec = self.gru(out)\n",
    "        out = tf.reshape(out, (-1, out.shape[2]))\n",
    "        out = self.fc(out)\n",
    "\n",
    "        return out, h_dec, attn"
   ]
  },
  {
   "cell_type": "markdown",
   "id": "e876f701",
   "metadata": {},
   "source": [
    "### 4. 훈련"
   ]
  },
  {
   "cell_type": "code",
   "execution_count": 21,
   "id": "706a728c",
   "metadata": {},
   "outputs": [],
   "source": [
    "# 옵티마이저\n",
    "optimizer = tf.keras.optimizers.Adam()"
   ]
  },
  {
   "cell_type": "code",
   "execution_count": 22,
   "id": "ec76c272",
   "metadata": {},
   "outputs": [],
   "source": [
    "# 손실 함수 정의\n",
    "loss_object = tf.keras.losses.SparseCategoricalCrossentropy(from_logits=True, reduction='none')\n",
    "\n",
    "def loss_function(real, pred):\n",
    "    mask = tf.math.logical_not(tf.math.equal(real, 0))\n",
    "    loss = loss_object(real, pred)\n",
    "    \n",
    "    mask = tf.cast(mask, dtype=loss.dtype)\n",
    "    loss *= mask\n",
    "    \n",
    "    return tf.reduce_mean(loss)"
   ]
  },
  {
   "cell_type": "code",
   "execution_count": 29,
   "id": "54c8b140",
   "metadata": {},
   "outputs": [],
   "source": [
    "# 학습 스탭 정의\n",
    "@tf.function\n",
    "def train_step(src, tgt, encoder, decoder, optimizer, dec_tok):\n",
    "    bsz = src.shape[0]\n",
    "    loss = 0\n",
    "\n",
    "    with tf.GradientTape() as tape:\n",
    "        enc_out = encoder(src)\n",
    "        #print(enc_out.shape)\n",
    "        h_dec = enc_out[:, -1]\n",
    "        \n",
    "        dec_src = tf.expand_dims([dec_tok.word_index['<start>']] * bsz, 1)\n",
    "\n",
    "        for t in range(1, tgt.shape[1]):\n",
    "            pred, h_dec, _ = decoder(dec_src, h_dec, enc_out)\n",
    "\n",
    "            loss += loss_function(tgt[:, t], pred)\n",
    "            dec_src = tf.expand_dims(tgt[:, t], 1)\n",
    "        \n",
    "    batch_loss = (loss / int(tgt.shape[1]))\n",
    "\n",
    "    variables = encoder.trainable_variables + decoder.trainable_variables\n",
    "    gradients = tape.gradient(loss, variables)\n",
    "    optimizer.apply_gradients(zip(gradients, variables))\n",
    "    \n",
    "    return batch_loss"
   ]
  },
  {
   "cell_type": "code",
   "execution_count": 30,
   "id": "92ba5689",
   "metadata": {},
   "outputs": [
    {
     "name": "stdout",
     "output_type": "stream",
     "text": [
      "학습용 샘플 수: 30000\n"
     ]
    },
    {
     "name": "stderr",
     "output_type": "stream",
     "text": [
      "Epoch  1: 100%|██████████| 469/469 [07:57<00:00,  1.02s/it, Loss 2.1637]  \n",
      "Epoch  2: 100%|██████████| 469/469 [05:12<00:00,  1.50it/s, Loss 1.9929]\n",
      "Epoch  3: 100%|██████████| 469/469 [05:12<00:00,  1.50it/s, Loss 1.9810]\n",
      "Epoch  4: 100%|██████████| 469/469 [05:12<00:00,  1.50it/s, Loss 1.9743]\n",
      "Epoch  5: 100%|██████████| 469/469 [05:12<00:00,  1.50it/s, Loss 1.9710]\n",
      "Epoch  6: 100%|██████████| 469/469 [05:12<00:00,  1.50it/s, Loss 1.9695]\n",
      "Epoch  7: 100%|██████████| 469/469 [05:12<00:00,  1.50it/s, Loss 1.9682]\n",
      "Epoch  8: 100%|██████████| 469/469 [05:12<00:00,  1.50it/s, Loss 1.9679]\n",
      "Epoch  9: 100%|██████████| 469/469 [05:12<00:00,  1.50it/s, Loss 1.9677]\n",
      "Epoch 10: 100%|██████████| 469/469 [05:12<00:00,  1.50it/s, Loss 1.9677]\n"
     ]
    }
   ],
   "source": [
    "# train_step을 호출하여 실제 모델 학습 수행 \n",
    "from tqdm import tqdm\n",
    "import random\n",
    "\n",
    "#TRAIN_SAMPLE = len(enc_tensor)\n",
    "TRAIN_SAMPLE = 30000\n",
    "print(f'학습용 샘플 수: {TRAIN_SAMPLE}')\n",
    "enc_train = enc_tensor[:TRAIN_SAMPLE]\n",
    "dec_train = dec_tensor[:TRAIN_SAMPLE]\n",
    "\n",
    "BATCH_SIZE     = 64\n",
    "SRC_VOCAB_SIZE = len(enc_tokenizer.index_word) + 1\n",
    "TGT_VOCAB_SIZE = len(dec_tokenizer.index_word) + 1\n",
    "\n",
    "units         = 512\n",
    "embedding_dim = 256\n",
    "\n",
    "encoder = Encoder(SRC_VOCAB_SIZE, embedding_dim, units)\n",
    "decoder = Decoder(TGT_VOCAB_SIZE, embedding_dim, units)\n",
    "\n",
    "EPOCHS = 10\n",
    "\n",
    "for epoch in range(EPOCHS):\n",
    "    total_loss = 0\n",
    "    \n",
    "    idx_list = list(range(0, enc_train.shape[0], BATCH_SIZE))\n",
    "    random.shuffle(idx_list)\n",
    "    t = tqdm(idx_list)    # tqdm\n",
    "\n",
    "    for (batch, idx) in enumerate(t):\n",
    "        batch_loss = train_step(enc_train[idx:idx+BATCH_SIZE], dec_train[idx:idx+BATCH_SIZE], encoder, decoder, optimizer, dec_tokenizer)\n",
    "    \n",
    "        total_loss += batch_loss\n",
    "        \n",
    "        t.set_description_str('Epoch %2d' % (epoch + 1))    # tqdm\n",
    "        t.set_postfix_str('Loss %.4f' % (total_loss.numpy() / (batch + 1)))    # tqdm"
   ]
  },
  {
   "attachments": {
    "image.png": {
     "image/png": "[encoded data removed]"
    }
   },
   "cell_type": "markdown",
   "id": "c411fead",
   "metadata": {},
   "source": [
    "#### 디버깅\n",
    "- BATCH_SIZE: 64, units: 1024, embedding_dim: 512, TRAIN_SAMPLE: 72658 에서 메모리 부족 에러 발생\n",
    "- BATCH_SIZE: 32, units: 512, embedding_dim: 256, TRAIN_SAMPLE: 72658 에서 학습시간 Epoch 당 19분 소요\n",
    "- 학습이 완료되었거나, 강제 종료되어 다시 모델을 학습할 때 아래와 같은 에러 발생 -> train_step 함수를 다시 실행\n",
    "![image.png](attachment:image.png)\n",
    "- BATCH_SIZE: 64, units: 512, embedding_dim: 256, TRAIN_SAMPLE: 30000 에서 학습시간 Epoch 당 6분 소요"
   ]
  },
  {
   "cell_type": "markdown",
   "id": "8c9ba1fb",
   "metadata": {},
   "source": [
    "### 5. 시각화"
   ]
  },
  {
   "cell_type": "code",
   "execution_count": 31,
   "id": "90b44fe5",
   "metadata": {},
   "outputs": [],
   "source": [
    "import matplotlib as mpl\n",
    "import matplotlib.ticker as ticker\n",
    "import matplotlib.pyplot as plt\n",
    "import matplotlib.font_manager as fm\n",
    "\n",
    "%config InlineBackend.figure_format = 'retina'\n",
    "\n",
    "#mpl.font_manager.findfont(font)\n",
    "fontpath = '/usr/share/fonts/truetype/nanum/NanumBarunGothic.ttf'\n",
    "font = fm.FontProperties(fname=fontpath, size=9)\n",
    "plt.rc('font', family='NanumBarunGothic')"
   ]
  },
  {
   "cell_type": "code",
   "execution_count": 32,
   "id": "eb37330e",
   "metadata": {},
   "outputs": [],
   "source": [
    "# 어텐션 값을 시각화\n",
    "def plot_attention(attention, sentence, predicted_sentence):\n",
    "    print(attention.shape)\n",
    "    fig = plt.figure(figsize=(10,10))\n",
    "    ax = fig.add_subplot(1, 1, 1)\n",
    "    \n",
    "    ax.matshow(attention, cmap='viridis')\n",
    "\n",
    "    fontdict = {'fontsize': 10}\n",
    "\n",
    "    ax.xaxis.set_major_locator(ticker.MultipleLocator(1))\n",
    "    ax.yaxis.set_major_locator(ticker.MultipleLocator(1))\n",
    "\n",
    "    ax.set_xticklabels([''] + sentence, fontdict=fontdict, rotation=90)\n",
    "    ax.set_yticklabels([''] + predicted_sentence, fontdict=fontdict)\n",
    "\n",
    "    plt.show()"
   ]
  },
  {
   "cell_type": "markdown",
   "id": "0886773a",
   "metadata": {},
   "source": [
    "### 6. 평가"
   ]
  },
  {
   "cell_type": "code",
   "execution_count": 33,
   "id": "1a185292",
   "metadata": {},
   "outputs": [],
   "source": [
    "# 입력된 문장으로부터 디코더 출력을 얻어오는 함수 - 번역된 문장을 얻어온다\n",
    "def evaluate(sentence, encoder, decoder):\n",
    "    attention = np.zeros((dec_train.shape[-1], enc_train.shape[-1]))\n",
    "    \n",
    "    sentence = preprocess_sentence(sentence)\n",
    "   \n",
    "    #inputs = enc_tokenizer.texts_to_sequences([sentence.split()])\n",
    "    inputs = mecab.morphs(sentence)\n",
    "    inputs = enc_tokenizer.texts_to_sequences(inputs)\n",
    "    print(inputs, type(inputs))\n",
    "\n",
    "    res = []\n",
    "    for element in inputs:\n",
    "        res += element\n",
    "    inputs = [res]\n",
    "    print(inputs, type(res))\n",
    "\n",
    "    inputs = tf.keras.preprocessing.sequence.pad_sequences(inputs, maxlen=enc_train.shape[-1], padding='post')\n",
    "\n",
    "    result = ''\n",
    "\n",
    "    enc_out = encoder(inputs)\n",
    "\n",
    "    dec_hidden = enc_out[:, -1]\n",
    "    dec_input = tf.expand_dims([dec_tokenizer.word_index['<start>']], 0)\n",
    "\n",
    "    for t in range(dec_train.shape[-1]):\n",
    "        predictions, dec_hidden, attention_weights = decoder(dec_input, dec_hidden, enc_out)\n",
    "\n",
    "        attention_weights = tf.reshape(attention_weights, (-1, ))\n",
    "        attention[t] = attention_weights.numpy()\n",
    "\n",
    "        predicted_id = \\\n",
    "        tf.argmax(tf.math.softmax(predictions, axis=-1)[0]).numpy()\n",
    "\n",
    "        result += dec_tokenizer.index_word[predicted_id] + ' '\n",
    "\n",
    "        if dec_tokenizer.index_word[predicted_id] == '<end>':\n",
    "            return result, sentence, attention\n",
    "\n",
    "        dec_input = tf.expand_dims([predicted_id], 0)\n",
    "\n",
    "    return result, sentence, attention"
   ]
  },
  {
   "cell_type": "code",
   "execution_count": 34,
   "id": "ed0952be",
   "metadata": {},
   "outputs": [],
   "source": [
    "# 번역과 어텐션 매트릭스 출력을 한 번에 처리하는 함수\n",
    "def translate(sentence, encoder, decoder):\n",
    "    result, sentence, attention = evaluate(sentence, encoder, decoder)\n",
    "\n",
    "    print('Input: %s' % (sentence))\n",
    "    print('Predicted translation: {}'.format(result))\n",
    "    \n",
    "    attention = attention[:len(result.split()), :len(sentence.split())]\n",
    "    plot_attention(attention, sentence.split(), result.split(' '))"
   ]
  },
  {
   "cell_type": "code",
   "execution_count": 37,
   "id": "8a5b17de",
   "metadata": {},
   "outputs": [
    {
     "name": "stdout",
     "output_type": "stream",
     "text": [
      "[[264], [4], [7315], [3], [10183], [3], [2], [1], [6742], [8], [2203], [8], [2241], [2466], [3], [31770], [1265], [1568], [153], [5492], [1544], [7], [286], [6683], [34], [485], [35], [2], [1]] <class 'list'>\n",
      "[[264, 4, 7315, 3, 10183, 3, 2, 1, 6742, 8, 2203, 8, 2241, 2466, 3, 31770, 1265, 1568, 153, 5492, 1544, 7, 286, 6683, 34, 485, 35, 2, 1]] <class 'list'>\n",
      "Input: 그녀는 태생이 귀족이다 . 키드먼은 여러분은 왜 세상이 이토록 혼란스러운 때 아카데미상 시상식에 왔습니까 라고 물었다 .\n",
      "Predicted translation: the the the the the the the the the the the the the the the the the the the the the the the the the the the the the the the the the the the the the the the the the the the the the the the the the the the the the the the the the the the the the the the the the the the the the the the the the the the the the the the the the the the the the the the the the the the the the the \n",
      "(94, 17)\n"
     ]
    },
    {
     "name": "stderr",
     "output_type": "stream",
     "text": [
      "/tmp/ipykernel_31/1675387983.py:14: UserWarning: FixedFormatter should only be used together with FixedLocator\n",
      "  ax.set_xticklabels([''] + sentence, fontdict=fontdict, rotation=90)\n",
      "/tmp/ipykernel_31/1675387983.py:15: UserWarning: FixedFormatter should only be used together with FixedLocator\n",
      "  ax.set_yticklabels([''] + predicted_sentence, fontdict=fontdict)\n"
     ]
    },
    {
     "data": {
      "image/png": "[encoded data removed]",
      "text/plain": [
       "<Figure size 720x720 with 1 Axes>"
      ]
     },
     "metadata": {
      "image/png": {
       "height": 613,
       "width": 137
      },
      "needs_background": "light"
     },
     "output_type": "display_data"
    }
   ],
   "source": [
    "# 테스트 케이스 1 - 학습된 문장\n",
    "test_index = 3269\n",
    "translate(kor_text[test_index], encoder, decoder)"
   ]
  },
  {
   "cell_type": "code",
   "execution_count": 36,
   "id": "17daa686",
   "metadata": {},
   "outputs": [
    {
     "name": "stdout",
     "output_type": "stream",
     "text": [
      "[[1010], [3098], [809], [439]] <class 'list'>\n",
      "[[1010, 3098, 809, 439]] <class 'list'>\n",
      "Input: 어떻게 지내니 ?\n",
      "Predicted translation: the the the the the the the the the the the the the the the the the the the the the the the the the the the the the the the the the the the the the the the the the the the the the the the the the the the the the the the the the the the the the the the the the the the the the the the the the the the the the the the the the the the the the the the the the the the the the the \n",
      "(94, 3)\n"
     ]
    },
    {
     "name": "stderr",
     "output_type": "stream",
     "text": [
      "/tmp/ipykernel_31/1675387983.py:14: UserWarning: FixedFormatter should only be used together with FixedLocator\n",
      "  ax.set_xticklabels([''] + sentence, fontdict=fontdict, rotation=90)\n",
      "/tmp/ipykernel_31/1675387983.py:15: UserWarning: FixedFormatter should only be used together with FixedLocator\n",
      "  ax.set_yticklabels([''] + predicted_sentence, fontdict=fontdict)\n"
     ]
    },
    {
     "data": {
      "image/png": "[encoded data removed]",
      "text/plain": [
       "<Figure size 720x720 with 1 Axes>"
      ]
     },
     "metadata": {
      "image/png": {
       "height": 595,
       "width": 56
      },
      "needs_background": "light"
     },
     "output_type": "display_data"
    }
   ],
   "source": [
    "# 테스트 케이스 2 - 새로운 문장\n",
    "translate(\"어떻게 지내니?\", encoder, decoder)"
   ]
  },
  {
   "attachments": {
    "image.png": {
     "image/png": "[encoded data removed]"
    }
   },
   "cell_type": "markdown",
   "id": "375954af",
   "metadata": {},
   "source": [
    "#### 분석\n",
    "- 정상적인 번역 결과를 출력하지 못함\n",
    "- 정확한 원인 분석이 어려움\n",
    "- 학습에 상당한 시간이 걸려서 모델 변경이나 파라미터 변경을 통한 반복적인 테스트 불가\n",
    "\n",
    "- 작은 데이터셋으로 학습을 하면 아래와 같이 출력됨 --> 바로 종료 토큰을 전달\n",
    "![image.png](attachment:image.png)\n",
    "\n",
    "- 어텐션 그래프가 이상하게 표시되는 것은 폭(입력 시퀀스의 수)에 비해 높이(출력 시퀀스의 수)가 높아서 발생\n",
    "- 히트맵을 구성하는 사각형이 정사각형으로 그려지도록 크기가 결정되어 폭이 좁은 그래프로 그려짐"
   ]
  },
  {
   "cell_type": "markdown",
   "id": "a7eb40fb",
   "metadata": {},
   "source": [
    "### 회고\n",
    "\n",
    "#### 성능이 나오지 않는 이유에 대한 생각\n",
    "\n",
    "1) 학습에 사용된 한-영 번역 데이터의 품질이 매우 나쁨\n",
    "- 한 줄이 하나의 완결된 문장이어서 1:1로 한-영 번역이 이뤄지는 구조가 아님.\n",
    "- 개인적인 생각으로는 '여러 줄에 걸쳐 문단으로 구성된 한-영 번역 데이터를 복사/붙여넣기 해서 만들어진 데이터'라는 생각이 듬\n",
    "\n",
    "2) 모델의 문제점을 확인하고 분석하기 어려움\n",
    "- 학습에 상당한 시간이 걸림.\n",
    "- 데이터 수를 줄이면 학습이 빨리 되지만, 번역 결과를 출력하지 못함.\n",
    "- 모델 구조의 복잡성은 결국 모델의 한계점을 찾기 어렵게 함.\n",
    "- 모델 동작 상태를 정확히 알 수 없는 상태에서 '레이어 추가/변경', '하이퍼파라미터 변경' 같은 전략이 어떠한 의미를 가지는지 판단하기 어려움\n",
    "- '그냥 해보고, 되면 좋고, 아니면 또 해보고'는 연구자/엔지니어로써 좋은 방법론은 아닌 듯\n",
    "\n",
    "#### 성능 향상 및 성능 평가 방법에 대한 생각\n",
    "- 한글 문장 데이터를 파파고 등의 번역 서버스를 이용해서 라인 별로 영어로 번역하고, 이를 디코더 입력용으로 이용하는 방식이 좋을 것 같음.\n",
    "- 학습된 번역 모델이 출력한 결과와 디코더 입력으로 사용한 데이터와의 차이를 비교하여 성능 평가 (n-gram 이용해서)\n",
    "\n",
    "#### CV 팀과의 논의를 들으며\n",
    "- 어텐션이 입력 시퀀스 상의 각 입력에 대해 어느 정도의 가중치를 가지는지를 나타내는 벡터라고 본다면, CV의 CAM과 gradCAM과 목적이 같은 것이라는 생각.\n",
    "- 어텐션 vs CAM vs gradCAM 의 동작 원리에 대해 비교해보는 것도 좋을 것 같음"
   ]
  },
  {
   "cell_type": "code",
   "execution_count": null,
   "id": "da91132c",
   "metadata": {},
   "outputs": [],
   "source": []
  }
 ],
 "metadata": {
  "kernelspec": {
   "display_name": "Python 3 (ipykernel)",
   "language": "python",
   "name": "python3"
  },
  "language_info": {
   "codemirror_mode": {
    "name": "ipython",
    "version": 3
   },
   "file_extension": ".py",
   "mimetype": "text/x-python",
   "name": "python",
   "nbconvert_exporter": "python",
   "pygments_lexer": "ipython3",
   "version": "3.9.7"
  }
 },
 "nbformat": 4,
 "nbformat_minor": 5
}
