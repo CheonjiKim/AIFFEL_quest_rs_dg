{
 "cells": [
  {
   "cell_type": "markdown",
   "id": "ff037637-f2f5-4863-94fb-3753ca82411d",
   "metadata": {},
   "source": [
    "## 24. HuggingFace 커스텀 프로젝트 만들기"
   ]
  },
  {
   "cell_type": "markdown",
   "id": "84738692-4245-421b-8fdd-3c336f42a8c3",
   "metadata": {},
   "source": [
    "### STEP 1. NSMC 데이터 분석 및 Huggingface dataset 구성"
   ]
  },
  {
   "cell_type": "code",
   "execution_count": 3,
   "id": "f341613f-a130-4671-8c33-a9b7848d292f",
   "metadata": {},
   "outputs": [],
   "source": [
    "# 데이터 불러오기\n",
    "import datasets\n",
    "\n",
    "# 데이터셋의 크기\n",
    "num_train_set = 10000\n",
    "num_val_set = 3000\n",
    "num_test_set = 10000\n",
    "\n",
    "hf_nsmc_train_data = datasets.load_dataset('e9t/nsmc', split=f\"train[:{num_train_set}]\")\n",
    "hf_nsmc_val_data = datasets.load_dataset('e9t/nsmc', split=f\"train[{num_train_set}:{num_train_set + num_val_set}]\")\n",
    "hf_nsmc_test_data = datasets.load_dataset('e9t/nsmc', split=f\"test[:{num_test_set}]\")"
   ]
  },
  {
   "cell_type": "code",
   "execution_count": 4,
   "id": "aeccb2b7-5ec0-432f-b9dd-f5f77deae46c",
   "metadata": {},
   "outputs": [
    {
     "name": "stdout",
     "output_type": "stream",
     "text": [
      "Dataset({\n",
      "    features: ['id', 'document', 'label'],\n",
      "    num_rows: 10000\n",
      "}) Dataset({\n",
      "    features: ['id', 'document', 'label'],\n",
      "    num_rows: 3000\n",
      "}) Dataset({\n",
      "    features: ['id', 'document', 'label'],\n",
      "    num_rows: 10000\n",
      "})\n"
     ]
    }
   ],
   "source": [
    "# 데이터셋 레이블 확인\n",
    "print(hf_nsmc_train_data, hf_nsmc_val_data, hf_nsmc_test_data)"
   ]
  },
  {
   "cell_type": "code",
   "execution_count": 7,
   "id": "25851de6-be25-4714-a7ef-e1490d6a7d0b",
   "metadata": {},
   "outputs": [],
   "source": [
    "# 데이터 확인 함수\n",
    "def print_dataset(dataset):\n",
    "    for i in range(3):\n",
    "        for col in dataset.column_names:\n",
    "            print (col, \": \", dataset[col][i])\n",
    "        print()"
   ]
  },
  {
   "cell_type": "code",
   "execution_count": 8,
   "id": "77dbf756-0629-45ec-b58e-41130b366bdc",
   "metadata": {},
   "outputs": [
    {
     "name": "stdout",
     "output_type": "stream",
     "text": [
      "id :  9976970\n",
      "document :  아 더빙.. 진짜 짜증나네요 목소리\n",
      "label :  0\n",
      "\n",
      "id :  3819312\n",
      "document :  흠...포스터보고 초딩영화줄....오버연기조차 가볍지 않구나\n",
      "label :  1\n",
      "\n",
      "id :  10265843\n",
      "document :  너무재밓었다그래서보는것을추천한다\n",
      "label :  0\n",
      "\n",
      "id :  9246662\n",
      "document :  최고의 2d영화가 아닌가싶으다....!\n",
      "label :  1\n",
      "\n",
      "id :  3207978\n",
      "document :  카리스마작렬~역대퍼니셔시리즈1.2.3中가장좋은액션수작!!\n",
      "label :  1\n",
      "\n",
      "id :  8117078\n",
      "document :  음..별로다..정말로....\n",
      "label :  0\n",
      "\n",
      "id :  6270596\n",
      "document :  굳 ㅋ\n",
      "label :  1\n",
      "\n",
      "id :  9274899\n",
      "document :  GDNTOPCLASSINTHECLUB\n",
      "label :  0\n",
      "\n",
      "id :  8544678\n",
      "document :  뭐야 이 평점들은.... 나쁘진 않지만 10점 짜리는 더더욱 아니잖아\n",
      "label :  0\n",
      "\n"
     ]
    }
   ],
   "source": [
    "# 데이터 확인\n",
    "print_dataset(hf_nsmc_train_data)\n",
    "print_dataset(hf_nsmc_val_data)\n",
    "print_dataset(hf_nsmc_test_data)"
   ]
  },
  {
   "cell_type": "markdown",
   "id": "cb6cb68e-8600-428d-bbb2-cdcadbff9601",
   "metadata": {},
   "source": [
    "### STEP 2. klue/bert-base model 및 tokenizer 불러오기"
   ]
  },
  {
   "cell_type": "code",
   "execution_count": 9,
   "id": "935a1a9d-e8e6-4687-9d31-4a120e1a864b",
   "metadata": {},
   "outputs": [
    {
     "data": {
      "application/vnd.jupyter.widget-view+json": {
       "model_id": "ad01d1c2b2824a0f9c89781e07755e50",
       "version_major": 2,
       "version_minor": 0
      },
      "text/plain": [
       "tokenizer_config.json:   0%|          | 0.00/289 [00:00<?, ?B/s]"
      ]
     },
     "metadata": {},
     "output_type": "display_data"
    },
    {
     "data": {
      "application/vnd.jupyter.widget-view+json": {
       "model_id": "cef1e21e3d6e4d7e959a268722904bcb",
       "version_major": 2,
       "version_minor": 0
      },
      "text/plain": [
       "config.json:   0%|          | 0.00/425 [00:00<?, ?B/s]"
      ]
     },
     "metadata": {},
     "output_type": "display_data"
    },
    {
     "data": {
      "application/vnd.jupyter.widget-view+json": {
       "model_id": "6032b7710cf641ac9606a890d35d8e16",
       "version_major": 2,
       "version_minor": 0
      },
      "text/plain": [
       "vocab.txt:   0%|          | 0.00/248k [00:00<?, ?B/s]"
      ]
     },
     "metadata": {},
     "output_type": "display_data"
    },
    {
     "data": {
      "application/vnd.jupyter.widget-view+json": {
       "model_id": "952c570ecd944ca8be16b86b2d40a9fd",
       "version_major": 2,
       "version_minor": 0
      },
      "text/plain": [
       "tokenizer.json:   0%|          | 0.00/495k [00:00<?, ?B/s]"
      ]
     },
     "metadata": {},
     "output_type": "display_data"
    },
    {
     "data": {
      "application/vnd.jupyter.widget-view+json": {
       "model_id": "03c2768681cf4a2a84e7f544e19e2a17",
       "version_major": 2,
       "version_minor": 0
      },
      "text/plain": [
       "special_tokens_map.json:   0%|          | 0.00/125 [00:00<?, ?B/s]"
      ]
     },
     "metadata": {},
     "output_type": "display_data"
    },
    {
     "data": {
      "application/vnd.jupyter.widget-view+json": {
       "model_id": "e9382416df504d3596840012447ddf12",
       "version_major": 2,
       "version_minor": 0
      },
      "text/plain": [
       "model.safetensors:   0%|          | 0.00/445M [00:00<?, ?B/s]"
      ]
     },
     "metadata": {},
     "output_type": "display_data"
    },
    {
     "name": "stderr",
     "output_type": "stream",
     "text": [
      "Some weights of BertForSequenceClassification were not initialized from the model checkpoint at klue/bert-base and are newly initialized: ['classifier.bias', 'classifier.weight']\n",
      "You should probably TRAIN this model on a down-stream task to be able to use it for predictions and inference.\n"
     ]
    }
   ],
   "source": [
    "# 사전 학습된 모델 및 토크나이저 불러오기\n",
    "from transformers import AutoTokenizer, AutoModelForSequenceClassification\n",
    "\n",
    "tokenizer = AutoTokenizer.from_pretrained(\"klue/bert-base\")\n",
    "#model = AutoModel.from_pretrained(\"klue/bert-base\")\n",
    "model = AutoModelForSequenceClassification.from_pretrained('klue/bert-base', num_labels=2)"
   ]
  },
  {
   "cell_type": "code",
   "execution_count": 10,
   "id": "a044e649-02ad-46b1-844d-1393d953fcb2",
   "metadata": {},
   "outputs": [],
   "source": [
    "# 토큰화 처리 함수\n",
    "def transform(data):\n",
    "    return tokenizer(data['document'], truncation=True, padding='max_length', return_token_type_ids=False)"
   ]
  },
  {
   "cell_type": "code",
   "execution_count": 11,
   "id": "b24ddf6a-203b-4fd2-a240-4a125f7c105a",
   "metadata": {},
   "outputs": [
    {
     "data": {
      "application/vnd.jupyter.widget-view+json": {
       "model_id": "87184d3f939344e9863b590db09e1408",
       "version_major": 2,
       "version_minor": 0
      },
      "text/plain": [
       "Map:   0%|          | 0/10000 [00:00<?, ? examples/s]"
      ]
     },
     "metadata": {},
     "output_type": "display_data"
    },
    {
     "data": {
      "application/vnd.jupyter.widget-view+json": {
       "model_id": "a34fc091c89d4145858e0f9c25368588",
       "version_major": 2,
       "version_minor": 0
      },
      "text/plain": [
       "Map:   0%|          | 0/3000 [00:00<?, ? examples/s]"
      ]
     },
     "metadata": {},
     "output_type": "display_data"
    },
    {
     "data": {
      "application/vnd.jupyter.widget-view+json": {
       "model_id": "84264cde3f0e4d3089c214a5ffb22cfb",
       "version_major": 2,
       "version_minor": 0
      },
      "text/plain": [
       "Map:   0%|          | 0/10000 [00:00<?, ? examples/s]"
      ]
     },
     "metadata": {},
     "output_type": "display_data"
    }
   ],
   "source": [
    "# 토큰화\n",
    "hf_nsmc_train_data = hf_nsmc_train_data.map(transform, batched=True)\n",
    "hf_nsmc_val_data = hf_nsmc_val_data.map(transform, batched=True)\n",
    "hf_nsmc_test_data = hf_nsmc_test_data.map(transform, batched=True)"
   ]
  },
  {
   "cell_type": "code",
   "execution_count": 12,
   "id": "882aa60b-4852-4c79-9245-b36ba533a567",
   "metadata": {},
   "outputs": [
    {
     "name": "stdout",
     "output_type": "stream",
     "text": [
      "id :  9976970\n",
      "document :  아 더빙.. 진짜 짜증나네요 목소리\n",
      "label :  0\n",
      "input_ids :  [2, 1376, 831, 2604, 18, 18, 4229, 9801, 2075, 2203, 2182, 4243, 3, 0, 0, 0, 0, 0, 0, 0, 0, 0, 0, 0, 0, 0, 0, 0, 0, 0, 0, 0, 0, 0, 0, 0, 0, 0, 0, 0, 0, 0, 0, 0, 0, 0, 0, 0, 0, 0, 0, 0, 0, 0, 0, 0, 0, 0, 0, 0, 0, 0, 0, 0, 0, 0, 0, 0, 0, 0, 0, 0, 0, 0, 0, 0, 0, 0, 0, 0, 0, 0, 0, 0, 0, 0, 0, 0, 0, 0, 0, 0, 0, 0, 0, 0, 0, 0, 0, 0, 0, 0, 0, 0, 0, 0, 0, 0, 0, 0, 0, 0, 0, 0, 0, 0, 0, 0, 0, 0, 0, 0, 0, 0, 0, 0, 0, 0, 0, 0, 0, 0, 0, 0, 0, 0, 0, 0, 0, 0, 0, 0, 0, 0, 0, 0, 0, 0, 0, 0, 0, 0, 0, 0, 0, 0, 0, 0, 0, 0, 0, 0, 0, 0, 0, 0, 0, 0, 0, 0, 0, 0, 0, 0, 0, 0, 0, 0, 0, 0, 0, 0, 0, 0, 0, 0, 0, 0, 0, 0, 0, 0, 0, 0, 0, 0, 0, 0, 0, 0, 0, 0, 0, 0, 0, 0, 0, 0, 0, 0, 0, 0, 0, 0, 0, 0, 0, 0, 0, 0, 0, 0, 0, 0, 0, 0, 0, 0, 0, 0, 0, 0, 0, 0, 0, 0, 0, 0, 0, 0, 0, 0, 0, 0, 0, 0, 0, 0, 0, 0, 0, 0, 0, 0, 0, 0, 0, 0, 0, 0, 0, 0, 0, 0, 0, 0, 0, 0, 0, 0, 0, 0, 0, 0, 0, 0, 0, 0, 0, 0, 0, 0, 0, 0, 0, 0, 0, 0, 0, 0, 0, 0, 0, 0, 0, 0, 0, 0, 0, 0, 0, 0, 0, 0, 0, 0, 0, 0, 0, 0, 0, 0, 0, 0, 0, 0, 0, 0, 0, 0, 0, 0, 0, 0, 0, 0, 0, 0, 0, 0, 0, 0, 0, 0, 0, 0, 0, 0, 0, 0, 0, 0, 0, 0, 0, 0, 0, 0, 0, 0, 0, 0, 0, 0, 0, 0, 0, 0, 0, 0, 0, 0, 0, 0, 0, 0, 0, 0, 0, 0, 0, 0, 0, 0, 0, 0, 0, 0, 0, 0, 0, 0, 0, 0, 0, 0, 0, 0, 0, 0, 0, 0, 0, 0, 0, 0, 0, 0, 0, 0, 0, 0, 0, 0, 0, 0, 0, 0, 0, 0, 0, 0, 0, 0, 0, 0, 0, 0, 0, 0, 0, 0, 0, 0, 0, 0, 0, 0, 0, 0, 0, 0, 0, 0, 0, 0, 0, 0, 0, 0, 0, 0, 0, 0, 0, 0, 0, 0, 0, 0, 0, 0, 0, 0, 0, 0, 0, 0, 0, 0, 0, 0, 0, 0, 0, 0, 0, 0, 0, 0, 0, 0, 0, 0, 0, 0, 0, 0, 0, 0, 0, 0, 0, 0, 0, 0, 0, 0, 0, 0, 0, 0, 0, 0, 0, 0, 0, 0, 0, 0, 0, 0, 0, 0, 0, 0, 0, 0, 0, 0, 0, 0]\n",
      "attention_mask :  [1, 1, 1, 1, 1, 1, 1, 1, 1, 1, 1, 1, 1, 0, 0, 0, 0, 0, 0, 0, 0, 0, 0, 0, 0, 0, 0, 0, 0, 0, 0, 0, 0, 0, 0, 0, 0, 0, 0, 0, 0, 0, 0, 0, 0, 0, 0, 0, 0, 0, 0, 0, 0, 0, 0, 0, 0, 0, 0, 0, 0, 0, 0, 0, 0, 0, 0, 0, 0, 0, 0, 0, 0, 0, 0, 0, 0, 0, 0, 0, 0, 0, 0, 0, 0, 0, 0, 0, 0, 0, 0, 0, 0, 0, 0, 0, 0, 0, 0, 0, 0, 0, 0, 0, 0, 0, 0, 0, 0, 0, 0, 0, 0, 0, 0, 0, 0, 0, 0, 0, 0, 0, 0, 0, 0, 0, 0, 0, 0, 0, 0, 0, 0, 0, 0, 0, 0, 0, 0, 0, 0, 0, 0, 0, 0, 0, 0, 0, 0, 0, 0, 0, 0, 0, 0, 0, 0, 0, 0, 0, 0, 0, 0, 0, 0, 0, 0, 0, 0, 0, 0, 0, 0, 0, 0, 0, 0, 0, 0, 0, 0, 0, 0, 0, 0, 0, 0, 0, 0, 0, 0, 0, 0, 0, 0, 0, 0, 0, 0, 0, 0, 0, 0, 0, 0, 0, 0, 0, 0, 0, 0, 0, 0, 0, 0, 0, 0, 0, 0, 0, 0, 0, 0, 0, 0, 0, 0, 0, 0, 0, 0, 0, 0, 0, 0, 0, 0, 0, 0, 0, 0, 0, 0, 0, 0, 0, 0, 0, 0, 0, 0, 0, 0, 0, 0, 0, 0, 0, 0, 0, 0, 0, 0, 0, 0, 0, 0, 0, 0, 0, 0, 0, 0, 0, 0, 0, 0, 0, 0, 0, 0, 0, 0, 0, 0, 0, 0, 0, 0, 0, 0, 0, 0, 0, 0, 0, 0, 0, 0, 0, 0, 0, 0, 0, 0, 0, 0, 0, 0, 0, 0, 0, 0, 0, 0, 0, 0, 0, 0, 0, 0, 0, 0, 0, 0, 0, 0, 0, 0, 0, 0, 0, 0, 0, 0, 0, 0, 0, 0, 0, 0, 0, 0, 0, 0, 0, 0, 0, 0, 0, 0, 0, 0, 0, 0, 0, 0, 0, 0, 0, 0, 0, 0, 0, 0, 0, 0, 0, 0, 0, 0, 0, 0, 0, 0, 0, 0, 0, 0, 0, 0, 0, 0, 0, 0, 0, 0, 0, 0, 0, 0, 0, 0, 0, 0, 0, 0, 0, 0, 0, 0, 0, 0, 0, 0, 0, 0, 0, 0, 0, 0, 0, 0, 0, 0, 0, 0, 0, 0, 0, 0, 0, 0, 0, 0, 0, 0, 0, 0, 0, 0, 0, 0, 0, 0, 0, 0, 0, 0, 0, 0, 0, 0, 0, 0, 0, 0, 0, 0, 0, 0, 0, 0, 0, 0, 0, 0, 0, 0, 0, 0, 0, 0, 0, 0, 0, 0, 0, 0, 0, 0, 0, 0, 0, 0, 0, 0, 0, 0, 0, 0, 0, 0, 0, 0, 0, 0, 0, 0, 0, 0, 0, 0, 0, 0, 0, 0, 0, 0, 0, 0, 0, 0, 0, 0, 0, 0, 0, 0, 0, 0, 0]\n",
      "\n",
      "id :  3819312\n",
      "document :  흠...포스터보고 초딩영화줄....오버연기조차 가볍지 않구나\n",
      "label :  1\n",
      "input_ids :  [2, 1963, 18, 18, 18, 11811, 2178, 2088, 28883, 16516, 2776, 18, 18, 18, 18, 10737, 2156, 2015, 2446, 2232, 6758, 2118, 1380, 6074, 3, 0, 0, 0, 0, 0, 0, 0, 0, 0, 0, 0, 0, 0, 0, 0, 0, 0, 0, 0, 0, 0, 0, 0, 0, 0, 0, 0, 0, 0, 0, 0, 0, 0, 0, 0, 0, 0, 0, 0, 0, 0, 0, 0, 0, 0, 0, 0, 0, 0, 0, 0, 0, 0, 0, 0, 0, 0, 0, 0, 0, 0, 0, 0, 0, 0, 0, 0, 0, 0, 0, 0, 0, 0, 0, 0, 0, 0, 0, 0, 0, 0, 0, 0, 0, 0, 0, 0, 0, 0, 0, 0, 0, 0, 0, 0, 0, 0, 0, 0, 0, 0, 0, 0, 0, 0, 0, 0, 0, 0, 0, 0, 0, 0, 0, 0, 0, 0, 0, 0, 0, 0, 0, 0, 0, 0, 0, 0, 0, 0, 0, 0, 0, 0, 0, 0, 0, 0, 0, 0, 0, 0, 0, 0, 0, 0, 0, 0, 0, 0, 0, 0, 0, 0, 0, 0, 0, 0, 0, 0, 0, 0, 0, 0, 0, 0, 0, 0, 0, 0, 0, 0, 0, 0, 0, 0, 0, 0, 0, 0, 0, 0, 0, 0, 0, 0, 0, 0, 0, 0, 0, 0, 0, 0, 0, 0, 0, 0, 0, 0, 0, 0, 0, 0, 0, 0, 0, 0, 0, 0, 0, 0, 0, 0, 0, 0, 0, 0, 0, 0, 0, 0, 0, 0, 0, 0, 0, 0, 0, 0, 0, 0, 0, 0, 0, 0, 0, 0, 0, 0, 0, 0, 0, 0, 0, 0, 0, 0, 0, 0, 0, 0, 0, 0, 0, 0, 0, 0, 0, 0, 0, 0, 0, 0, 0, 0, 0, 0, 0, 0, 0, 0, 0, 0, 0, 0, 0, 0, 0, 0, 0, 0, 0, 0, 0, 0, 0, 0, 0, 0, 0, 0, 0, 0, 0, 0, 0, 0, 0, 0, 0, 0, 0, 0, 0, 0, 0, 0, 0, 0, 0, 0, 0, 0, 0, 0, 0, 0, 0, 0, 0, 0, 0, 0, 0, 0, 0, 0, 0, 0, 0, 0, 0, 0, 0, 0, 0, 0, 0, 0, 0, 0, 0, 0, 0, 0, 0, 0, 0, 0, 0, 0, 0, 0, 0, 0, 0, 0, 0, 0, 0, 0, 0, 0, 0, 0, 0, 0, 0, 0, 0, 0, 0, 0, 0, 0, 0, 0, 0, 0, 0, 0, 0, 0, 0, 0, 0, 0, 0, 0, 0, 0, 0, 0, 0, 0, 0, 0, 0, 0, 0, 0, 0, 0, 0, 0, 0, 0, 0, 0, 0, 0, 0, 0, 0, 0, 0, 0, 0, 0, 0, 0, 0, 0, 0, 0, 0, 0, 0, 0, 0, 0, 0, 0, 0, 0, 0, 0, 0, 0, 0, 0, 0, 0, 0, 0, 0, 0, 0, 0, 0, 0, 0, 0, 0, 0, 0, 0, 0, 0, 0, 0, 0, 0, 0, 0, 0, 0, 0, 0, 0, 0, 0, 0, 0, 0, 0, 0, 0, 0, 0, 0, 0, 0, 0, 0, 0, 0]\n",
      "attention_mask :  [1, 1, 1, 1, 1, 1, 1, 1, 1, 1, 1, 1, 1, 1, 1, 1, 1, 1, 1, 1, 1, 1, 1, 1, 1, 0, 0, 0, 0, 0, 0, 0, 0, 0, 0, 0, 0, 0, 0, 0, 0, 0, 0, 0, 0, 0, 0, 0, 0, 0, 0, 0, 0, 0, 0, 0, 0, 0, 0, 0, 0, 0, 0, 0, 0, 0, 0, 0, 0, 0, 0, 0, 0, 0, 0, 0, 0, 0, 0, 0, 0, 0, 0, 0, 0, 0, 0, 0, 0, 0, 0, 0, 0, 0, 0, 0, 0, 0, 0, 0, 0, 0, 0, 0, 0, 0, 0, 0, 0, 0, 0, 0, 0, 0, 0, 0, 0, 0, 0, 0, 0, 0, 0, 0, 0, 0, 0, 0, 0, 0, 0, 0, 0, 0, 0, 0, 0, 0, 0, 0, 0, 0, 0, 0, 0, 0, 0, 0, 0, 0, 0, 0, 0, 0, 0, 0, 0, 0, 0, 0, 0, 0, 0, 0, 0, 0, 0, 0, 0, 0, 0, 0, 0, 0, 0, 0, 0, 0, 0, 0, 0, 0, 0, 0, 0, 0, 0, 0, 0, 0, 0, 0, 0, 0, 0, 0, 0, 0, 0, 0, 0, 0, 0, 0, 0, 0, 0, 0, 0, 0, 0, 0, 0, 0, 0, 0, 0, 0, 0, 0, 0, 0, 0, 0, 0, 0, 0, 0, 0, 0, 0, 0, 0, 0, 0, 0, 0, 0, 0, 0, 0, 0, 0, 0, 0, 0, 0, 0, 0, 0, 0, 0, 0, 0, 0, 0, 0, 0, 0, 0, 0, 0, 0, 0, 0, 0, 0, 0, 0, 0, 0, 0, 0, 0, 0, 0, 0, 0, 0, 0, 0, 0, 0, 0, 0, 0, 0, 0, 0, 0, 0, 0, 0, 0, 0, 0, 0, 0, 0, 0, 0, 0, 0, 0, 0, 0, 0, 0, 0, 0, 0, 0, 0, 0, 0, 0, 0, 0, 0, 0, 0, 0, 0, 0, 0, 0, 0, 0, 0, 0, 0, 0, 0, 0, 0, 0, 0, 0, 0, 0, 0, 0, 0, 0, 0, 0, 0, 0, 0, 0, 0, 0, 0, 0, 0, 0, 0, 0, 0, 0, 0, 0, 0, 0, 0, 0, 0, 0, 0, 0, 0, 0, 0, 0, 0, 0, 0, 0, 0, 0, 0, 0, 0, 0, 0, 0, 0, 0, 0, 0, 0, 0, 0, 0, 0, 0, 0, 0, 0, 0, 0, 0, 0, 0, 0, 0, 0, 0, 0, 0, 0, 0, 0, 0, 0, 0, 0, 0, 0, 0, 0, 0, 0, 0, 0, 0, 0, 0, 0, 0, 0, 0, 0, 0, 0, 0, 0, 0, 0, 0, 0, 0, 0, 0, 0, 0, 0, 0, 0, 0, 0, 0, 0, 0, 0, 0, 0, 0, 0, 0, 0, 0, 0, 0, 0, 0, 0, 0, 0, 0, 0, 0, 0, 0, 0, 0, 0, 0, 0, 0, 0, 0, 0, 0, 0, 0, 0, 0, 0, 0, 0, 0, 0, 0, 0, 0, 0, 0, 0, 0, 0, 0, 0, 0, 0, 0, 0, 0, 0, 0, 0, 0]\n",
      "\n",
      "id :  10265843\n",
      "document :  너무재밓었다그래서보는것을추천한다\n",
      "label :  0\n",
      "input_ids :  [2, 1, 3, 0, 0, 0, 0, 0, 0, 0, 0, 0, 0, 0, 0, 0, 0, 0, 0, 0, 0, 0, 0, 0, 0, 0, 0, 0, 0, 0, 0, 0, 0, 0, 0, 0, 0, 0, 0, 0, 0, 0, 0, 0, 0, 0, 0, 0, 0, 0, 0, 0, 0, 0, 0, 0, 0, 0, 0, 0, 0, 0, 0, 0, 0, 0, 0, 0, 0, 0, 0, 0, 0, 0, 0, 0, 0, 0, 0, 0, 0, 0, 0, 0, 0, 0, 0, 0, 0, 0, 0, 0, 0, 0, 0, 0, 0, 0, 0, 0, 0, 0, 0, 0, 0, 0, 0, 0, 0, 0, 0, 0, 0, 0, 0, 0, 0, 0, 0, 0, 0, 0, 0, 0, 0, 0, 0, 0, 0, 0, 0, 0, 0, 0, 0, 0, 0, 0, 0, 0, 0, 0, 0, 0, 0, 0, 0, 0, 0, 0, 0, 0, 0, 0, 0, 0, 0, 0, 0, 0, 0, 0, 0, 0, 0, 0, 0, 0, 0, 0, 0, 0, 0, 0, 0, 0, 0, 0, 0, 0, 0, 0, 0, 0, 0, 0, 0, 0, 0, 0, 0, 0, 0, 0, 0, 0, 0, 0, 0, 0, 0, 0, 0, 0, 0, 0, 0, 0, 0, 0, 0, 0, 0, 0, 0, 0, 0, 0, 0, 0, 0, 0, 0, 0, 0, 0, 0, 0, 0, 0, 0, 0, 0, 0, 0, 0, 0, 0, 0, 0, 0, 0, 0, 0, 0, 0, 0, 0, 0, 0, 0, 0, 0, 0, 0, 0, 0, 0, 0, 0, 0, 0, 0, 0, 0, 0, 0, 0, 0, 0, 0, 0, 0, 0, 0, 0, 0, 0, 0, 0, 0, 0, 0, 0, 0, 0, 0, 0, 0, 0, 0, 0, 0, 0, 0, 0, 0, 0, 0, 0, 0, 0, 0, 0, 0, 0, 0, 0, 0, 0, 0, 0, 0, 0, 0, 0, 0, 0, 0, 0, 0, 0, 0, 0, 0, 0, 0, 0, 0, 0, 0, 0, 0, 0, 0, 0, 0, 0, 0, 0, 0, 0, 0, 0, 0, 0, 0, 0, 0, 0, 0, 0, 0, 0, 0, 0, 0, 0, 0, 0, 0, 0, 0, 0, 0, 0, 0, 0, 0, 0, 0, 0, 0, 0, 0, 0, 0, 0, 0, 0, 0, 0, 0, 0, 0, 0, 0, 0, 0, 0, 0, 0, 0, 0, 0, 0, 0, 0, 0, 0, 0, 0, 0, 0, 0, 0, 0, 0, 0, 0, 0, 0, 0, 0, 0, 0, 0, 0, 0, 0, 0, 0, 0, 0, 0, 0, 0, 0, 0, 0, 0, 0, 0, 0, 0, 0, 0, 0, 0, 0, 0, 0, 0, 0, 0, 0, 0, 0, 0, 0, 0, 0, 0, 0, 0, 0, 0, 0, 0, 0, 0, 0, 0, 0, 0, 0, 0, 0, 0, 0, 0, 0, 0, 0, 0, 0, 0, 0, 0, 0, 0, 0, 0, 0, 0, 0, 0, 0, 0, 0, 0, 0, 0, 0, 0, 0, 0, 0, 0, 0, 0, 0, 0, 0, 0, 0, 0, 0, 0, 0, 0, 0]\n",
      "attention_mask :  [1, 1, 1, 0, 0, 0, 0, 0, 0, 0, 0, 0, 0, 0, 0, 0, 0, 0, 0, 0, 0, 0, 0, 0, 0, 0, 0, 0, 0, 0, 0, 0, 0, 0, 0, 0, 0, 0, 0, 0, 0, 0, 0, 0, 0, 0, 0, 0, 0, 0, 0, 0, 0, 0, 0, 0, 0, 0, 0, 0, 0, 0, 0, 0, 0, 0, 0, 0, 0, 0, 0, 0, 0, 0, 0, 0, 0, 0, 0, 0, 0, 0, 0, 0, 0, 0, 0, 0, 0, 0, 0, 0, 0, 0, 0, 0, 0, 0, 0, 0, 0, 0, 0, 0, 0, 0, 0, 0, 0, 0, 0, 0, 0, 0, 0, 0, 0, 0, 0, 0, 0, 0, 0, 0, 0, 0, 0, 0, 0, 0, 0, 0, 0, 0, 0, 0, 0, 0, 0, 0, 0, 0, 0, 0, 0, 0, 0, 0, 0, 0, 0, 0, 0, 0, 0, 0, 0, 0, 0, 0, 0, 0, 0, 0, 0, 0, 0, 0, 0, 0, 0, 0, 0, 0, 0, 0, 0, 0, 0, 0, 0, 0, 0, 0, 0, 0, 0, 0, 0, 0, 0, 0, 0, 0, 0, 0, 0, 0, 0, 0, 0, 0, 0, 0, 0, 0, 0, 0, 0, 0, 0, 0, 0, 0, 0, 0, 0, 0, 0, 0, 0, 0, 0, 0, 0, 0, 0, 0, 0, 0, 0, 0, 0, 0, 0, 0, 0, 0, 0, 0, 0, 0, 0, 0, 0, 0, 0, 0, 0, 0, 0, 0, 0, 0, 0, 0, 0, 0, 0, 0, 0, 0, 0, 0, 0, 0, 0, 0, 0, 0, 0, 0, 0, 0, 0, 0, 0, 0, 0, 0, 0, 0, 0, 0, 0, 0, 0, 0, 0, 0, 0, 0, 0, 0, 0, 0, 0, 0, 0, 0, 0, 0, 0, 0, 0, 0, 0, 0, 0, 0, 0, 0, 0, 0, 0, 0, 0, 0, 0, 0, 0, 0, 0, 0, 0, 0, 0, 0, 0, 0, 0, 0, 0, 0, 0, 0, 0, 0, 0, 0, 0, 0, 0, 0, 0, 0, 0, 0, 0, 0, 0, 0, 0, 0, 0, 0, 0, 0, 0, 0, 0, 0, 0, 0, 0, 0, 0, 0, 0, 0, 0, 0, 0, 0, 0, 0, 0, 0, 0, 0, 0, 0, 0, 0, 0, 0, 0, 0, 0, 0, 0, 0, 0, 0, 0, 0, 0, 0, 0, 0, 0, 0, 0, 0, 0, 0, 0, 0, 0, 0, 0, 0, 0, 0, 0, 0, 0, 0, 0, 0, 0, 0, 0, 0, 0, 0, 0, 0, 0, 0, 0, 0, 0, 0, 0, 0, 0, 0, 0, 0, 0, 0, 0, 0, 0, 0, 0, 0, 0, 0, 0, 0, 0, 0, 0, 0, 0, 0, 0, 0, 0, 0, 0, 0, 0, 0, 0, 0, 0, 0, 0, 0, 0, 0, 0, 0, 0, 0, 0, 0, 0, 0, 0, 0, 0, 0, 0, 0, 0, 0, 0, 0, 0, 0, 0, 0, 0, 0, 0, 0, 0, 0, 0, 0, 0, 0, 0, 0, 0, 0, 0, 0]\n",
      "\n"
     ]
    }
   ],
   "source": [
    "# 데이터 확인\n",
    "print_dataset(hf_nsmc_train_data)"
   ]
  },
  {
   "cell_type": "markdown",
   "id": "75c9f689-20d0-473e-b8ee-dda077f30c3d",
   "metadata": {},
   "source": [
    "## STEP 3. 위에서 불러온 tokenizer으로 데이터셋을 전처리하고, model 학습 진행해 보기"
   ]
  },
  {
   "cell_type": "code",
   "execution_count": 68,
   "id": "9c57397c-1702-496e-add3-72e390db6439",
   "metadata": {},
   "outputs": [],
   "source": [
    "# 학습 파라미터 설정\n",
    "from transformers import Trainer, TrainingArguments\n",
    "\n",
    "output_dir = '.'\n",
    "\n",
    "training_arguments = TrainingArguments(\n",
    "    output_dir,\n",
    "    eval_strategy=\"epoch\",\n",
    "    learning_rate = 1e-5,\n",
    "    per_device_train_batch_size = 32,\n",
    "    per_device_eval_batch_size = 32,\n",
    "    num_train_epochs = 3,\n",
    "    weight_decay = 0.02,\n",
    "    lr_scheduler_type = \"cosine\",\n",
    "    warmup_ratio = 0.25,\n",
    "    group_by_length = True\n",
    ")"
   ]
  },
  {
   "attachments": {
    "55ff693e-0a75-48a8-8623-838d9c84e42e.png": {
     "image/png": "[encoded data removed]"
    }
   },
   "cell_type": "markdown",
   "id": "a4979dc4-41e2-4be8-b527-a235b36035b3",
   "metadata": {},
   "source": [
    "#### 디버깅\n",
    "- TrainingArguments에서 evaluation_strategy이 더 이상 사용되지 않는다는 경고 메시지 확인하여 eval_strategy로 수정\n",
    "![image.png](attachment:55ff693e-0a75-48a8-8623-838d9c84e42e.png)"
   ]
  },
  {
   "cell_type": "code",
   "execution_count": 15,
   "id": "08582131-4939-403c-9c47-6559921f1a5e",
   "metadata": {},
   "outputs": [
    {
     "ename": "ImportError",
     "evalue": "cannot import name 'load_metric' from 'datasets' (/opt/conda/lib/python3.11/site-packages/datasets/__init__.py)",
     "output_type": "error",
     "traceback": [
      "\u001b[0;31m---------------------------------------------------------------------------\u001b[0m",
      "\u001b[0;31mImportError\u001b[0m                               Traceback (most recent call last)",
      "Cell \u001b[0;32mIn[15], line 1\u001b[0m\n\u001b[0;32m----> 1\u001b[0m \u001b[38;5;28;01mfrom\u001b[39;00m\u001b[38;5;250m \u001b[39m\u001b[38;5;21;01mdatasets\u001b[39;00m\u001b[38;5;250m \u001b[39m\u001b[38;5;28;01mimport\u001b[39;00m load_metric\n\u001b[1;32m      3\u001b[0m metric \u001b[38;5;241m=\u001b[39m load_metric(\u001b[38;5;124m'\u001b[39m\u001b[38;5;124mglue\u001b[39m\u001b[38;5;124m'\u001b[39m, \u001b[38;5;124m'\u001b[39m\u001b[38;5;124mmrpc\u001b[39m\u001b[38;5;124m'\u001b[39m)\n\u001b[1;32m      5\u001b[0m \u001b[38;5;28;01mdef\u001b[39;00m\u001b[38;5;250m \u001b[39m\u001b[38;5;21mcompute_metrics\u001b[39m(eval_pred):    \n",
      "\u001b[0;31mImportError\u001b[0m: cannot import name 'load_metric' from 'datasets' (/opt/conda/lib/python3.11/site-packages/datasets/__init__.py)"
     ]
    }
   ],
   "source": [
    "from datasets import load_metric\n",
    "\n",
    "metric = load_metric('glue', 'mrpc')\n",
    "\n",
    "def compute_metrics(eval_pred):    \n",
    "    predictions,labels = eval_pred\n",
    "    predictions = np.argmax(predictions, axis=1)\n",
    "    return metric.compute(predictions=predictions, references = labels)"
   ]
  },
  {
   "attachments": {
    "3ddd9d33-b399-4ba2-90de-fad406462cd3.png": {
     "image/png": "[encoded data removed]"
    }
   },
   "cell_type": "markdown",
   "id": "4b38433c-0175-477e-a6bd-7adcbd4c6305",
   "metadata": {},
   "source": [
    "#### 디버깅\n",
    "- load_metric을 import 할 수 없다는 에러 메시지 발생 ==> datasets 3.0 이후부터 load_metric 제거됨 ==>  **evaluate 모듈을 import 하고, load 함수 이용**\n",
    "![image.png](attachment:3ddd9d33-b399-4ba2-90de-fad406462cd3.png)"
   ]
  },
  {
   "cell_type": "code",
   "execution_count": 16,
   "id": "b6c2209f-4b0d-4c9c-95aa-159a72073145",
   "metadata": {},
   "outputs": [
    {
     "name": "stdout",
     "output_type": "stream",
     "text": [
      "3.4.1\n"
     ]
    }
   ],
   "source": [
    "# 버전 확인\n",
    "import datasets\n",
    "\n",
    "print(datasets.__version__)"
   ]
  },
  {
   "cell_type": "code",
   "execution_count": 42,
   "id": "69381691-5424-4e22-a1c8-81fd63dad6ad",
   "metadata": {},
   "outputs": [],
   "source": [
    "import numpy as np\n",
    "import evaluate\n",
    "\n",
    "#metric = evaluate.load('ingyu/klue_mrc')\n",
    "#metric = evaluate.load('venkatasg/gleu')\n",
    "metric = evaluate.load('accuracy')\n",
    "\n",
    "def compute_metrics(eval_pred):    \n",
    "    predictions,labels = eval_pred\n",
    "    predictions = np.argmax(predictions, axis=1)\n",
    "    return metric.compute(predictions=predictions, references=labels)"
   ]
  },
  {
   "cell_type": "markdown",
   "id": "5ccc4a78-666b-4f74-8414-5c571b9a6c28",
   "metadata": {},
   "source": [
    "#### 디버깅\n",
    "- 메트릭으로 ingyu/klue_mrc 사용시 -> 실행 불가 -> datasets에서 지원하지 않는 속성있다고 나옴 \n",
    "- 메트릭으로 venkatasg/gleu 사용시 -> 실행 가능 -> 학습 후 메트릭 계산 단계에서 평가를 위해 기대하는 형식과 입력 형식이 다르다고 나옴\n",
    "- 최종적으로 accuracy로 변경"
   ]
  },
  {
   "cell_type": "code",
   "execution_count": 69,
   "id": "6580e0bf-483b-4ca5-9092-c6b8be7cdeca",
   "metadata": {},
   "outputs": [
    {
     "data": {
      "text/html": [
       "\n",
       "    <div>\n",
       "      \n",
       "      <progress value='939' max='939' style='width:300px; height:20px; vertical-align: middle;'></progress>\n",
       "      [939/939 18:42, Epoch 3/3]\n",
       "    </div>\n",
       "    <table border=\"1\" class=\"dataframe\">\n",
       "  <thead>\n",
       " <tr style=\"text-align: left;\">\n",
       "      <th>Epoch</th>\n",
       "      <th>Training Loss</th>\n",
       "      <th>Validation Loss</th>\n",
       "      <th>Accuracy</th>\n",
       "    </tr>\n",
       "  </thead>\n",
       "  <tbody>\n",
       "    <tr>\n",
       "      <td>1</td>\n",
       "      <td>No log</td>\n",
       "      <td>0.730832</td>\n",
       "      <td>0.869667</td>\n",
       "    </tr>\n",
       "    <tr>\n",
       "      <td>2</td>\n",
       "      <td>0.027000</td>\n",
       "      <td>0.777732</td>\n",
       "      <td>0.868667</td>\n",
       "    </tr>\n",
       "    <tr>\n",
       "      <td>3</td>\n",
       "      <td>0.027000</td>\n",
       "      <td>0.780758</td>\n",
       "      <td>0.868667</td>\n",
       "    </tr>\n",
       "  </tbody>\n",
       "</table><p>"
      ],
      "text/plain": [
       "<IPython.core.display.HTML object>"
      ]
     },
     "metadata": {},
     "output_type": "display_data"
    },
    {
     "name": "stderr",
     "output_type": "stream",
     "text": [
      "Trainer.tokenizer is now deprecated. You should use Trainer.processing_class instead.\n",
      "Trainer.tokenizer is now deprecated. You should use Trainer.processing_class instead.\n",
      "Trainer.tokenizer is now deprecated. You should use Trainer.processing_class instead.\n"
     ]
    },
    {
     "data": {
      "text/plain": [
       "TrainOutput(global_step=939, training_loss=0.021559933630930096, metrics={'train_runtime': 1124.0487, 'train_samples_per_second': 26.689, 'train_steps_per_second': 0.835, 'total_flos': 7893331660800000.0, 'train_loss': 0.021559933630930096, 'epoch': 3.0})"
      ]
     },
     "execution_count": 69,
     "metadata": {},
     "output_type": "execute_result"
    }
   ],
   "source": [
    "# 학습\n",
    "trainer = Trainer(model=model, args=training_arguments, train_dataset=hf_nsmc_train_data, eval_dataset=hf_nsmc_val_data, compute_metrics=compute_metrics)\n",
    "\n",
    "trainer.train()"
   ]
  },
  {
   "attachments": {
    "1e896577-b0f6-4605-a14e-484578bdb016.png": {
     "image/png": "[encoded data removed]"
    },
    "7ac64751-091d-48e0-9283-0ba0bed573d3.png": {
     "image/png": "[encoded data removed]"
    }
   },
   "cell_type": "markdown",
   "id": "20c0084b-f1fc-42c4-b4fe-3e0d991f51c9",
   "metadata": {},
   "source": [
    "#### 디버깅\n",
    "- **Case 1**: VRAM 4378/16380 MiB, TrainingArguments(learning_rate=2e-5, per_device_train_batch_size=**8**, per_device_eval_batch_size=8, num_train_epochs=3, weight_decay=0.01), TrainOutput(global_step=3750, training_loss=0.08773090896606445, metrics={'train_runtime': **1280.1168**, 'train_samples_per_second': 23.435, 'train_steps_per_second': 2.929, 'total_flos': 7893331660800000.0, 'train_loss': 0.08773090896606445, 'epoch': 3.0})\n",
    "![image.png](attachment:1e896577-b0f6-4605-a14e-484578bdb016.png)\n",
    "- **Case 2**: VRAM 11562/16380 MiB, TrainingArguments(learning_rate=2e-5, per_device_train_batch_size=**32**, per_device_eval_batch_size=8, num_train_epochs=3, weight_decay=0.01), TrainOutput(global_step=939, training_loss=0.03299296219635822, metrics={'train_runtime': **1125.6024**, 'train_samples_per_second': 26.652, 'train_steps_per_second': 0.834, 'total_flos': 7893331660800000.0, 'train_loss': 0.03299296219635822, 'epoch': 3.0})\n",
    "![image.png](attachment:7ac64751-091d-48e0-9283-0ba0bed573d3.png)\n",
    "- Batch 사이즈를 늘려도(8->32) 학습 시간이 크게 줄지 않으며, 성능도 거의 변화 없음"
   ]
  },
  {
   "cell_type": "code",
   "execution_count": 67,
   "id": "509aa883-4769-4abb-8435-d1826373452e",
   "metadata": {},
   "outputs": [
    {
     "data": {
      "text/plain": [
       "{'eval_loss': 0.6458064913749695,\n",
       " 'eval_accuracy': 0.8588,\n",
       " 'eval_runtime': 107.611,\n",
       " 'eval_samples_per_second': 92.927,\n",
       " 'eval_steps_per_second': 2.909,\n",
       " 'epoch': 3.0}"
      ]
     },
     "execution_count": 67,
     "metadata": {},
     "output_type": "execute_result"
    }
   ],
   "source": [
    "# 테스트\n",
    "trainer.evaluate(hf_nsmc_test_data)"
   ]
  },
  {
   "cell_type": "markdown",
   "id": "82a8753c-ea39-4508-b3c6-fb2423542cc7",
   "metadata": {},
   "source": [
    "### STEP 4. Fine-tuning을 통하여 모델 성능(accuarcy) 향상시키기"
   ]
  },
  {
   "cell_type": "markdown",
   "id": "9b704d3f-0149-4bfe-89c2-8bec9be1f4ac",
   "metadata": {},
   "source": [
    "#### 다양한 테스트 케이스에 대해 성능 분석\n",
    "- **Case 1 (베이스 모델)**: TrainingArguments(learning_rate=2e-5, per_device_train_batch_size=32, per_device_eval_batch_size=8, num_train_epochs=3, weight_decay=0.01), TrainOutput(global_step=939, training_loss=0.03299296219635822, metrics={'train_runtime': 1125.6024, 'train_samples_per_second': 26.652, 'train_steps_per_second': 0.834, 'total_flos': 7893331660800000.0, 'train_loss': 0.03299296219635822, 'epoch': 3.0}), {'eval_loss': 0.887900710105896, 'eval_accuracy': **0.8702**, 'eval_runtime': 110.2951, 'eval_samples_per_second': 90.666, 'eval_steps_per_second': 11.333, 'epoch': 3.0}\n",
    "- **Case 2 (weight_decay(L2-Norm) 변경)**: TrainingArguments(learning_rate=2e-5, per_device_train_batch_size=32, per_device_eval_batch_size=8, num_train_epochs=3, weight_decay=**0.05**), TrainOutput(global_step=939, training_loss=0.014739809960475999, metrics={'train_runtime': 1124.9651, 'train_samples_per_second': 26.667, 'train_steps_per_second': 0.835, 'total_flos': 7893331660800000.0, 'train_loss': 0.014739809960475999, 'epoch': 3.0}), {'eval_loss': 1.063702940940857, 'eval_accuracy': **0.8674**, 'eval_runtime': 111.038, 'eval_samples_per_second': 90.059, 'eval_steps_per_second': 11.257, 'epoch': 3.0}\n",
    "- **Case 3 (Learing Rate 변경)**: TrainingArguments(learning_rate=**2e-4**, per_device_train_batch_size=32, per_device_eval_batch_size=8, num_train_epochs=3, weight_decay=0.01), TrainOutput(global_step=939, training_loss=0.2091821339437629, metrics={'train_runtime': 1125.6439, 'train_samples_per_second': 26.651, 'train_steps_per_second': 0.834, 'total_flos': 7893331660800000.0, 'train_loss': 0.2091821339437629, 'epoch': 3.0}), {'eval_loss': 0.5137311220169067, 'eval_accuracy': **0.853**, 'eval_runtime': 110.928, 'eval_samples_per_second': 90.149, 'eval_steps_per_second': 11.269, 'epoch': 3.0}\n",
    "- **Case 4 (Epoch 변경)**: TrainingArguments(learning_rate=2e-5, per_device_train_batch_size=32, per_device_eval_batch_size=8, num_train_epochs=**2**, weight_decay=0.01), TrainOutput(global_step=626, training_loss=0.05984602035424961, metrics={'train_runtime': 751.024, 'train_samples_per_second': 26.63, 'train_steps_per_second': 0.834, 'total_flos': 5262221107200000.0, 'train_loss': 0.05984602035424961, 'epoch': 2.0}), {'eval_loss': 0.601671576499939, 'eval_accuracy': **0.8564**, 'eval_runtime': 111.4543, 'eval_samples_per_second': 89.723, 'eval_steps_per_second': 11.215, 'epoch': 2.0}\n",
    "- **Case 5 (Learning Rate Scheduler 변경)**: TrainingArguments(learning_rate=**1e-5**, per_device_train_batch_size=32, per_device_eval_batch_size=32, num_train_epochs=3, weight_decay=0.02, lr_scheduler_type=\"**cosine**\", warmup_ratio=0.25), TrainOutput(global_step=939, training_loss=0.03315923363763811, metrics={'train_runtime': 1122.2964, 'train_samples_per_second': 26.731, 'train_steps_per_second': 0.837, 'total_flos': 7893331660800000.0, 'train_loss': 0.03315923363763811, 'epoch': 3.0}), {'eval_loss': 0.6458064913749695, 'eval_accuracy': **0.8588**, 'eval_runtime': 107.611, 'eval_samples_per_second': 92.927, 'eval_steps_per_second': 2.909, 'epoch': 3.0}"
   ]
  },
  {
   "cell_type": "markdown",
   "id": "75beda22-d87e-4e47-a2c5-d44905844c90",
   "metadata": {},
   "source": [
    "#### 성능 비교\n",
    "| 케이스 | Accuracy (Test Set) |\n",
    "|---|---|\n",
    "|Case 1 (베이스 모델)| 0.8702  |\n",
    "|Case 2 (weight_decay(L2-Norm) 변경)| 0.8674  |\n",
    "|Case 3 (Learing Rate 변경)| 0.853  |\n",
    "|Case 4 (Epoch 변경)| 0.8564  |\n",
    "|Case 5 (Learning Rate Scheduler 변경)| 0.8588  |\n",
    "\n",
    "#### 분석\n",
    "- 파라미터를 다양하게 변경하면서 학습을 진행시켜봤으나, 유의미한 성능 향상을 확인하지는 못함\n",
    "- 다른 팀원과의 결과 비교를 통해, 데이터 사이즈가 상대적으로 작아서 낮은 성능을 보이는 것을 생각됨"
   ]
  },
  {
   "cell_type": "markdown",
   "id": "dac07fd5-3ab8-44e9-90d8-b9a708e2352b",
   "metadata": {},
   "source": [
    "## STEP 5. Bucketing을 적용하여 학습시키고, STEP 4의 결과와의 비교"
   ]
  },
  {
   "cell_type": "code",
   "execution_count": 70,
   "id": "76f77100-33a8-47a8-a797-684ba34af389",
   "metadata": {},
   "outputs": [],
   "source": [
    "# 데이터 사이즈 크게\n",
    "num_train_set = 100000\n",
    "num_val_set = 30000\n",
    "num_test_set = 50000\n",
    "\n",
    "hf_nsmc_train_data_large = datasets.load_dataset('e9t/nsmc', split=f\"train[:{num_train_set}]\")\n",
    "hf_nsmc_val_data_large = datasets.load_dataset('e9t/nsmc', split=f\"train[{num_train_set}:{num_train_set + num_val_set}]\")\n",
    "hf_nsmc_test_data_large = datasets.load_dataset('e9t/nsmc', split=f\"test[:{num_test_set}]\")"
   ]
  },
  {
   "cell_type": "code",
   "execution_count": 71,
   "id": "623f38a4-926e-416d-8ef1-4ab2408b96c2",
   "metadata": {},
   "outputs": [
    {
     "name": "stdout",
     "output_type": "stream",
     "text": [
      "Dataset({\n",
      "    features: ['id', 'document', 'label'],\n",
      "    num_rows: 100000\n",
      "}) Dataset({\n",
      "    features: ['id', 'document', 'label'],\n",
      "    num_rows: 30000\n",
      "}) Dataset({\n",
      "    features: ['id', 'document', 'label'],\n",
      "    num_rows: 50000\n",
      "})\n"
     ]
    }
   ],
   "source": [
    "# 데이터셋 레이블 확인\n",
    "print(hf_nsmc_train_data_large, hf_nsmc_val_data_large, hf_nsmc_test_data_large)"
   ]
  },
  {
   "cell_type": "code",
   "execution_count": 114,
   "id": "8f2d2e49-0e13-498c-9422-83d9fd8553b1",
   "metadata": {},
   "outputs": [],
   "source": [
    "# 토큰화 처리 함수 - Dynamic padding 적용\n",
    "def transform_with_dynamic_padding(data):\n",
    "    return tokenizer(data['document'], truncation=True, padding=False, return_token_type_ids=False)"
   ]
  },
  {
   "cell_type": "code",
   "execution_count": 115,
   "id": "8e78a8e0-244d-41ba-924e-6775bcfd8cdf",
   "metadata": {},
   "outputs": [
    {
     "data": {
      "application/vnd.jupyter.widget-view+json": {
       "model_id": "749352795a2c4b97884476d5f1915553",
       "version_major": 2,
       "version_minor": 0
      },
      "text/plain": [
       "Map:   0%|          | 0/100000 [00:00<?, ? examples/s]"
      ]
     },
     "metadata": {},
     "output_type": "display_data"
    },
    {
     "data": {
      "application/vnd.jupyter.widget-view+json": {
       "model_id": "6b36b1373170476c93eab5ed228057b6",
       "version_major": 2,
       "version_minor": 0
      },
      "text/plain": [
       "Map:   0%|          | 0/30000 [00:00<?, ? examples/s]"
      ]
     },
     "metadata": {},
     "output_type": "display_data"
    },
    {
     "data": {
      "application/vnd.jupyter.widget-view+json": {
       "model_id": "753d7f163aa847319f2182e302de7683",
       "version_major": 2,
       "version_minor": 0
      },
      "text/plain": [
       "Map:   0%|          | 0/50000 [00:00<?, ? examples/s]"
      ]
     },
     "metadata": {},
     "output_type": "display_data"
    }
   ],
   "source": [
    "# 토큰화\n",
    "hf_nsmc_train_data_large = hf_nsmc_train_data_large.map(transform_with_dynamic_padding, batched=True, batch_size=32)\n",
    "hf_nsmc_val_data_large = hf_nsmc_val_data_large.map(transform_with_dynamic_padding, batched=True, batch_size=32)\n",
    "hf_nsmc_test_data_large = hf_nsmc_test_data_large.map(transform_with_dynamic_padding, batched=True, batch_size=32)"
   ]
  },
  {
   "cell_type": "code",
   "execution_count": 108,
   "id": "39a09970-d75b-483a-b8d0-d3a2c889e0e9",
   "metadata": {},
   "outputs": [],
   "source": [
    "# Dynamic Padding이 적용된 데이터를 위한 Collector\n",
    "from transformers import DataCollatorWithPadding\n",
    "\n",
    "data_collator = DataCollatorWithPadding(tokenizer=tokenizer)"
   ]
  },
  {
   "cell_type": "code",
   "execution_count": 116,
   "id": "988e8e25-b661-4c6c-8cba-345feae0aa2e",
   "metadata": {},
   "outputs": [],
   "source": [
    "# 학습 파라미터\n",
    "training_arguments = TrainingArguments(\n",
    "    output_dir,\n",
    "    eval_strategy=\"epoch\",\n",
    "    learning_rate = 2e-5,\n",
    "    lr_scheduler_type = \"cosine\",\n",
    "    warmup_ratio = 0.25,\n",
    "    per_device_train_batch_size = 32,\n",
    "    per_device_eval_batch_size = 32,\n",
    "    num_train_epochs = 3,\n",
    "    weight_decay = 0.01,\n",
    "    group_by_length = True\n",
    ")"
   ]
  },
  {
   "cell_type": "code",
   "execution_count": 117,
   "id": "82c63b00-abcc-43a4-ad29-795578586b79",
   "metadata": {},
   "outputs": [
    {
     "name": "stderr",
     "output_type": "stream",
     "text": [
      "Some weights of BertForSequenceClassification were not initialized from the model checkpoint at klue/bert-base and are newly initialized: ['classifier.bias', 'classifier.weight']\n",
      "You should probably TRAIN this model on a down-stream task to be able to use it for predictions and inference.\n"
     ]
    },
    {
     "data": {
      "text/html": [
       "\n",
       "    <div>\n",
       "      \n",
       "      <progress value='9375' max='9375' style='width:300px; height:20px; vertical-align: middle;'></progress>\n",
       "      [9375/9375 3:07:44, Epoch 3/3]\n",
       "    </div>\n",
       "    <table border=\"1\" class=\"dataframe\">\n",
       "  <thead>\n",
       " <tr style=\"text-align: left;\">\n",
       "      <th>Epoch</th>\n",
       "      <th>Training Loss</th>\n",
       "      <th>Validation Loss</th>\n",
       "      <th>Accuracy</th>\n",
       "    </tr>\n",
       "  </thead>\n",
       "  <tbody>\n",
       "    <tr>\n",
       "      <td>1</td>\n",
       "      <td>0.282900</td>\n",
       "      <td>0.254248</td>\n",
       "      <td>0.894567</td>\n",
       "    </tr>\n",
       "    <tr>\n",
       "      <td>2</td>\n",
       "      <td>0.208500</td>\n",
       "      <td>0.240679</td>\n",
       "      <td>0.904933</td>\n",
       "    </tr>\n",
       "    <tr>\n",
       "      <td>3</td>\n",
       "      <td>0.125200</td>\n",
       "      <td>0.294848</td>\n",
       "      <td>0.904867</td>\n",
       "    </tr>\n",
       "  </tbody>\n",
       "</table><p>"
      ],
      "text/plain": [
       "<IPython.core.display.HTML object>"
      ]
     },
     "metadata": {},
     "output_type": "display_data"
    },
    {
     "name": "stderr",
     "output_type": "stream",
     "text": [
      "Trainer.tokenizer is now deprecated. You should use Trainer.processing_class instead.\n",
      "Trainer.tokenizer is now deprecated. You should use Trainer.processing_class instead.\n",
      "Trainer.tokenizer is now deprecated. You should use Trainer.processing_class instead.\n"
     ]
    },
    {
     "data": {
      "text/plain": [
       "TrainOutput(global_step=9375, training_loss=0.22549474568684896, metrics={'train_runtime': 11265.1545, 'train_samples_per_second': 26.631, 'train_steps_per_second': 0.832, 'total_flos': 7.8933316608e+16, 'train_loss': 0.22549474568684896, 'epoch': 3.0})"
      ]
     },
     "execution_count": 117,
     "metadata": {},
     "output_type": "execute_result"
    }
   ],
   "source": [
    "# 학습\n",
    "model = AutoModelForSequenceClassification.from_pretrained('klue/bert-base', num_labels=2)\n",
    "\n",
    "trainer = Trainer(model=model, args=training_arguments, train_dataset=hf_nsmc_train_data_large, eval_dataset=hf_nsmc_val_data_large, data_collator=data_collator, compute_metrics=compute_metrics)\n",
    "\n",
    "trainer.train()"
   ]
  },
  {
   "cell_type": "code",
   "execution_count": 118,
   "id": "6afe5dc0-4e47-46b6-88ca-4871c293dc9f",
   "metadata": {},
   "outputs": [
    {
     "name": "stderr",
     "output_type": "stream",
     "text": [
      "Trainer.tokenizer is now deprecated. You should use Trainer.processing_class instead.\n"
     ]
    },
    {
     "data": {
      "text/html": [
       "\n",
       "    <div>\n",
       "      \n",
       "      <progress value='1563' max='1563' style='width:300px; height:20px; vertical-align: middle;'></progress>\n",
       "      [1563/1563 09:02]\n",
       "    </div>\n",
       "    "
      ],
      "text/plain": [
       "<IPython.core.display.HTML object>"
      ]
     },
     "metadata": {},
     "output_type": "display_data"
    },
    {
     "data": {
      "text/plain": [
       "{'eval_loss': 0.2999756932258606,\n",
       " 'eval_accuracy': 0.90318,\n",
       " 'eval_runtime': 542.5645,\n",
       " 'eval_samples_per_second': 92.155,\n",
       " 'eval_steps_per_second': 2.881,\n",
       " 'epoch': 3.0}"
      ]
     },
     "execution_count": 118,
     "metadata": {},
     "output_type": "execute_result"
    }
   ],
   "source": [
    "# 테스트\n",
    "trainer.evaluate(hf_nsmc_test_data_large)"
   ]
  },
  {
   "attachments": {
    "0875277c-267a-42e7-bbd2-c35e43583f97.png": {
     "image/png": "[encoded data removed]"
    },
    "8f341c6b-c305-45d7-970f-405ceec82a3f.png": {
     "image/png": "[encoded data removed]"
    }
   },
   "cell_type": "markdown",
   "id": "e21bbf17-4aa8-4bd9-9166-b3406ac2d798",
   "metadata": {},
   "source": [
    "#### 분석\n",
    "- **Dynamic Padding 적용**: TrainingArguments(learning_rate=2e-5, lr_scheduler_type=\"cosine\", warmup_ratio=0.25, per_device_train_batch_size=32, per_device_eval_batch_size=32, num_train_epochs=3, weight_decay=0.01, group_by_length=True), TrainOutput(global_step=9375, training_loss=0.22688954630533853, metrics={'train_runtime': **896.2198**, 'train_samples_per_second': 334.739, 'train_steps_per_second': 10.461, 'total_flos': 3622776121251840.0, 'train_loss': 0.22688954630533853, 'epoch': 3.0}), {'eval_loss': 0.3044652044773102, 'eval_accuracy': **0.90216**, 'eval_runtime': 25.1261, 'eval_samples_per_second': 1989.966, 'eval_steps_per_second': 62.206, 'epoch': 3.0}\n",
    "\n",
    "![image.png](attachment:0875277c-267a-42e7-bbd2-c35e43583f97.png)\n",
    "- **Dynamic Padding 미적용**: TrainingArguments(learning_rate=2e-5, lr_scheduler_type=\"cosine\", warmup_ratio=0.25, per_device_train_batch_size=32, per_device_eval_batch_size=32, num_train_epochs=3, weight_decay=0.01, group_by_length=True), TrainOutput(global_step=9375, training_loss=0.22549474568684896, metrics={'train_runtime': **11265.1545**, 'train_samples_per_second': 26.631, 'train_steps_per_second': 0.832, 'total_flos': 7.8933316608e+16, 'train_loss': 0.22549474568684896, 'epoch': 3.0}), {'eval_loss': 0.2999756932258606, 'eval_accuracy': **0.90318**, 'eval_runtime': 542.5645, 'eval_samples_per_second': 92.155, 'eval_steps_per_second': 2.881, 'epoch': 3.0}\n",
    "\n",
    "![image.png](attachment:8f341c6b-c305-45d7-970f-405ceec82a3f.png)"
   ]
  },
  {
   "cell_type": "markdown",
   "id": "63591208-d4db-43fb-b628-e943d1d383d5",
   "metadata": {},
   "source": [
    "#### 성능 비교\n",
    "|Dynamic Padding | 미적용 | 적용  | 차이 | 비율  |\n",
    "|---|---|---|---|---|\n",
    "|Train Time   | 11265.1545[s] (3:07:44)  | 896.2198[s] (14:55)  | 10368.9365[s] | 0.0795 |\n",
    "|Accuracy (Test Set)   | 0.90318  | 0.90216  | 0.00102 | 0.9989  |\n",
    "\n",
    "#### 분석\n",
    "- Dynamic Padding 적용시 성능의 변화는 거의 없으면서, 매우 빠른 학습 속도(대략 12배)를 보임"
   ]
  },
  {
   "cell_type": "markdown",
   "id": "d4c23864-1587-49bb-9384-ff5a4ebdf71e",
   "metadata": {},
   "source": [
    "## 회고\n",
    "- 미리 학습된 대형 모델에서 fine-tuning 과정을 통해 문제에 적합한 모델을 만드는 법을 배울 수 있었음\n",
    "- 허깅페이스에서 제공되는 모델이 기본적으로 PyTorch를 기반으로 하고 있어서, 백엔드가 TensorFlow인 경우 안되는 것이 있음을 확인 (PyTorch 공부의 필요성)\n",
    "- 대규모 데이터를 이용해서 학습을 진행하는 경우, 상당한 메모리와 많은 연산 시간을 필요로 함 (15만개 데이터 기준 LMS에서 Epoch당 3시간)\n",
    "- Dynamic Padding을 통해 연산 시간을 크게 줄일 수 있음을 확인\n",
    "- Dynamic Padding을 적용하는 과정에서 많은 시행착오가 있었는데, 인터넷 검색을 통해 해결 방법을 찾는데 많은 시간이 들었음\n",
    "- Transformer 모듈에 대한 문서화가 다른 라이브러리에 비해 잘되어 있는 편이었음에도 설명이 부족한 부분이 많음."
   ]
  },
  {
   "cell_type": "code",
   "execution_count": null,
   "id": "0d5fb641-7f72-4eb9-8e8d-aff2f0527b9a",
   "metadata": {},
   "outputs": [],
   "source": []
  }
 ],
 "metadata": {
  "kernelspec": {
   "display_name": "Python 3 (ipykernel)",
   "language": "python",
   "name": "python3"
  },
  "language_info": {
   "codemirror_mode": {
    "name": "ipython",
    "version": 3
   },
   "file_extension": ".py",
   "mimetype": "text/x-python",
   "name": "python",
   "nbconvert_exporter": "python",
   "pygments_lexer": "ipython3",
   "version": "3.11.11"
  }
 },
 "nbformat": 4,
 "nbformat_minor": 5
}
