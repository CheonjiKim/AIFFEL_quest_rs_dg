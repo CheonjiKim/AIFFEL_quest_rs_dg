{
 "cells": [
  {
   "cell_type": "code",
   "execution_count": 1,
   "id": "812ba84c",
   "metadata": {},
   "outputs": [],
   "source": [
    "import tensorflow as tf\n",
    "import matplotlib.pyplot as plt\n",
    "import numpy as np\n",
    "\n",
    "from tensorflow.keras.datasets import reuters"
   ]
  },
  {
   "cell_type": "markdown",
   "id": "7aae30fb",
   "metadata": {},
   "source": [
    "### 1. 데이터 준비"
   ]
  },
  {
   "cell_type": "code",
   "execution_count": 2,
   "id": "0d72e40d",
   "metadata": {},
   "outputs": [
    {
     "name": "stdout",
     "output_type": "stream",
     "text": [
      "Downloading data from https://storage.googleapis.com/tensorflow/tf-keras-datasets/reuters.npz\n",
      "2113536/2110848 [==============================] - 0s 0us/step\n",
      "2121728/2110848 [==============================] - 0s 0us/step\n",
      "  훈련 샘플의 수:   8982,   8982,   8982,   8982,   8982\n",
      "테스트 샘플의 수:   2246,   2246,   2246,   2246,   2246\n"
     ]
    }
   ],
   "source": [
    "# 데이터 불러오기 - 워드 갯수별 딕셔너리에 담기\n",
    "x_train_set = {}\n",
    "x_test_set = {}\n",
    "\n",
    "(x_train_set['025'], y_train), (x_test_set['025'], y_test) = reuters.load_data(num_words=2500, test_split=0.2)\n",
    "(x_train_set['050'], y_train), (x_test_set['050'], y_test) = reuters.load_data(num_words=5000, test_split=0.2)\n",
    "(x_train_set['100'], y_train), (x_test_set['100'], y_test) = reuters.load_data(num_words=10000, test_split=0.2)\n",
    "(x_train_set['200'], y_train), (x_test_set['200'], y_test) = reuters.load_data(num_words=20000, test_split=0.2)\n",
    "(x_train_set['all'], y_train), (x_test_set['all'], y_test) = reuters.load_data(num_words=None, test_split=0.2)\n",
    "\n",
    "print(f\"  훈련 샘플의 수: {len(x_train_set['025']):6d}, {len(x_train_set['050']):6d}, {len(x_train_set['100']):6d}, {len(x_train_set['200']):6d}, {len(x_train_set['all']):6d}\")\n",
    "print(f\"테스트 샘플의 수: {len(x_test_set['025']):6d}, {len(x_test_set['050']):6d}, {len(x_test_set['100']):6d}, {len(x_test_set['200']):6d}, {len(x_test_set['all']):6d}\")"
   ]
  },
  {
   "cell_type": "code",
   "execution_count": 3,
   "id": "552ee4e0",
   "metadata": {},
   "outputs": [
    {
     "name": "stdout",
     "output_type": "stream",
     "text": [
      "6519\n"
     ]
    }
   ],
   "source": [
    "# 가장 짧은 데이터 찾기\n",
    "min_length = 10000\n",
    "min_index = 0\n",
    "\n",
    "for index, s in enumerate(x_train_set['025']):\n",
    "    if len(s) < min_length:\n",
    "        min_length = len(s)\n",
    "        min_index = index\n",
    "\n",
    "print(min_index)"
   ]
  },
  {
   "cell_type": "code",
   "execution_count": 4,
   "id": "17e29005",
   "metadata": {},
   "outputs": [
    {
     "name": "stdout",
     "output_type": "stream",
     "text": [
      "num_words  2500: [1, 486, 341, 151, 26, 219, 93, 124, 146, 93, 155, 17, 12]\n",
      "num_words  5000: [1, 486, 341, 151, 26, 219, 93, 124, 146, 93, 155, 17, 12]\n",
      "num_words 10000: [1, 486, 341, 151, 26, 219, 93, 124, 146, 93, 155, 17, 12]\n",
      "num_words 20000: [1, 486, 341, 151, 26, 219, 93, 124, 146, 93, 155, 17, 12]\n",
      "num_words  None: [1, 486, 341, 151, 26, 219, 93, 124, 146, 93, 155, 17, 12]\n"
     ]
    }
   ],
   "source": [
    "# 데이터 확인\n",
    "print(\"num_words  2500:\", x_train_set['025'][min_index])\n",
    "print(\"num_words  5000:\", x_train_set['050'][min_index])\n",
    "print(\"num_words 10000:\", x_train_set['100'][min_index])\n",
    "print(\"num_words 20000:\", x_train_set['200'][min_index])\n",
    "print(\"num_words  None:\", x_train_set['all'][min_index])"
   ]
  },
  {
   "cell_type": "code",
   "execution_count": 5,
   "id": "b4c843f1",
   "metadata": {},
   "outputs": [
    {
     "name": "stdout",
     "output_type": "stream",
     "text": [
      "훈련용 뉴스의 최대 길이: 2376\n",
      "훈련용 뉴스의 평균 길이: 145.54\n"
     ]
    },
    {
     "data": {
      "image/png": "[encoded data removed]",
      "text/plain": [
       "<Figure size 432x288 with 1 Axes>"
      ]
     },
     "metadata": {
      "needs_background": "light"
     },
     "output_type": "display_data"
    }
   ],
   "source": [
    "# 데이터의 길이 분포\n",
    "print(f\"훈련용 뉴스의 최대 길이: {max(len(l) for l in x_train_set['025'])}\")\n",
    "print(f\"훈련용 뉴스의 평균 길이: {sum(map(len, x_train_set['025']))/len(x_train_set['025']):.2f}\")\n",
    "\n",
    "plt.hist([len(s) for s in x_train_set['025']], bins=50)\n",
    "plt.xlabel('length of samples')\n",
    "plt.ylabel('number of samples')\n",
    "plt.show()"
   ]
  },
  {
   "cell_type": "code",
   "execution_count": 6,
   "id": "7ed2cd2b",
   "metadata": {},
   "outputs": [
    {
     "name": "stdout",
     "output_type": "stream",
     "text": [
      "클래스의 수 : 46\n"
     ]
    }
   ],
   "source": [
    "# 전체 클래스 수\n",
    "num_classes = max(y_train) + 1\n",
    "print('클래스의 수 : {}'.format(num_classes))"
   ]
  },
  {
   "cell_type": "code",
   "execution_count": 7,
   "id": "15e676ae",
   "metadata": {},
   "outputs": [
    {
     "data": {
      "image/png": "[encoded data removed]",
      "text/plain": [
       "<Figure size 432x288 with 1 Axes>"
      ]
     },
     "metadata": {
      "needs_background": "light"
     },
     "output_type": "display_data"
    }
   ],
   "source": [
    "# 클래스 빈도수\n",
    "unique_elements, counts_elements = np.unique(y_train, return_counts=True)\n",
    "#print(\"각 클래스 빈도수:\")\n",
    "#print(np.asarray((unique_elements, counts_elements)))\n",
    "\n",
    "plt.bar(unique_elements, counts_elements)\n",
    "plt.xlabel('class Id')\n",
    "plt.ylabel('number of samples')\n",
    "plt.show()"
   ]
  },
  {
   "cell_type": "code",
   "execution_count": 8,
   "id": "defcf5f0",
   "metadata": {},
   "outputs": [
    {
     "name": "stdout",
     "output_type": "stream",
     "text": [
      "Downloading data from https://storage.googleapis.com/tensorflow/tf-keras-datasets/reuters_word_index.json\n",
      "557056/550378 [==============================] - 0s 0us/step\n",
      "565248/550378 [==============================] - 0s 0us/step\n",
      "단어 사전의 크기: 30979\n"
     ]
    }
   ],
   "source": [
    "# 단어 사전\n",
    "word_index = reuters.get_word_index(path=\"reuters_word_index.json\")\n",
    "index_to_word = { index+3 : word for word, index in word_index.items() }\n",
    "\n",
    "# index_to_word에 숫자 0은 <pad>, 숫자 1은 <sos>, 숫자 2는 <unk>를 넣어줍니다.\n",
    "for index, token in enumerate((\"<pad>\", \"<sos>\", \"<unk>\")):\n",
    "    index_to_word[index] = token\n",
    "\n",
    "print(f'단어 사전의 크기: {len(word_index)}')"
   ]
  },
  {
   "cell_type": "code",
   "execution_count": 9,
   "id": "4f3ddd23",
   "metadata": {},
   "outputs": [],
   "source": [
    "# 디코딩 함수\n",
    "def decode(data):\n",
    "    decoded = []\n",
    "    for i in range(len(data)):\n",
    "        t = ' '.join([index_to_word[index] for index in data[i]])\n",
    "        decoded.append(t)\n",
    "    return decoded"
   ]
  },
  {
   "cell_type": "code",
   "execution_count": 10,
   "id": "a0f79af3",
   "metadata": {},
   "outputs": [],
   "source": [
    "# 데이터 셋 디코딩\n",
    "dataset_index = ['025', '050', '100', '200', 'all']\n",
    "words_size = {'025': 2500, '050': 5000, '100': 10000, '200': 20000, 'all': 30979}\n",
    "decoded_x_train_set = {}\n",
    "decoded_x_test_set = {}\n",
    "\n",
    "for index in dataset_index:\n",
    "    decoded_x_train_set[index] = decode(x_train_set[index])\n",
    "\n",
    "for index in dataset_index:\n",
    "    decoded_x_test_set[index] = decode(x_test_set[index])"
   ]
  },
  {
   "cell_type": "code",
   "execution_count": 11,
   "id": "b949b526",
   "metadata": {},
   "outputs": [
    {
     "name": "stdout",
     "output_type": "stream",
     "text": [
      "word size: 2500\n",
      "<sos> qtly div nine cts pay april 30 record april six reuter 3\n",
      "word size: 5000\n",
      "<sos> qtly div nine cts pay april 30 record april six reuter 3\n",
      "word size: 10000\n",
      "<sos> qtly div nine cts pay april 30 record april six reuter 3\n",
      "word size: 20000\n",
      "<sos> qtly div nine cts pay april 30 record april six reuter 3\n",
      "word size: 30979\n",
      "<sos> qtly div nine cts pay april 30 record april six reuter 3\n"
     ]
    }
   ],
   "source": [
    "# 데이터 셋 확인\n",
    "for index in dataset_index:\n",
    "    print(f\"word size: {words_size[index]}\")\n",
    "    print(decoded_x_train_set[index][min_index])"
   ]
  },
  {
   "cell_type": "markdown",
   "id": "87467480",
   "metadata": {},
   "source": [
    "### 2. DTM, TF-IDF"
   ]
  },
  {
   "cell_type": "code",
   "execution_count": 12,
   "id": "8cc9bf25",
   "metadata": {},
   "outputs": [],
   "source": [
    "# DTM/TF-IDF 관련 라이브러리\n",
    "from sklearn.feature_extraction.text import CountVectorizer\n",
    "from sklearn.feature_extraction.text import TfidfTransformer"
   ]
  },
  {
   "cell_type": "code",
   "execution_count": 13,
   "id": "868875ab",
   "metadata": {},
   "outputs": [
    {
     "name": "stdout",
     "output_type": "stream",
     "text": [
      "(8982, 2430) (2246, 2430)\n",
      "(8982, 4867) (2246, 4867)\n",
      "(8982, 9670) (2246, 9670)\n",
      "(8982, 18479) (2246, 18479)\n",
      "(8982, 26506) (2246, 26506)\n"
     ]
    }
   ],
   "source": [
    "# DTN 계산\n",
    "dtmvector = CountVectorizer()\n",
    "dtm_x_train_set = {}\n",
    "dtm_x_test_set = {}\n",
    "for index in dataset_index:\n",
    "    dtm_x_train_set[index] = dtmvector.fit_transform(decoded_x_train_set[index])\n",
    "    dtm_x_test_set[index] = dtmvector.transform(decoded_x_test_set[index])\n",
    "    print(f'{dtm_x_train_set[index].shape} {dtm_x_test_set[index].shape}')"
   ]
  },
  {
   "cell_type": "code",
   "execution_count": 14,
   "id": "c4681280",
   "metadata": {},
   "outputs": [
    {
     "name": "stdout",
     "output_type": "stream",
     "text": [
      "(8982, 2430) (2246, 2430)\n",
      "(8982, 4867) (2246, 4867)\n",
      "(8982, 9670) (2246, 9670)\n",
      "(8982, 18479) (2246, 18479)\n",
      "(8982, 26506) (2246, 26506)\n"
     ]
    }
   ],
   "source": [
    "# TF-IDF 계산\n",
    "tfidf_transformer = TfidfTransformer()\n",
    "tfidf_x_train_set = {}\n",
    "tfidf_x_test_set = {}\n",
    "for index in dataset_index:\n",
    "    tfidf_x_train_set[index] = tfidf_transformer.fit_transform(dtm_x_train_set[index])\n",
    "    tfidf_x_test_set[index] = tfidf_transformer.transform(dtm_x_test_set[index])\n",
    "    print(f'{tfidf_x_train_set[index].shape} {tfidf_x_test_set[index].shape}')"
   ]
  },
  {
   "cell_type": "markdown",
   "id": "ef4702e0",
   "metadata": {},
   "source": [
    "### Appendix 1. DTM vector 크기 다른 이슈 분석"
   ]
  },
  {
   "cell_type": "code",
   "execution_count": 73,
   "id": "b4f17e55",
   "metadata": {},
   "outputs": [
    {
     "name": "stdout",
     "output_type": "stream",
     "text": [
      "2498\n"
     ]
    }
   ],
   "source": [
    "# 단어 목록 얻어오기 - 데이터의 길이가 달라서 직접 계산\n",
    "unique_words = {}\n",
    "\n",
    "for element in decoded_x_train_set['025']:\n",
    "    for word_index in element.split():\n",
    "        if not word_index in unique_words:\n",
    "            unique_words[word_index] = 1\n",
    "        else:\n",
    "            unique_words[word_index] += 1\n",
    "\n",
    "print(len(unique_words))"
   ]
  },
  {
   "cell_type": "code",
   "execution_count": 74,
   "id": "6cae4e15",
   "metadata": {},
   "outputs": [
    {
     "name": "stdout",
     "output_type": "stream",
     "text": [
      "<sos>\n",
      "<unk>\n",
      "a\n",
      "1\n",
      "5\n",
      "2\n",
      "3\n",
      "0\n",
      "4\n",
      "9\n",
      "6\n",
      "8\n",
      "u\n",
      "s\n",
      "department's\n",
      "d\n",
      "7\n",
      "canada's\n",
      "i\n",
      "banks'\n",
      "bank's\n",
      "month's\n",
      "don't\n",
      "japan's\n",
      "r\n",
      "company's\n",
      "group's\n",
      "australia's\n",
      "government's\n",
      "country's\n",
      "today's\n",
      "there's\n",
      "l\n",
      "f\n",
      "b\n",
      "world's\n",
      "n\n",
      "inc's\n",
      "corp's\n",
      "k\n",
      "c\n",
      "week's\n",
      "brazil's\n",
      "year's\n",
      "o\n",
      "opec's\n",
      "nation's\n",
      "dollar's\n",
      "v\n",
      "t\n",
      "z\n",
      "m\n",
      "x\n",
      "china's\n",
      "j\n",
      "p\n",
      "germany's\n",
      "yen's\n",
      "w\n",
      "y\n",
      "e\n",
      "yesterday's\n",
      "it's\n",
      "g\n",
      "co's\n",
      "taiwan's\n",
      "h\n",
      "ec's\n",
      "we're\n",
      "i'm\n",
      "reagan's\n",
      "없는 단어 수: 71\n"
     ]
    }
   ],
   "source": [
    "# 없는 단어 출력하기\n",
    "dtm_word_list = dtmvector.get_feature_names_out()\n",
    "\n",
    "missing_words = 0\n",
    "for word in unique_words:\n",
    "    if not word in dtm_word_list:\n",
    "        missing_words += 1\n",
    "        print(word)\n",
    "print(f'없는 단어 수: {missing_words}')"
   ]
  },
  {
   "cell_type": "markdown",
   "id": "3d806caf",
   "metadata": {},
   "source": [
    "#### 분석\n",
    "- 문자 길이가 1인 단어가 처리되지 않음\n",
    "- 's 붙은 단어가 분리되어 처리됨"
   ]
  },
  {
   "cell_type": "markdown",
   "id": "b25c8225",
   "metadata": {},
   "source": [
    "### 3. 전통적인 머신러닝 기법"
   ]
  },
  {
   "cell_type": "code",
   "execution_count": 15,
   "id": "7cc6fcf3",
   "metadata": {},
   "outputs": [],
   "source": [
    "from sklearn.naive_bayes import MultinomialNB\n",
    "from sklearn.naive_bayes import ComplementNB\n",
    "#from sklearn.linear_model import LogisticRegression, SGDClassifier\n",
    "from sklearn.svm import LinearSVC\n",
    "from sklearn.svm import SVC\n",
    "#from sklearn.tree import DecisionTreeClassifier\n",
    "from sklearn.ensemble import RandomForestClassifier\n",
    "#from sklearn.ensemble import GradientBoostingClassifier\n",
    "#from sklearn.ensemble import VotingClassifier\n",
    "from sklearn.metrics import accuracy_score\n",
    "from sklearn.metrics import f1_score"
   ]
  },
  {
   "cell_type": "code",
   "execution_count": 32,
   "id": "01648f64",
   "metadata": {},
   "outputs": [],
   "source": [
    "# 학습 및 테스트 결과 처리용 공통 함수\n",
    "def fit_and_test(model, train_x, train_y, test_x, test_y):\n",
    "    #print(train_x.shape, train_y.shape, test_x.shape, test_y.shape)\n",
    "    model.fit(train_x, train_y)\n",
    "    predict = model.predict(test_x)\n",
    "    accuracy = accuracy_score(test_y, predict)\n",
    "    f1 = f1_score(test_y, predict, average='weighted')\n",
    "    return predict, accuracy, f1"
   ]
  },
  {
   "cell_type": "code",
   "execution_count": 33,
   "id": "9c73f4d2",
   "metadata": {},
   "outputs": [
    {
     "name": "stdout",
     "output_type": "stream",
     "text": [
      "Accuracy:  {'025': 0.6905609973285841, '050': 0.6731967943009796, '100': 0.6567230632235085, '200': 0.6193232413178985, 'all': 0.5997328584149599}\n",
      "F1 score:  {'025': 0.6356933283152083, '050': 0.6012501291711391, '100': 0.5764467518778252, '200': 0.5315181088041159, 'all': 0.5045670886188423}\n"
     ]
    }
   ],
   "source": [
    "# 다항분포 나이브 베이즈 모델\n",
    "predict_mnb = {}\n",
    "accuracy_mnb = {}\n",
    "f1_mnb = {}\n",
    "for index in dataset_index:\n",
    "    model = MultinomialNB()\n",
    "    predict_mnb[index], accuracy_mnb[index], f1_mnb[index] = fit_and_test(model, tfidf_x_train_set[index], y_train, tfidf_x_test_set[index], y_test)\n",
    "print(\"Accuracy: \", accuracy_mnb)\n",
    "print(\"F1 score: \", f1_mnb)"
   ]
  },
  {
   "cell_type": "code",
   "execution_count": 34,
   "id": "f361b96d",
   "metadata": {},
   "outputs": [
    {
     "name": "stdout",
     "output_type": "stream",
     "text": [
      "Accuracy:  {'025': 0.7609082813891362, '050': 0.7707034728406055, '100': 0.7707034728406055, '200': 0.7671415850400712, 'all': 0.7649154051647373}\n",
      "F1 score:  {'025': 0.7332431109256139, '050': 0.7458990404916549, '100': 0.7456682614453047, '200': 0.7390612170450325, 'all': 0.7346534179503126}\n"
     ]
    }
   ],
   "source": [
    "# Complement Naive Bayes\n",
    "predict_cnb = {}\n",
    "accuracy_cnb = {}\n",
    "f1_cnb = {}\n",
    "for index in dataset_index:\n",
    "    model = ComplementNB()\n",
    "    predict_cnb[index], accuracy_cnb[index], f1_cnb[index] = fit_and_test(model, tfidf_x_train_set[index], y_train, tfidf_x_test_set[index], y_test)\n",
    "print(\"Accuracy: \", accuracy_cnb)\n",
    "print(\"F1 score: \", f1_cnb)"
   ]
  },
  {
   "cell_type": "code",
   "execution_count": 35,
   "id": "f9a14a53",
   "metadata": {},
   "outputs": [
    {
     "name": "stderr",
     "output_type": "stream",
     "text": [
      "/opt/conda/lib/python3.9/site-packages/sklearn/svm/_base.py:1199: ConvergenceWarning: Liblinear failed to converge, increase the number of iterations.\n",
      "  warnings.warn(\n",
      "/opt/conda/lib/python3.9/site-packages/sklearn/svm/_base.py:1199: ConvergenceWarning: Liblinear failed to converge, increase the number of iterations.\n",
      "  warnings.warn(\n",
      "/opt/conda/lib/python3.9/site-packages/sklearn/svm/_base.py:1199: ConvergenceWarning: Liblinear failed to converge, increase the number of iterations.\n",
      "  warnings.warn(\n",
      "/opt/conda/lib/python3.9/site-packages/sklearn/svm/_base.py:1199: ConvergenceWarning: Liblinear failed to converge, increase the number of iterations.\n",
      "  warnings.warn(\n"
     ]
    },
    {
     "name": "stdout",
     "output_type": "stream",
     "text": [
      "Accuracy:  {'025': 0.7471059661620659, '050': 0.7715939447907391, '100': 0.7782724844167409, '200': 0.786286731967943, 'all': 0.7898486197684773}\n",
      "F1 score:  {'025': 0.7425875104884011, '050': 0.768069094391222, '100': 0.7730520831570941, '200': 0.7795934608529768, 'all': 0.7847260851590995}\n"
     ]
    },
    {
     "name": "stderr",
     "output_type": "stream",
     "text": [
      "/opt/conda/lib/python3.9/site-packages/sklearn/svm/_base.py:1199: ConvergenceWarning: Liblinear failed to converge, increase the number of iterations.\n",
      "  warnings.warn(\n"
     ]
    }
   ],
   "source": [
    "# 선형 서포트 벡터 머신, Linear Support Vector Classification\n",
    "predict_lsvc = {}\n",
    "accuracy_lsvc = {}\n",
    "f1_lsvc = {}\n",
    "for index in dataset_index:\n",
    "    model = LinearSVC(C=1000, penalty='l1', max_iter=1000, dual=False)\n",
    "    predict_lsvc[index], accuracy_lsvc[index], f1_lsvc[index] = fit_and_test(model, tfidf_x_train_set[index], y_train, tfidf_x_test_set[index], y_test)\n",
    "print(\"Accuracy: \", accuracy_lsvc)\n",
    "print(\"F1 score: \", f1_lsvc)"
   ]
  },
  {
   "cell_type": "code",
   "execution_count": 36,
   "id": "1cc5718a",
   "metadata": {},
   "outputs": [
    {
     "name": "stderr",
     "output_type": "stream",
     "text": [
      "/opt/conda/lib/python3.9/site-packages/sklearn/svm/_base.py:284: ConvergenceWarning: Solver terminated early (max_iter=1000).  Consider pre-processing your data with StandardScaler or MinMaxScaler.\n",
      "  warnings.warn(\n",
      "/opt/conda/lib/python3.9/site-packages/sklearn/svm/_base.py:284: ConvergenceWarning: Solver terminated early (max_iter=1000).  Consider pre-processing your data with StandardScaler or MinMaxScaler.\n",
      "  warnings.warn(\n",
      "/opt/conda/lib/python3.9/site-packages/sklearn/svm/_base.py:284: ConvergenceWarning: Solver terminated early (max_iter=1000).  Consider pre-processing your data with StandardScaler or MinMaxScaler.\n",
      "  warnings.warn(\n",
      "/opt/conda/lib/python3.9/site-packages/sklearn/svm/_base.py:284: ConvergenceWarning: Solver terminated early (max_iter=1000).  Consider pre-processing your data with StandardScaler or MinMaxScaler.\n",
      "  warnings.warn(\n",
      "/opt/conda/lib/python3.9/site-packages/sklearn/svm/_base.py:284: ConvergenceWarning: Solver terminated early (max_iter=1000).  Consider pre-processing your data with StandardScaler or MinMaxScaler.\n",
      "  warnings.warn(\n"
     ]
    },
    {
     "name": "stdout",
     "output_type": "stream",
     "text": [
      "Accuracy:  {'025': 0.8094390026714159, '050': 0.8081032947462155, '100': 0.804986642920748, '200': 0.800979519145147, 'all': 0.800979519145147}\n",
      "F1 score:  {'025': 0.7947604797521679, '050': 0.7917267889521346, '100': 0.7874395345446155, '200': 0.7820482112053645, 'all': 0.7816878604096681}\n"
     ]
    }
   ],
   "source": [
    "# 비선형 서포트 벡터 머신 - rbf kernel\n",
    "predict_rbfsvc = {}\n",
    "accuracy_rbfsvc = {}\n",
    "f1_rbfsvc = {}\n",
    "for index in dataset_index:\n",
    "    model = SVC(max_iter=1000)\n",
    "    predict_rbfsvc[index], accuracy_rbfsvc[index], f1_rbfsvc[index] = fit_and_test(model, tfidf_x_train_set[index], y_train, tfidf_x_test_set[index], y_test)\n",
    "print(\"Accuracy: \", accuracy_rbfsvc)\n",
    "print(\"F1 score: \", f1_rbfsvc)"
   ]
  },
  {
   "cell_type": "code",
   "execution_count": 37,
   "id": "57f2ed6d",
   "metadata": {},
   "outputs": [
    {
     "name": "stdout",
     "output_type": "stream",
     "text": [
      "Accuracy:  {'025': 0.705253784505788, '050': 0.701246660730187, '100': 0.674087266251113, '200': 0.6714158504007124, 'all': 0.6544968833481746}\n",
      "F1 score:  {'025': 0.6816910329790441, '050': 0.6770217603524399, '100': 0.6429484177284822, '200': 0.6408515630206083, 'all': 0.6225909375608356}\n"
     ]
    }
   ],
   "source": [
    "# 렌덤 포레스트\n",
    "predict_rforest = {}\n",
    "accuracy_rforest = {}\n",
    "f1_rforest = {}\n",
    "for index in dataset_index:\n",
    "    model = RandomForestClassifier(5, random_state=0)\n",
    "    predict_rforest[index], accuracy_rforest[index], f1_rforest[index] = fit_and_test(model, tfidf_x_train_set[index], y_train, tfidf_x_test_set[index], y_test)\n",
    "print(\"Accuracy: \", accuracy_rforest)\n",
    "print(\"F1 score: \", f1_rforest)"
   ]
  },
  {
   "cell_type": "code",
   "execution_count": 39,
   "id": "a3f110da",
   "metadata": {},
   "outputs": [
    {
     "data": {
      "image/png": "[encoded data removed]",
      "text/plain": [
       "<Figure size 1152x720 with 5 Axes>"
      ]
     },
     "metadata": {
      "needs_background": "light"
     },
     "output_type": "display_data"
    }
   ],
   "source": [
    "# 결과 비교\n",
    "\n",
    "plt.figure(figsize=(16,10))\n",
    "plt.subplot(3, 2, 1)\n",
    "plt.ylim([0.5, 1.0])\n",
    "plt.bar(list(accuracy_mnb.keys()), list(accuracy_mnb.values()), width=0.8)\n",
    "plt.title('Multinomial Naive Bayes Model')\n",
    "\n",
    "plt.subplot(3, 2, 2)\n",
    "plt.ylim([0.5, 1.0])\n",
    "plt.bar(list(accuracy_cnb.keys()), list(accuracy_cnb.values()), width=0.8)\n",
    "plt.title('Complement Naive Bayes Model')\n",
    "\n",
    "plt.subplot(3, 2, 3)\n",
    "plt.ylim([0.5, 1.0])\n",
    "plt.bar(list(accuracy_lsvc.keys()), list(accuracy_lsvc.values()), width=0.8)\n",
    "plt.title('Linear Support Vector Classification')\n",
    "\n",
    "plt.subplot(3, 2, 4)\n",
    "plt.ylim([0.5, 1.0])\n",
    "plt.bar(list(accuracy_rbfsvc.keys()), list(accuracy_rbfsvc.values()), width=0.8)\n",
    "plt.title('RBF Support Vector Classification')\n",
    "\n",
    "plt.subplot(3, 2, 5)\n",
    "plt.ylim([0.5, 1.0])\n",
    "plt.bar(list(accuracy_rforest.keys()), list(accuracy_rforest.values()), width=0.8)\n",
    "plt.title('Random Forest')\n",
    "\n",
    "plt.show()"
   ]
  },
  {
   "cell_type": "markdown",
   "id": "d5c7994f",
   "metadata": {},
   "source": [
    "#### 분석\n",
    "- 상대적으로 서포트벡터머신 기반의 분류기가 좋은 성능을 보임\n",
    "- 서포트벡터머신 기반의 분류기를 제외한 다른 분류기에서는 단어의 수가 증가할 수록 분류기의 성능이 낮아짐.\n",
    "- 생각해볼 수 있는 원인으로 단어의 수가 증가할 수록 DTM 벡터의 크기가 커지며, 정확한 분류를 위한 데이터가 충분하지 않기 때문\n",
    "- 서포트벡터머신 기반의 분류기에서는 반복 횟수가 충분하지 않다는 경고를 출력함. -> **반복회수에 따른 성능 비교 필요함**\n",
    "- 서포트벡터머신 기반의 분류기는 학습 과정에 긴 시간이 필요함 -> **알고리즘 별로 학습 시간을 측정해서 비교 필요함**"
   ]
  },
  {
   "cell_type": "markdown",
   "id": "422670dd",
   "metadata": {},
   "source": [
    "### 4. 딥러닝 기법"
   ]
  },
  {
   "cell_type": "code",
   "execution_count": 98,
   "id": "38da7966",
   "metadata": {},
   "outputs": [
    {
     "name": "stdout",
     "output_type": "stream",
     "text": [
      "Model: \"model_1\"\n",
      "_________________________________________________________________\n",
      "Layer (type)                 Output Shape              Param #   \n",
      "=================================================================\n",
      "input_2 (InputLayer)         [(None, 2430, 1)]         0         \n",
      "_________________________________________________________________\n",
      "lstm_1 (LSTM)                (None, 128)               66560     \n",
      "_________________________________________________________________\n",
      "dense_2 (Dense)              (None, 64)                8256      \n",
      "_________________________________________________________________\n",
      "dropout_1 (Dropout)          (None, 64)                0         \n",
      "_________________________________________________________________\n",
      "dense_3 (Dense)              (None, 46)                2990      \n",
      "=================================================================\n",
      "Total params: 77,806\n",
      "Trainable params: 77,806\n",
      "Non-trainable params: 0\n",
      "_________________________________________________________________\n"
     ]
    }
   ],
   "source": [
    "# 모델 구성 - LSTM - 임베딩층 없이 LSTM - Dense - Dropout - Dense 구성\n",
    "LSTM_DIM = 128\n",
    "DENSE_DIM = 64\n",
    "DROPOUT = 0.1\n",
    "\n",
    "# num_word: 2500을 입력으로 하는 모델\n",
    "\n",
    "inputs = tf.keras.Input(shape=(2430, 1))\n",
    "hidden_1 = tf.keras.layers.LSTM(LSTM_DIM)(inputs)\n",
    "hidden_2 = tf.keras.layers.Dense(DENSE_DIM, activation='relu')(hidden_1)\n",
    "hidden_3 = tf.keras.layers.Dropout(DROPOUT)(hidden_2)\n",
    "outputs = tf.keras.layers.Dense(46, activation=\"softmax\")(hidden_3)\n",
    "\n",
    "lstm_model = tf.keras.Model(inputs, outputs)\n",
    "\n",
    "lstm_model.summary()"
   ]
  },
  {
   "cell_type": "code",
   "execution_count": 103,
   "id": "81fab1b6",
   "metadata": {},
   "outputs": [],
   "source": [
    "# 모델 학습 구성\n",
    "optimizer = tf.keras.optimizers.Adam(learning_rate=0.001)\n",
    "best_model_check = tf.keras.callbacks.ModelCheckpoint(filepath='news_classification_lstm.keras', monitor='loss', save_best_only=True)\n",
    "\n",
    "EPOCHS = 10\n",
    "BATCH_SIZE = 512"
   ]
  },
  {
   "cell_type": "code",
   "execution_count": 104,
   "id": "2808757e",
   "metadata": {},
   "outputs": [
    {
     "name": "stdout",
     "output_type": "stream",
     "text": [
      "Epoch 1/10\n",
      "18/18 [==============================] - 7s 315ms/step - loss: 2.4019 - accuracy: 0.3517\n",
      "Epoch 2/10\n",
      "18/18 [==============================] - 6s 312ms/step - loss: 2.4019 - accuracy: 0.3517\n",
      "Epoch 3/10\n",
      "18/18 [==============================] - 6s 318ms/step - loss: 2.4019 - accuracy: 0.3517\n",
      "Epoch 4/10\n",
      "18/18 [==============================] - 6s 321ms/step - loss: 2.4018 - accuracy: 0.3517\n",
      "Epoch 5/10\n",
      "18/18 [==============================] - 6s 328ms/step - loss: 2.4018 - accuracy: 0.3517\n",
      "Epoch 6/10\n",
      "18/18 [==============================] - 6s 326ms/step - loss: 2.4018 - accuracy: 0.3517\n",
      "Epoch 7/10\n",
      "18/18 [==============================] - 6s 329ms/step - loss: 2.4018 - accuracy: 0.3517\n",
      "Epoch 8/10\n",
      "18/18 [==============================] - 6s 324ms/step - loss: 2.4018 - accuracy: 0.3517\n",
      "Epoch 9/10\n",
      "18/18 [==============================] - 6s 323ms/step - loss: 2.4018 - accuracy: 0.3517\n",
      "Epoch 10/10\n",
      "18/18 [==============================] - 6s 323ms/step - loss: 2.4018 - accuracy: 0.3517\n"
     ]
    }
   ],
   "source": [
    "# 학습\n",
    "lstm_model.compile(optimizer=optimizer, loss='sparse_categorical_crossentropy', metrics=['accuracy'])\n",
    "\n",
    "x_train = tfidf_x_train_set['025'].toarray().reshape(8982, 2430, -1)\n",
    "\n",
    "lstm_history = lstm_model.fit(x_train, y_train, epochs=EPOCHS, batch_size=BATCH_SIZE, callbacks=best_model_check)"
   ]
  },
  {
   "cell_type": "markdown",
   "id": "91e36ebd",
   "metadata": {},
   "source": [
    "#### 분석\n",
    "- LSTM 모델의 학습이 이뤄지지 않음\n",
    "- 입력으로 사용된 TF-IDF 데이터가 희소표현 데이터라서 순서를 학습하는 LSTM 모델에서는 적합하지 않은 것으로 생각됨\n",
    "- LSTM 모델에서는 마지막 데이터가 중요한데, 희소표현이면 마지막 데이터가 0일 가능성이 매우 높음.\n",
    "- accuracy가 0.35인 것은 데이터 자체가 클래스별 불균형하고, 가장 많은 클래스를 가진 클래스로 과적합되고 있는 것이라 생각됨."
   ]
  },
  {
   "cell_type": "markdown",
   "id": "d1029604",
   "metadata": {},
   "source": [
    "#### 이슈\n",
    "- TF-IDF 값이 희소행렬로 표현되는 데이터가 아님을 확인. 메모리를 절약하기 위해 (x, y): value 형태로 저장함.\n",
    "- 희소표현이 공간 낭비(메모리 낭비)가 심하다는 문제를 해결할 수 있는 방법\n",
    "- 연산이 복잡하지만, 매우 큰 희소행렬 대비 연산량이 줄어들 수도 있을 듯\n",
    "- 딥러닝 모델의 입력으로 넣기 위해서는 희소행렬로 표현해야 하며 이를 위해 toarray() 함수를 제공함"
   ]
  },
  {
   "cell_type": "code",
   "execution_count": 16,
   "id": "1b73a4b6",
   "metadata": {},
   "outputs": [
    {
     "name": "stdout",
     "output_type": "stream",
     "text": [
      "Model: \"model\"\n",
      "_________________________________________________________________\n",
      "Layer (type)                 Output Shape              Param #   \n",
      "=================================================================\n",
      "input_1 (InputLayer)         [(None, 4867)]            0         \n",
      "_________________________________________________________________\n",
      "dense (Dense)                (None, 1024)              4984832   \n",
      "_________________________________________________________________\n",
      "dropout (Dropout)            (None, 1024)              0         \n",
      "_________________________________________________________________\n",
      "dense_1 (Dense)              (None, 128)               131200    \n",
      "_________________________________________________________________\n",
      "dropout_1 (Dropout)          (None, 128)               0         \n",
      "_________________________________________________________________\n",
      "dense_2 (Dense)              (None, 46)                5934      \n",
      "=================================================================\n",
      "Total params: 5,121,966\n",
      "Trainable params: 5,121,966\n",
      "Non-trainable params: 0\n",
      "_________________________________________________________________\n"
     ]
    }
   ],
   "source": [
    "# 모델 구성 - Dense - Dropout - Dense - Dropout - Dense\n",
    "INPUT_SHAPE = tfidf_x_train_set['050'].shape[1]\n",
    "DENSE1_DIM = 1024\n",
    "DENSE2_DIM = 128\n",
    "DROPOUT = 0.1\n",
    "OUTPUT_DIM = num_classes\n",
    "\n",
    "# num_word: 5000을 입력으로 하는 모델\n",
    "\n",
    "inputs = tf.keras.Input(shape=(INPUT_SHAPE))\n",
    "hidden_1 = tf.keras.layers.Dense(DENSE1_DIM, activation='relu')(inputs)\n",
    "hidden_2 = tf.keras.layers.Dropout(DROPOUT)(hidden_1)\n",
    "hidden_3 = tf.keras.layers.Dense(DENSE2_DIM, activation='relu')(hidden_2)\n",
    "hidden_4 = tf.keras.layers.Dropout(DROPOUT)(hidden_3)\n",
    "outputs = tf.keras.layers.Dense(OUTPUT_DIM, activation=\"softmax\")(hidden_4)\n",
    "\n",
    "dense_model = tf.keras.Model(inputs, outputs)\n",
    "\n",
    "dense_model.summary()"
   ]
  },
  {
   "cell_type": "code",
   "execution_count": 17,
   "id": "66eaf0dd",
   "metadata": {},
   "outputs": [],
   "source": [
    "optimizer = tf.keras.optimizers.Adam(learning_rate=0.001)\n",
    "best_model_check = tf.keras.callbacks.ModelCheckpoint(filepath='news_classification_lstm.keras', monitor='val_loss', save_best_only=True)\n",
    "\n",
    "EPOCHS = 10\n",
    "BATCH_SIZE = 512"
   ]
  },
  {
   "cell_type": "code",
   "execution_count": 18,
   "id": "80ec7690",
   "metadata": {},
   "outputs": [
    {
     "name": "stdout",
     "output_type": "stream",
     "text": [
      "Epoch 1/10\n",
      "18/18 [==============================] - 6s 293ms/step - loss: 3.0120 - accuracy: 0.4277 - val_loss: 1.9686 - val_accuracy: 0.5374\n",
      "Epoch 2/10\n",
      "18/18 [==============================] - 5s 276ms/step - loss: 1.6030 - accuracy: 0.6251 - val_loss: 1.4055 - val_accuracy: 0.6839\n",
      "Epoch 3/10\n",
      "18/18 [==============================] - 5s 273ms/step - loss: 1.1596 - accuracy: 0.7307 - val_loss: 1.1634 - val_accuracy: 0.7240\n",
      "Epoch 4/10\n",
      "18/18 [==============================] - 5s 266ms/step - loss: 0.9096 - accuracy: 0.7919 - val_loss: 1.0273 - val_accuracy: 0.7663\n",
      "Epoch 5/10\n",
      "18/18 [==============================] - 5s 265ms/step - loss: 0.7194 - accuracy: 0.8308 - val_loss: 0.9272 - val_accuracy: 0.7823\n",
      "Epoch 6/10\n",
      "18/18 [==============================] - 5s 268ms/step - loss: 0.5647 - accuracy: 0.8696 - val_loss: 0.8656 - val_accuracy: 0.7965\n",
      "Epoch 7/10\n",
      "18/18 [==============================] - 5s 274ms/step - loss: 0.4381 - accuracy: 0.9010 - val_loss: 0.8333 - val_accuracy: 0.8037\n",
      "Epoch 8/10\n",
      "18/18 [==============================] - 5s 267ms/step - loss: 0.3370 - accuracy: 0.9198 - val_loss: 0.8169 - val_accuracy: 0.8054\n",
      "Epoch 9/10\n",
      "18/18 [==============================] - 5s 268ms/step - loss: 0.2646 - accuracy: 0.9349 - val_loss: 0.8355 - val_accuracy: 0.8068\n",
      "Epoch 10/10\n",
      "18/18 [==============================] - 5s 262ms/step - loss: 0.2130 - accuracy: 0.9429 - val_loss: 0.8356 - val_accuracy: 0.8068\n"
     ]
    }
   ],
   "source": [
    "dense_model.compile(optimizer=optimizer, loss='sparse_categorical_crossentropy', metrics=['accuracy'])\n",
    "\n",
    "x_train = tfidf_x_train_set['050'].toarray()\n",
    "x_test = tfidf_x_test_set['050'].toarray()\n",
    "\n",
    "# validation set으로 테스트 데이터가 들어갔음을 주의.\n",
    "\n",
    "dense_history = dense_model.fit(x_train, y_train, epochs=EPOCHS, batch_size=BATCH_SIZE, callbacks=best_model_check, validation_data=(x_test, y_test))"
   ]
  },
  {
   "cell_type": "code",
   "execution_count": 20,
   "id": "47cd6ebd",
   "metadata": {},
   "outputs": [
    {
     "data": {
      "image/png": "[encoded data removed]",
      "text/plain": [
       "<Figure size 1152x360 with 2 Axes>"
      ]
     },
     "metadata": {
      "needs_background": "light"
     },
     "output_type": "display_data"
    }
   ],
   "source": [
    "# 학습 그래프\n",
    "plt.figure(figsize=(16,5))\n",
    "plt.subplot(1, 2, 1)\n",
    "plt.plot(dense_history.history['accuracy'], label='train')\n",
    "plt.plot(dense_history.history['val_accuracy'], label='test')\n",
    "plt.title(\"Accuracy\")\n",
    "\n",
    "plt.subplot(1, 2, 2)\n",
    "plt.plot(dense_history.history['loss'], label='train')\n",
    "plt.plot(dense_history.history['val_loss'], label='test')\n",
    "plt.title(\"Loss\")\n",
    "plt.show()"
   ]
  },
  {
   "cell_type": "code",
   "execution_count": 21,
   "id": "0c68c175",
   "metadata": {},
   "outputs": [
    {
     "name": "stdout",
     "output_type": "stream",
     "text": [
      "71/71 [==============================] - 1s 12ms/step - loss: 0.8169 - accuracy: 0.8054\n",
      "[0.8169102668762207, 0.8054319024085999]\n",
      "0.79321239690205\n"
     ]
    }
   ],
   "source": [
    "# 평가\n",
    "model = tf.keras.models.load_model(\"news_classification_lstm.keras\")\n",
    "print(model.evaluate(x_test, y_test))\n",
    "pred = model.predict(x_test)\n",
    "pred = np.argmax(pred, axis = 1)\n",
    "f1 = f1_score(y_test, pred, average='weighted')\n",
    "print(f1)"
   ]
  },
  {
   "cell_type": "markdown",
   "id": "08e4a15b",
   "metadata": {},
   "source": [
    "#### 분석\n",
    "- TF-IDF 데이터를 전체 입력으로 하는 Dense 모델의 경우, 정상적으로 학습이 이뤄짐을 확인\n",
    "- 희소표현에서 0으로 입력되는 부분에 대한 Dense 레이어의 가중치가 적절히 학습되는 것으로 예상됨."
   ]
  },
  {
   "cell_type": "code",
   "execution_count": 29,
   "id": "1a653b27",
   "metadata": {},
   "outputs": [
    {
     "data": {
      "image/png": "[encoded data removed]",
      "text/plain": [
       "<Figure size 1152x360 with 1 Axes>"
      ]
     },
     "metadata": {
      "needs_background": "light"
     },
     "output_type": "display_data"
    }
   ],
   "source": [
    "# 알고리즘 별 성능 비교 - num_words: 5000 기준\n",
    "# LMS 연결 이슈로 전통적인 머신러닝 기법 결과의 F1 score를 그대로 복사함\n",
    "\n",
    "results = {'Multinomial NB': 0.7458990404916549, 'Complement NB':0.7458990404916549, 'Linear SVC': 0.768069094391222, 'RBF SVC': 0.7917267889521346, 'Random Forest': 0.6770217603524399, 'Deep Learning (Dense)': 0.79321239690205}\n",
    "\n",
    "plt.figure(figsize=(16,5))\n",
    "plt.ylim([0.5, 1.0])\n",
    "plt.bar(list(results.keys()), list(results.values()), width=0.8)\n",
    "plt.title('F1 score')\n",
    "plt.show()"
   ]
  },
  {
   "cell_type": "markdown",
   "id": "42d94357",
   "metadata": {},
   "source": [
    "##### 분석\n",
    "- 가장 좋은 성능은 딥러닝 모델이지만, SVC 기반 모델과 거의 비슷한 수준을 보임."
   ]
  },
  {
   "cell_type": "markdown",
   "id": "a038eb62",
   "metadata": {},
   "source": [
    "### 회고\n",
    "- 전통적인 머신러닝 기법의 분류기의 성능 비교를 해볼 수 있는 시간이었습니다.\n",
    "- 서포트벡터머신 기반의 분류기가 상대적으로 좋은 성능을 보여줬지만, 학습에 상당한 시간이 걸리는 점이 단점임을 확인했습니다.\n",
    "- 선형 회귀나 부스팅 기법 등 확인되지 않은 다른 기법에 대한 성능 비교도 필요할 것 같습니다."
   ]
  },
  {
   "cell_type": "code",
   "execution_count": null,
   "id": "b4ddded3",
   "metadata": {},
   "outputs": [],
   "source": []
  }
 ],
 "metadata": {
  "kernelspec": {
   "display_name": "Python 3 (ipykernel)",
   "language": "python",
   "name": "python3"
  },
  "language_info": {
   "codemirror_mode": {
    "name": "ipython",
    "version": 3
   },
   "file_extension": ".py",
   "mimetype": "text/x-python",
   "name": "python",
   "nbconvert_exporter": "python",
   "pygments_lexer": "ipython3",
   "version": "3.9.7"
  }
 },
 "nbformat": 4,
 "nbformat_minor": 5
}
