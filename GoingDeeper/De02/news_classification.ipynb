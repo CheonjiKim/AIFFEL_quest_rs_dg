{
 "cells": [
  {
   "cell_type": "code",
   "execution_count": 71,
   "id": "04771bba",
   "metadata": {},
   "outputs": [],
   "source": [
    "import tensorflow as tf\n",
    "import matplotlib.pyplot as plt\n",
    "import numpy as np\n",
    "\n",
    "from tensorflow.keras.datasets import reuters"
   ]
  },
  {
   "cell_type": "markdown",
   "id": "0ec99e9c",
   "metadata": {},
   "source": [
    "### 1. 데이터 준비"
   ]
  },
  {
   "cell_type": "code",
   "execution_count": 2,
   "id": "eb88ba74",
   "metadata": {},
   "outputs": [
    {
     "name": "stdout",
     "output_type": "stream",
     "text": [
      "Downloading data from https://storage.googleapis.com/tensorflow/tf-keras-datasets/reuters.npz\n",
      "2113536/2110848 [==============================] - 0s 0us/step\n",
      "2121728/2110848 [==============================] - 0s 0us/step\n",
      "  훈련 샘플의 수:   8982,   8982,   8982,   8982,   8982\n",
      "테스트 샘플의 수:   2246,   2246,   2246,   2246,   2246\n"
     ]
    }
   ],
   "source": [
    "# 데이터 불러오기 - 워드 갯수별 딕셔너리에 담기\n",
    "x_train_set = {}\n",
    "x_test_set = {}\n",
    "\n",
    "(x_train_set['025'], y_train), (x_test_set['025'], y_test) = reuters.load_data(num_words=2500, test_split=0.2)\n",
    "(x_train_set['050'], y_train), (x_test_set['050'], y_test) = reuters.load_data(num_words=5000, test_split=0.2)\n",
    "(x_train_set['100'], y_train), (x_test_set['100'], y_test) = reuters.load_data(num_words=10000, test_split=0.2)\n",
    "(x_train_set['200'], y_train), (x_test_set['200'], y_test) = reuters.load_data(num_words=20000, test_split=0.2)\n",
    "(x_train_set['all'], y_train), (x_test_set['all'], y_test) = reuters.load_data(num_words=None, test_split=0.2)\n",
    "\n",
    "print(f\"  훈련 샘플의 수: {len(x_train_set['025']):6d}, {len(x_train_set['050']):6d}, {len(x_train_set['100']):6d}, {len(x_train_set['200']):6d}, {len(x_train_set['all']):6d}\")\n",
    "print(f\"테스트 샘플의 수: {len(x_test_set['025']):6d}, {len(x_test_set['050']):6d}, {len(x_test_set['100']):6d}, {len(x_test_set['200']):6d}, {len(x_test_set['all']):6d}\")"
   ]
  },
  {
   "cell_type": "code",
   "execution_count": 3,
   "id": "76c1dc0b",
   "metadata": {},
   "outputs": [
    {
     "name": "stdout",
     "output_type": "stream",
     "text": [
      "6519\n"
     ]
    }
   ],
   "source": [
    "# 가장 짧은 데이터 찾기\n",
    "min_length = 10000\n",
    "min_index = 0\n",
    "\n",
    "for index, s in enumerate(x_train_set['025']):\n",
    "    if len(s) < min_length:\n",
    "        min_length = len(s)\n",
    "        min_index = index\n",
    "\n",
    "print(min_index)"
   ]
  },
  {
   "cell_type": "code",
   "execution_count": 4,
   "id": "6e5f5ef6",
   "metadata": {},
   "outputs": [
    {
     "name": "stdout",
     "output_type": "stream",
     "text": [
      "num_words  2500: [1, 486, 341, 151, 26, 219, 93, 124, 146, 93, 155, 17, 12]\n",
      "num_words  5000: [1, 486, 341, 151, 26, 219, 93, 124, 146, 93, 155, 17, 12]\n",
      "num_words 10000: [1, 486, 341, 151, 26, 219, 93, 124, 146, 93, 155, 17, 12]\n",
      "num_words 20000: [1, 486, 341, 151, 26, 219, 93, 124, 146, 93, 155, 17, 12]\n",
      "num_words  None: [1, 486, 341, 151, 26, 219, 93, 124, 146, 93, 155, 17, 12]\n"
     ]
    }
   ],
   "source": [
    "# 데이터 확인\n",
    "print(\"num_words  2500:\", x_train_set['025'][min_index])\n",
    "print(\"num_words  5000:\", x_train_set['050'][min_index])\n",
    "print(\"num_words 10000:\", x_train_set['100'][min_index])\n",
    "print(\"num_words 20000:\", x_train_set['200'][min_index])\n",
    "print(\"num_words  None:\", x_train_set['all'][min_index])"
   ]
  },
  {
   "cell_type": "code",
   "execution_count": 6,
   "id": "070e6d9e",
   "metadata": {},
   "outputs": [
    {
     "name": "stdout",
     "output_type": "stream",
     "text": [
      "훈련용 뉴스의 최대 길이: 2376\n",
      "훈련용 뉴스의 평균 길이: 145.54\n"
     ]
    },
    {
     "data": {
      "image/png": "[encoded data removed]",
      "text/plain": [
       "<Figure size 432x288 with 1 Axes>"
      ]
     },
     "metadata": {
      "needs_background": "light"
     },
     "output_type": "display_data"
    }
   ],
   "source": [
    "# 데이터의 길이 분포\n",
    "print(f\"훈련용 뉴스의 최대 길이: {max(len(l) for l in x_train_set['025'])}\")\n",
    "print(f\"훈련용 뉴스의 평균 길이: {sum(map(len, x_train_set['025']))/len(x_train_set['025']):.2f}\")\n",
    "\n",
    "plt.hist([len(s) for s in x_train_set['025']], bins=50)\n",
    "plt.xlabel('length of samples')\n",
    "plt.ylabel('number of samples')\n",
    "plt.show()"
   ]
  },
  {
   "cell_type": "code",
   "execution_count": 7,
   "id": "a8bdf374",
   "metadata": {},
   "outputs": [
    {
     "data": {
      "image/png": "[encoded data removed]",
      "text/plain": [
       "<Figure size 432x288 with 1 Axes>"
      ]
     },
     "metadata": {
      "needs_background": "light"
     },
     "output_type": "display_data"
    }
   ],
   "source": [
    "# 클래스 빈도수\n",
    "unique_elements, counts_elements = np.unique(y_train, return_counts=True)\n",
    "#print(\"각 클래스 빈도수:\")\n",
    "#print(np.asarray((unique_elements, counts_elements)))\n",
    "\n",
    "plt.bar(unique_elements, counts_elements)\n",
    "plt.xlabel('class Id')\n",
    "plt.ylabel('number of samples')\n",
    "plt.show()"
   ]
  },
  {
   "cell_type": "code",
   "execution_count": 8,
   "id": "95509d9b",
   "metadata": {},
   "outputs": [
    {
     "name": "stdout",
     "output_type": "stream",
     "text": [
      "Downloading data from https://storage.googleapis.com/tensorflow/tf-keras-datasets/reuters_word_index.json\n",
      "557056/550378 [==============================] - 0s 0us/step\n",
      "565248/550378 [==============================] - 0s 0us/step\n",
      "단어 사전의 크기: 30979\n"
     ]
    }
   ],
   "source": [
    "# 단어 사전\n",
    "word_index = reuters.get_word_index(path=\"reuters_word_index.json\")\n",
    "index_to_word = { index+3 : word for word, index in word_index.items() }\n",
    "\n",
    "# index_to_word에 숫자 0은 <pad>, 숫자 1은 <sos>, 숫자 2는 <unk>를 넣어줍니다.\n",
    "for index, token in enumerate((\"<pad>\", \"<sos>\", \"<unk>\")):\n",
    "    index_to_word[index] = token\n",
    "\n",
    "print(f'단어 사전의 크기: {len(word_index)}')"
   ]
  },
  {
   "cell_type": "code",
   "execution_count": 9,
   "id": "4e35a1c0",
   "metadata": {},
   "outputs": [],
   "source": [
    "# 디코딩 함수\n",
    "def decode(data):\n",
    "    decoded = []\n",
    "    for i in range(len(data)):\n",
    "        t = ' '.join([index_to_word[index] for index in data[i]])\n",
    "        decoded.append(t)\n",
    "    return decoded"
   ]
  },
  {
   "cell_type": "code",
   "execution_count": 10,
   "id": "0524adb7",
   "metadata": {},
   "outputs": [],
   "source": [
    "# 데이터 셋 디코딩\n",
    "dataset_index = ['025', '050', '100', '200', 'all']\n",
    "words_size = {'025': 2500, '050': 5000, '100': 10000, '200': 20000, 'all': 30979}\n",
    "decoded_x_train_set = {}\n",
    "decoded_x_test_set = {}\n",
    "\n",
    "for index in dataset_index:\n",
    "    decoded_x_train_set[index] = decode(x_train_set[index])\n",
    "\n",
    "for index in dataset_index:\n",
    "    decoded_x_test_set[index] = decode(x_test_set[index])"
   ]
  },
  {
   "cell_type": "code",
   "execution_count": 12,
   "id": "ae04a551",
   "metadata": {},
   "outputs": [
    {
     "name": "stdout",
     "output_type": "stream",
     "text": [
      "word size: 2500\n",
      "<sos> qtly div nine cts pay april 30 record april six reuter 3\n",
      "word size: 5000\n",
      "<sos> qtly div nine cts pay april 30 record april six reuter 3\n",
      "word size: 10000\n",
      "<sos> qtly div nine cts pay april 30 record april six reuter 3\n",
      "word size: 20000\n",
      "<sos> qtly div nine cts pay april 30 record april six reuter 3\n",
      "word size: 30979\n",
      "<sos> qtly div nine cts pay april 30 record april six reuter 3\n"
     ]
    }
   ],
   "source": [
    "# 데이터 셋 확인\n",
    "for index in dataset_index:\n",
    "    print(f\"word size: {words_size[index]}\")\n",
    "    print(decoded_x_train_set[index][min_index])"
   ]
  },
  {
   "cell_type": "markdown",
   "id": "4a310c9e",
   "metadata": {},
   "source": [
    "### 2. DTM, TF-IDF"
   ]
  },
  {
   "cell_type": "code",
   "execution_count": 14,
   "id": "d16d33c2",
   "metadata": {},
   "outputs": [],
   "source": [
    "# DTM/TF-IDF 관련 라이브러리\n",
    "from sklearn.feature_extraction.text import CountVectorizer\n",
    "from sklearn.feature_extraction.text import TfidfTransformer"
   ]
  },
  {
   "cell_type": "code",
   "execution_count": 15,
   "id": "8d8c9de9",
   "metadata": {},
   "outputs": [
    {
     "name": "stdout",
     "output_type": "stream",
     "text": [
      "(8982, 2430) (2246, 2430)\n",
      "(8982, 4867) (2246, 4867)\n",
      "(8982, 9670) (2246, 9670)\n",
      "(8982, 18479) (2246, 18479)\n",
      "(8982, 26506) (2246, 26506)\n"
     ]
    }
   ],
   "source": [
    "# DTN 계산\n",
    "dtmvector = CountVectorizer()\n",
    "dtm_x_train_set = {}\n",
    "dtm_x_test_set = {}\n",
    "for index in dataset_index:\n",
    "    dtm_x_train_set[index] = dtmvector.fit_transform(decoded_x_train_set[index])\n",
    "    dtm_x_test_set[index] = dtmvector.transform(decoded_x_test_set[index])\n",
    "    print(f'{dtm_x_train_set[index].shape} {dtm_x_test_set[index].shape}')"
   ]
  },
  {
   "cell_type": "code",
   "execution_count": 17,
   "id": "3634b0ed",
   "metadata": {},
   "outputs": [
    {
     "name": "stdout",
     "output_type": "stream",
     "text": [
      "(8982, 2430) (2246, 2430)\n",
      "(8982, 4867) (2246, 4867)\n",
      "(8982, 9670) (2246, 9670)\n",
      "(8982, 18479) (2246, 18479)\n",
      "(8982, 26506) (2246, 26506)\n"
     ]
    }
   ],
   "source": [
    "# TF-IDF 계산\n",
    "tfidf_transformer = TfidfTransformer()\n",
    "tfidf_x_train_set = {}\n",
    "tfidf_x_test_set = {}\n",
    "for index in dataset_index:\n",
    "    tfidf_x_train_set[index] = tfidf_transformer.fit_transform(dtm_x_train_set[index])\n",
    "    tfidf_x_test_set[index] = tfidf_transformer.transform(dtm_x_test_set[index])\n",
    "    print(f'{tfidf_x_train_set[index].shape} {tfidf_x_test_set[index].shape}')"
   ]
  },
  {
   "cell_type": "markdown",
   "id": "c50d8b46",
   "metadata": {},
   "source": [
    "### Appendix 1. DTM vector 크기 다른 이슈 분석"
   ]
  },
  {
   "cell_type": "code",
   "execution_count": 73,
   "id": "41256f2c",
   "metadata": {},
   "outputs": [
    {
     "name": "stdout",
     "output_type": "stream",
     "text": [
      "2498\n"
     ]
    }
   ],
   "source": [
    "# 단어 목록 얻어오기 - 데이터의 길이가 달라서 직접 계산\n",
    "unique_words = {}\n",
    "\n",
    "for element in decoded_x_train_set['025']:\n",
    "    for word_index in element.split():\n",
    "        if not word_index in unique_words:\n",
    "            unique_words[word_index] = 1\n",
    "        else:\n",
    "            unique_words[word_index] += 1\n",
    "\n",
    "print(len(unique_words))"
   ]
  },
  {
   "cell_type": "code",
   "execution_count": 74,
   "id": "60e2b210",
   "metadata": {},
   "outputs": [
    {
     "name": "stdout",
     "output_type": "stream",
     "text": [
      "<sos>\n",
      "<unk>\n",
      "a\n",
      "1\n",
      "5\n",
      "2\n",
      "3\n",
      "0\n",
      "4\n",
      "9\n",
      "6\n",
      "8\n",
      "u\n",
      "s\n",
      "department's\n",
      "d\n",
      "7\n",
      "canada's\n",
      "i\n",
      "banks'\n",
      "bank's\n",
      "month's\n",
      "don't\n",
      "japan's\n",
      "r\n",
      "company's\n",
      "group's\n",
      "australia's\n",
      "government's\n",
      "country's\n",
      "today's\n",
      "there's\n",
      "l\n",
      "f\n",
      "b\n",
      "world's\n",
      "n\n",
      "inc's\n",
      "corp's\n",
      "k\n",
      "c\n",
      "week's\n",
      "brazil's\n",
      "year's\n",
      "o\n",
      "opec's\n",
      "nation's\n",
      "dollar's\n",
      "v\n",
      "t\n",
      "z\n",
      "m\n",
      "x\n",
      "china's\n",
      "j\n",
      "p\n",
      "germany's\n",
      "yen's\n",
      "w\n",
      "y\n",
      "e\n",
      "yesterday's\n",
      "it's\n",
      "g\n",
      "co's\n",
      "taiwan's\n",
      "h\n",
      "ec's\n",
      "we're\n",
      "i'm\n",
      "reagan's\n",
      "없는 단어 수: 71\n"
     ]
    }
   ],
   "source": [
    "# 없는 단어 출력하기\n",
    "dtm_word_list = dtmvector.get_feature_names_out()\n",
    "\n",
    "missing_words = 0\n",
    "for word in unique_words:\n",
    "    if not word in dtm_word_list:\n",
    "        missing_words += 1\n",
    "        print(word)\n",
    "print(f'없는 단어 수: {missing_words}')"
   ]
  },
  {
   "cell_type": "markdown",
   "id": "71e8a6b6",
   "metadata": {},
   "source": [
    "#### 분석\n",
    "- 문자 길이가 1인 단어가 처리되지 않음\n",
    "- 's 붙은 단어가 분리되어 처리됨"
   ]
  },
  {
   "cell_type": "markdown",
   "id": "a87b03d3",
   "metadata": {},
   "source": [
    "### 3. 전통적인 머신러닝 기법"
   ]
  },
  {
   "cell_type": "code",
   "execution_count": 57,
   "id": "ed50d880",
   "metadata": {},
   "outputs": [],
   "source": [
    "from sklearn.naive_bayes import MultinomialNB\n",
    "from sklearn.naive_bayes import ComplementNB\n",
    "#from sklearn.linear_model import LogisticRegression, SGDClassifier\n",
    "from sklearn.svm import LinearSVC\n",
    "from sklearn.svm import SVC\n",
    "#from sklearn.tree import DecisionTreeClassifier\n",
    "from sklearn.ensemble import RandomForestClassifier\n",
    "#from sklearn.ensemble import GradientBoostingClassifier\n",
    "#from sklearn.ensemble import VotingClassifier\n",
    "from sklearn.metrics import accuracy_score\n",
    "from sklearn.metrics import f1_score"
   ]
  },
  {
   "cell_type": "code",
   "execution_count": 62,
   "id": "89e62566",
   "metadata": {},
   "outputs": [],
   "source": [
    "# 학습 및 테스트 결과 처리용 공통 함수\n",
    "def fit_and_test(model, train_x, train_y, test_x, test_y):\n",
    "    #print(train_x.shape, train_y.shape, test_x.shape, test_y.shape)\n",
    "    model.fit(train_x, train_y)\n",
    "    predict = model.predict(test_x)\n",
    "    accuracy = accuracy_score(test_y, predict)\n",
    "    f1 = f1_score(test_y, predict, average='micro')\n",
    "    return predict, accuracy, f1"
   ]
  },
  {
   "cell_type": "code",
   "execution_count": 63,
   "id": "ec51ad2f",
   "metadata": {},
   "outputs": [
    {
     "name": "stdout",
     "output_type": "stream",
     "text": [
      "Accuracy:  {'025': 0.6905609973285841, '050': 0.6731967943009796, '100': 0.6567230632235085, '200': 0.6193232413178985, 'all': 0.5997328584149599}\n",
      "F1 score:  {'025': 0.6905609973285841, '050': 0.6731967943009796, '100': 0.6567230632235085, '200': 0.6193232413178985, 'all': 0.5997328584149599}\n"
     ]
    }
   ],
   "source": [
    "# 다항분포 나이브 베이즈 모델\n",
    "predict_mnb = {}\n",
    "accuracy_mnb = {}\n",
    "f1_mnb = {}\n",
    "for index in dataset_index:\n",
    "    model = MultinomialNB()\n",
    "    predict_mnb[index], accuracy_mnb[index], f1_mnb[index] = fit_and_test(model, tfidf_x_train_set[index], y_train, tfidf_x_test_set[index], y_test)\n",
    "print(\"Accuracy: \", accuracy_mnb)\n",
    "print(\"F1 score: \", f1_mnb)"
   ]
  },
  {
   "cell_type": "code",
   "execution_count": 65,
   "id": "d511e301",
   "metadata": {},
   "outputs": [
    {
     "name": "stdout",
     "output_type": "stream",
     "text": [
      "Accuracy:  {'025': 0.7609082813891362, '050': 0.7707034728406055, '100': 0.7707034728406055, '200': 0.7671415850400712, 'all': 0.7649154051647373}\n",
      "F1 score:  {'025': 0.7609082813891361, '050': 0.7707034728406055, '100': 0.7707034728406055, '200': 0.7671415850400711, 'all': 0.7649154051647373}\n"
     ]
    }
   ],
   "source": [
    "# Complement Naive Bayes\n",
    "predict_cnb = {}\n",
    "accuracy_cnb = {}\n",
    "f1_cnb = {}\n",
    "for index in dataset_index:\n",
    "    model = ComplementNB()\n",
    "    predict_cnb[index], accuracy_cnb[index], f1_cnb[index] = fit_and_test(model, tfidf_x_train_set[index], y_train, tfidf_x_test_set[index], y_test)\n",
    "print(\"Accuracy: \", accuracy_cnb)\n",
    "print(\"F1 score: \", f1_cnb)"
   ]
  },
  {
   "cell_type": "code",
   "execution_count": 66,
   "id": "940d0641",
   "metadata": {},
   "outputs": [
    {
     "name": "stderr",
     "output_type": "stream",
     "text": [
      "/opt/conda/lib/python3.9/site-packages/sklearn/svm/_base.py:1199: ConvergenceWarning: Liblinear failed to converge, increase the number of iterations.\n",
      "  warnings.warn(\n",
      "/opt/conda/lib/python3.9/site-packages/sklearn/svm/_base.py:1199: ConvergenceWarning: Liblinear failed to converge, increase the number of iterations.\n",
      "  warnings.warn(\n",
      "/opt/conda/lib/python3.9/site-packages/sklearn/svm/_base.py:1199: ConvergenceWarning: Liblinear failed to converge, increase the number of iterations.\n",
      "  warnings.warn(\n",
      "/opt/conda/lib/python3.9/site-packages/sklearn/svm/_base.py:1199: ConvergenceWarning: Liblinear failed to converge, increase the number of iterations.\n",
      "  warnings.warn(\n"
     ]
    },
    {
     "name": "stdout",
     "output_type": "stream",
     "text": [
      "{'025': 0.7453250222617988, '050': 0.769813000890472, '100': 0.7778272484416741, '200': 0.7911843276936776, 'all': 0.788512911843277}\n"
     ]
    },
    {
     "name": "stderr",
     "output_type": "stream",
     "text": [
      "/opt/conda/lib/python3.9/site-packages/sklearn/svm/_base.py:1199: ConvergenceWarning: Liblinear failed to converge, increase the number of iterations.\n",
      "  warnings.warn(\n"
     ]
    }
   ],
   "source": [
    "# 선형 서포트 벡터 머신, Linear Support Vector Classification\n",
    "predict_lsvc = {}\n",
    "accuracy_lsvc = {}\n",
    "f1_lsvc = {}\n",
    "for index in dataset_index:\n",
    "    model = LinearSVC(C=1000, penalty='l1', max_iter=1000, dual=False)\n",
    "    predict_lsvc[index], accuracy_lsvc[index], f1_lsvc[index] = fit_and_test(model, tfidf_x_train_set[index], y_train, tfidf_x_test_set[index], y_test)\n",
    "print(\"Accuracy: \", accuracy_lsvc)\n",
    "print(\"F1 score: \", f1_lsvc)"
   ]
  },
  {
   "cell_type": "code",
   "execution_count": 67,
   "id": "47f7f33a",
   "metadata": {},
   "outputs": [
    {
     "name": "stderr",
     "output_type": "stream",
     "text": [
      "/opt/conda/lib/python3.9/site-packages/sklearn/svm/_base.py:284: ConvergenceWarning: Solver terminated early (max_iter=1000).  Consider pre-processing your data with StandardScaler or MinMaxScaler.\n",
      "  warnings.warn(\n",
      "/opt/conda/lib/python3.9/site-packages/sklearn/svm/_base.py:284: ConvergenceWarning: Solver terminated early (max_iter=1000).  Consider pre-processing your data with StandardScaler or MinMaxScaler.\n",
      "  warnings.warn(\n",
      "/opt/conda/lib/python3.9/site-packages/sklearn/svm/_base.py:284: ConvergenceWarning: Solver terminated early (max_iter=1000).  Consider pre-processing your data with StandardScaler or MinMaxScaler.\n",
      "  warnings.warn(\n",
      "/opt/conda/lib/python3.9/site-packages/sklearn/svm/_base.py:284: ConvergenceWarning: Solver terminated early (max_iter=1000).  Consider pre-processing your data with StandardScaler or MinMaxScaler.\n",
      "  warnings.warn(\n",
      "/opt/conda/lib/python3.9/site-packages/sklearn/svm/_base.py:284: ConvergenceWarning: Solver terminated early (max_iter=1000).  Consider pre-processing your data with StandardScaler or MinMaxScaler.\n",
      "  warnings.warn(\n"
     ]
    },
    {
     "name": "stdout",
     "output_type": "stream",
     "text": [
      "Accuracy:  {'025': 0.8094390026714159, '050': 0.8081032947462155, '100': 0.804986642920748, '200': 0.800979519145147, 'all': 0.800979519145147}\n",
      "F1 score:  {'025': 0.8094390026714159, '050': 0.8081032947462155, '100': 0.804986642920748, '200': 0.800979519145147, 'all': 0.800979519145147}\n"
     ]
    }
   ],
   "source": [
    "# 비선형 서포트 벡터 머신 - rbf kernel\n",
    "predict_rbfsvc = {}\n",
    "accuracy_rbfsvc = {}\n",
    "f1_rbfsvc = {}\n",
    "for index in dataset_index:\n",
    "    model = SVC(max_iter=1000)\n",
    "    predict_rbfsvc[index], accuracy_rbfsvc[index], f1_rbfsvc[index] = fit_and_test(model, tfidf_x_train_set[index], y_train, tfidf_x_test_set[index], y_test)\n",
    "print(\"Accuracy: \", accuracy_rbfsvc)\n",
    "print(\"F1 score: \", f1_rbfsvc)"
   ]
  },
  {
   "cell_type": "code",
   "execution_count": 68,
   "id": "e6274ba3",
   "metadata": {},
   "outputs": [
    {
     "name": "stdout",
     "output_type": "stream",
     "text": [
      "Accuracy:  {'025': 0.705253784505788, '050': 0.701246660730187, '100': 0.674087266251113, '200': 0.6714158504007124, 'all': 0.6544968833481746}\n",
      "F1 score:  {'025': 0.705253784505788, '050': 0.701246660730187, '100': 0.674087266251113, '200': 0.6714158504007124, 'all': 0.6544968833481746}\n"
     ]
    }
   ],
   "source": [
    "# 렌덤 포레스트\n",
    "predict_rforest = {}\n",
    "accuracy_rforest = {}\n",
    "f1_rforest = {}\n",
    "for index in dataset_index:\n",
    "    model = RandomForestClassifier(5, random_state=0)\n",
    "    predict_rforest[index], accuracy_rforest[index], f1_rforest[index] = fit_and_test(model, tfidf_x_train_set[index], y_train, tfidf_x_test_set[index], y_test)\n",
    "print(\"Accuracy: \", accuracy_rforest)\n",
    "print(\"F1 score: \", f1_rforest)"
   ]
  },
  {
   "cell_type": "code",
   "execution_count": 69,
   "id": "154cf82a",
   "metadata": {},
   "outputs": [
    {
     "data": {
      "image/png": "[encoded data removed]",
      "text/plain": [
       "<Figure size 1152x720 with 5 Axes>"
      ]
     },
     "metadata": {
      "needs_background": "light"
     },
     "output_type": "display_data"
    }
   ],
   "source": [
    "# 결과 비교\n",
    "\n",
    "plt.figure(figsize=(16,10))\n",
    "plt.subplot(3, 2, 1)\n",
    "plt.ylim([0.5, 1.0])\n",
    "plt.bar(list(accuracy_mnb.keys()), list(accuracy_mnb.values()), width=0.8)\n",
    "plt.title('Multinomial Naive Bayes Model')\n",
    "\n",
    "plt.subplot(3, 2, 2)\n",
    "plt.ylim([0.5, 1.0])\n",
    "plt.bar(list(accuracy_cnb.keys()), list(accuracy_cnb.values()), width=0.8)\n",
    "plt.title('Complement Naive Bayes Model')\n",
    "\n",
    "plt.subplot(3, 2, 3)\n",
    "plt.ylim([0.5, 1.0])\n",
    "plt.bar(list(accuracy_lsvc.keys()), list(accuracy_lsvc.values()), width=0.8)\n",
    "plt.title('Linear Support Vector Classification')\n",
    "\n",
    "plt.subplot(3, 2, 4)\n",
    "plt.ylim([0.5, 1.0])\n",
    "plt.bar(list(accuracy_rbfsvc.keys()), list(accuracy_rbfsvm.values()), width=0.8)\n",
    "plt.title('RBF Support Vector Classification')\n",
    "\n",
    "plt.subplot(3, 2, 5)\n",
    "plt.ylim([0.5, 1.0])\n",
    "plt.bar(list(accuracy_rforest.keys()), list(accuracy_rforest.values()), width=0.8)\n",
    "plt.title('Random Forest')\n",
    "\n",
    "plt.show()"
   ]
  },
  {
   "cell_type": "markdown",
   "id": "f72c1ef0",
   "metadata": {},
   "source": [
    "#### 분석\n",
    "- 상대적으로 서포트벡터머신 기반의 분류기가 좋은 성능을 보임\n",
    "- 서포트벡터머신 기반의 분류기를 제외한 다른 분류기에서는 단어의 수가 증가할 수록 분류기의 성능이 낮아짐.\n",
    "- 생각해볼 수 있는 원인으로 단어의 수가 증가할 수록 DTM 벡터의 크기가 커지며, 정확한 분류를 위한 데이터가 충분하지 않기 때문\n",
    "- 서포트벡터머신 기반의 분류기에서는 반복 횟수가 충분하지 않다는 경고를 출력함. -> **반복회수에 따른 성능 비교 필요함**\n",
    "- 서포트벡터머신 기반의 분류기는 학습 과정에 긴 시간이 필요함 -> **알고리즘 별로 학습 시간을 측정해서 비교 필요함**"
   ]
  },
  {
   "cell_type": "markdown",
   "id": "aa4d6e42",
   "metadata": {},
   "source": [
    "### 4. 딥러닝 기법"
   ]
  },
  {
   "cell_type": "code",
   "execution_count": 73,
   "id": "7e413a5b",
   "metadata": {},
   "outputs": [
    {
     "name": "stdout",
     "output_type": "stream",
     "text": [
      "Model: \"model\"\n",
      "_________________________________________________________________\n",
      "Layer (type)                 Output Shape              Param #   \n",
      "=================================================================\n",
      "input_1 (InputLayer)         [(None, 2430, 1)]         0         \n",
      "_________________________________________________________________\n",
      "lstm (LSTM)                  (None, 128)               66560     \n",
      "_________________________________________________________________\n",
      "dense (Dense)                (None, 64)                8256      \n",
      "_________________________________________________________________\n",
      "dropout (Dropout)            (None, 64)                0         \n",
      "_________________________________________________________________\n",
      "dense_1 (Dense)              (None, 1)                 65        \n",
      "=================================================================\n",
      "Total params: 74,881\n",
      "Trainable params: 74,881\n",
      "Non-trainable params: 0\n",
      "_________________________________________________________________\n"
     ]
    }
   ],
   "source": [
    "# 모델 구성 - LSTM - 임베딩층 없이 LSTM - Dense - Dropout - Dense 구성\n",
    "LSTM_DIM = 128\n",
    "DENSE_DIM = 64\n",
    "DROPOUT = 0.1\n",
    "\n",
    "inputs = tf.keras.Input(shape=(2430, 1))\n",
    "hidden_1 = tf.keras.layers.LSTM(LSTM_DIM)(inputs)\n",
    "hidden_2 = tf.keras.layers.Dense(DENSE_DIM, activation='relu')(hidden_1)\n",
    "hidden_3 = tf.keras.layers.Dropout(DROPOUT)(hidden_2)\n",
    "outputs = tf.keras.layers.Dense(1, activation=\"sigmoid\")(hidden_3)\n",
    "\n",
    "lstm_model = tf.keras.Model(inputs, outputs)\n",
    "\n",
    "lstm_model.summary()"
   ]
  },
  {
   "cell_type": "code",
   "execution_count": 74,
   "id": "4d57ae9e",
   "metadata": {},
   "outputs": [],
   "source": [
    "# 모델 학습 구성\n",
    "optimizer = tf.keras.optimizers.Adam(learning_rate=0.01)\n",
    "best_model_check = tf.keras.callbacks.ModelCheckpoint(filepath='news_classification_lstm.keras', monitor='loss', save_best_only=True)\n",
    "\n",
    "EPOCHS = 10\n",
    "BATCH_SIZE = 512"
   ]
  },
  {
   "cell_type": "code",
   "execution_count": 91,
   "id": "6385e28f",
   "metadata": {},
   "outputs": [
    {
     "name": "stdout",
     "output_type": "stream",
     "text": [
      "(8982, 2430)\n",
      "()\n"
     ]
    }
   ],
   "source": [
    "# 학습\n",
    "lstm_model.compile(optimizer=optimizer, loss='sparse_categorical_crossentropy', metrics=['accuracy'])\n",
    "\n",
    "print(tfidf_x_train_set['025'].shape)\n",
    "x_train = np.array(tfidf_x_train_set['025'])\n",
    "print(x_train.shape)\n",
    "\n",
    "#x_train = np.reshape(tfidf_x_train_set['025'], (8982, 2430, -1))\n",
    "\n",
    "#lstm_history = lstm_model.fit(x_train, y_train, epochs=EPOCHS, batch_size=BATCH_SIZE, callbacks=best_model_check)"
   ]
  },
  {
   "cell_type": "markdown",
   "id": "da5d86b4",
   "metadata": {},
   "source": [
    "### 회고\n",
    "- 전통적인 머신러닝 기법의 분류기의 성능 비교를 해볼 수 있는 시간이었습니다.\n",
    "- 서포트벡터머신 기반의 분류기가 상대적으로 좋은 성능을 보여줬지만, 학습에 상당한 시간이 걸리는 점이 단점임을 확인했습니다.\n",
    "- 선형 회귀나 부스팅 기법 등 확인되지 않은 다른 기법에 대한 성능 비교도 필요할 것 같습니다."
   ]
  },
  {
   "cell_type": "code",
   "execution_count": null,
   "id": "a02cc3d9",
   "metadata": {},
   "outputs": [],
   "source": []
  }
 ],
 "metadata": {
  "kernelspec": {
   "display_name": "Python 3 (ipykernel)",
   "language": "python",
   "name": "python3"
  },
  "language_info": {
   "codemirror_mode": {
    "name": "ipython",
    "version": 3
   },
   "file_extension": ".py",
   "mimetype": "text/x-python",
   "name": "python",
   "nbconvert_exporter": "python",
   "pygments_lexer": "ipython3",
   "version": "3.9.7"
  }
 },
 "nbformat": 4,
 "nbformat_minor": 5
}
