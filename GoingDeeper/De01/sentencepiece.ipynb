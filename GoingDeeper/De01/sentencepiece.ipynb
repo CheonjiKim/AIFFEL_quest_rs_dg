{
 "cells": [
  {
   "cell_type": "code",
   "execution_count": 1,
   "id": "7327387d",
   "metadata": {},
   "outputs": [],
   "source": [
    "# 필요 패키지 설치 -> 이미 설치되어 있음\n",
    "#!pip install sentencepiece"
   ]
  },
  {
   "cell_type": "code",
   "execution_count": 2,
   "id": "8b1a2030",
   "metadata": {},
   "outputs": [
    {
     "name": "stdout",
     "output_type": "stream",
     "text": [
      "2.6.0\n",
      "1.3.3\n",
      "1.21.4\n",
      "3.4.3\n",
      "0.5.2\n"
     ]
    }
   ],
   "source": [
    "# 라이브러리 불러오기\n",
    "import tensorflow as tf\n",
    "import pandas as pd\n",
    "import numpy as np\n",
    "import matplotlib as plt\n",
    "import konlpy\n",
    "import os\n",
    "\n",
    "print(tf.__version__)\n",
    "print(pd.__version__)\n",
    "print(np.__version__)\n",
    "print(plt.__version__)\n",
    "print(konlpy.__version__)"
   ]
  },
  {
   "cell_type": "code",
   "execution_count": 3,
   "id": "f37d6eff",
   "metadata": {},
   "outputs": [
    {
     "name": "stdout",
     "output_type": "stream",
     "text": [
      "korean_spm.model  ratings_test.txt   README.md\r\n",
      "korean_spm.vocab  ratings_train.txt  sentencepiece.ipynb\r\n"
     ]
    }
   ],
   "source": [
    "# 디렉토리 확인\n",
    "!ls"
   ]
  },
  {
   "cell_type": "markdown",
   "id": "b8e26eb2",
   "metadata": {},
   "source": [
    "### 1. 학습/테스트 데이터 준비"
   ]
  },
  {
   "cell_type": "code",
   "execution_count": 4,
   "id": "20b0746a",
   "metadata": {},
   "outputs": [
    {
     "name": "stdout",
     "output_type": "stream",
     "text": [
      "         id                                           document  label\n",
      "0   9976970                                아 더빙.. 진짜 짜증나네요 목소리      0\n",
      "1   3819312                  흠...포스터보고 초딩영화줄....오버연기조차 가볍지 않구나      1\n",
      "2  10265843                                  너무재밓었다그래서보는것을추천한다      0\n",
      "3   9045019                      교도소 이야기구먼 ..솔직히 재미는 없다..평점 조정      0\n",
      "4   6483659  사이몬페그의 익살스런 연기가 돋보였던 영화!스파이더맨에서 늙어보이기만 했던 커스틴 ...      1\n",
      "        id                                           document  label\n",
      "0  6270596                                                굳 ㅋ      1\n",
      "1  9274899                               GDNTOPCLASSINTHECLUB      0\n",
      "2  8544678             뭐야 이 평점들은.... 나쁘진 않지만 10점 짜리는 더더욱 아니잖아      0\n",
      "3  6825595                   지루하지는 않은데 완전 막장임... 돈주고 보기에는....      0\n",
      "4  6723715  3D만 아니었어도 별 다섯 개 줬을텐데.. 왜 3D로 나와서 제 심기를 불편하게 하죠??      0\n",
      "학습 데이터 크기: 150000\n",
      "테스트 데이터 크기: 50000\n"
     ]
    }
   ],
   "source": [
    "# 데이터 불러오기\n",
    "train_data = pd.read_csv(\"ratings_train.txt\", sep='\\t')\n",
    "test_data = pd.read_csv(\"ratings_test.txt\", sep='\\t')\n",
    "print(train_data.head())\n",
    "print(test_data.head())\n",
    "print(f'학습 데이터 크기: {len(train_data)}')\n",
    "print(f'테스트 데이터 크기: {len(test_data)}')"
   ]
  },
  {
   "cell_type": "code",
   "execution_count": 5,
   "id": "6ea49d4f",
   "metadata": {},
   "outputs": [
    {
     "name": "stdout",
     "output_type": "stream",
     "text": [
      "에러 제거 후 학습 데이터 크기: 149995\n",
      "에러 제거 후 테스트 데이터 크기: 49997\n"
     ]
    }
   ],
   "source": [
    "# 문자열이 아닌 경우 제거\n",
    "train_data = train_data.dropna()\n",
    "test_data = test_data.dropna()\n",
    "print(f'에러 제거 후 학습 데이터 크기: {len(train_data)}')\n",
    "print(f'에러 제거 후 테스트 데이터 크기: {len(test_data)}')"
   ]
  },
  {
   "cell_type": "code",
   "execution_count": 6,
   "id": "3d6b0fe8",
   "metadata": {},
   "outputs": [
    {
     "name": "stdout",
     "output_type": "stream",
     "text": [
      "중복 제거 후 학습 데이터 크기: 146182\n",
      "중복 제거 후 테스트 데이터 크기: 49157\n"
     ]
    }
   ],
   "source": [
    "# 중복 제거\n",
    "train_data = train_data.drop_duplicates(subset='document')\n",
    "test_data = test_data.drop_duplicates(subset='document')\n",
    "print(f'중복 제거 후 학습 데이터 크기: {len(train_data)}')\n",
    "print(f'중복 제거 후 테스트 데이터 크기: {len(test_data)}')"
   ]
  },
  {
   "cell_type": "markdown",
   "id": "5d2969b3",
   "metadata": {},
   "source": [
    "### 2. SentencePiece 학습"
   ]
  },
  {
   "cell_type": "code",
   "execution_count": 15,
   "id": "148c0c21",
   "metadata": {},
   "outputs": [
    {
     "name": "stderr",
     "output_type": "stream",
     "text": [
      "Matplotlib is building the font cache; this may take a moment.\n"
     ]
    }
   ],
   "source": [
    "import sentencepiece as spm\n",
    "import matplotlib.pyplot as plt"
   ]
  },
  {
   "cell_type": "code",
   "execution_count": 16,
   "id": "f13d882b",
   "metadata": {},
   "outputs": [
    {
     "name": "stdout",
     "output_type": "stream",
     "text": [
      "학습용 데이터의 문장(줄) 수: 94123\n"
     ]
    }
   ],
   "source": [
    "# 학습용 파일 읽어오기\n",
    "train_file_path = os.getenv('HOME')+'/aiffel/sp_tokenizer/data/korean-english-park.train.ko'\n",
    "\n",
    "with open(train_file_path, \"r\") as f:\n",
    "    raw = f.read().splitlines()\n",
    "\n",
    "print(f'학습용 데이터의 문장(줄) 수: {len(raw)}')"
   ]
  },
  {
   "cell_type": "code",
   "execution_count": 17,
   "id": "d09d858b",
   "metadata": {},
   "outputs": [
    {
     "name": "stdout",
     "output_type": "stream",
     "text": [
      "중복 제거된 문장(줄) 수: 77591\n"
     ]
    }
   ],
   "source": [
    "# 중복 제거\n",
    "raw = list(set(raw))\n",
    "\n",
    "print(f'중복 제거된 문장(줄) 수: {len(raw)}')"
   ]
  },
  {
   "cell_type": "code",
   "execution_count": 18,
   "id": "30e9d3f8",
   "metadata": {},
   "outputs": [
    {
     "name": "stdout",
     "output_type": "stream",
     "text": [
      "Example:\n",
      ">> 오마바 의원의 아버지는 1982년 케냐 나이로비에서 교통사고로 사망했다.\n",
      ">> 한편 문제의 사진은 자동차 안에서 촬영됐으며 사진의 배경이 된 모로코 여성은 여자 아이를 등에 업고 도로를 따라 이동한 것으로 알려졌다.\n",
      ">> 어빙은 “많은 사람들이 휴대폰, 아이팟, 무선 컴퓨터를 사용하면서 자신들만의 작은 세상에 갇혀있다”며 “그들은 사회에 존재하지 않는 부류의 사람”이라고 지적했다.\n",
      ">> 현재 폐경 이후 여성들 사이 에서 심장질환에 의한 사망률이 빠르게 증가하고 있다.\n",
      ">> 하우저는 “이제 무언가 자리가 잡히는 느낌이었는데 파업이라는 변수를 만났다”며 “사태가 30일~45일안에 해결되길 바란다”고 덧붙였다.\n"
     ]
    }
   ],
   "source": [
    "# 예제 확인\n",
    "print(\"Example:\")\n",
    "for sentence in raw[0:100][::20]:\n",
    "    print(\">>\", sentence)"
   ]
  },
  {
   "cell_type": "code",
   "execution_count": 19,
   "id": "9570d9a5",
   "metadata": {},
   "outputs": [
    {
     "name": "stdout",
     "output_type": "stream",
     "text": [
      "문장의 최단 길이: 1\n",
      "문장의 최장 길이: 377\n",
      "문장의 평균 길이: 64\n"
     ]
    }
   ],
   "source": [
    "# 문장 길이 관련 통계 정보\n",
    "min_len = 9999\n",
    "max_len = 0\n",
    "sum_len = 0\n",
    "\n",
    "for sentence in raw:\n",
    "    length = len(sentence)\n",
    "    if min_len > length:\n",
    "        min_len = length\n",
    "    if max_len < length:\n",
    "        max_len = length\n",
    "    sum_len += length\n",
    "\n",
    "print(f\"문장의 최단 길이: {min_len}\")\n",
    "print(f\"문장의 최장 길이: {max_len}\")\n",
    "print(f\"문장의 평균 길이: {sum_len // len(raw)}\")"
   ]
  },
  {
   "cell_type": "code",
   "execution_count": 20,
   "id": "a5e21182",
   "metadata": {},
   "outputs": [],
   "source": [
    "# 특정 길이를 갖는 문장을 출력 (최대 10개)\n",
    "def check_sentence_with_length(raw, length):\n",
    "    count = 0\n",
    "\n",
    "    for sentence in raw:\n",
    "        if len(sentence) == length:\n",
    "            count += 1\n",
    "            if count < 10:\n",
    "                print(sentence)\n",
    "    print(f\"길이가 {length}인 문장의 수: {count}\")"
   ]
  },
  {
   "cell_type": "code",
   "execution_count": 21,
   "id": "48c23080",
   "metadata": {},
   "outputs": [
    {
     "name": "stdout",
     "output_type": "stream",
     "text": [
      "2.\n",
      "1.\n",
      "음식\n",
      "..\n",
      "과일\n",
      "면접\n",
      "햇빛\n",
      "3.\n",
      "4.\n",
      "길이가 2인 문장의 수: 12\n"
     ]
    }
   ],
   "source": [
    "check_sentence_with_length(raw, 2)"
   ]
  },
  {
   "cell_type": "code",
   "execution_count": 23,
   "id": "96c3d268",
   "metadata": {},
   "outputs": [
    {
     "data": {
      "image/png": "[encoded data removed]",
      "text/plain": [
       "<Figure size 1008x360 with 1 Axes>"
      ]
     },
     "metadata": {
      "needs_background": "light"
     },
     "output_type": "display_data"
    }
   ],
   "source": [
    "# 문장 길이별 분포도\n",
    "sentence_length = np.zeros((max_len), dtype=int)\n",
    "\n",
    "for sentence in raw:\n",
    "    sentence_length[len(sentence) - 1] += 1\n",
    "\n",
    "plt.figure(figsize=(14,5))\n",
    "plt.bar(range(max_len), sentence_length, width=1.0)\n",
    "plt.title(\"Sentence Length Distribution\")\n",
    "plt.show()"
   ]
  },
  {
   "cell_type": "code",
   "execution_count": 24,
   "id": "083b8d4d",
   "metadata": {},
   "outputs": [],
   "source": [
    "# 길이 조건에 맞는 문장만 선택\n",
    "max_len = 150\n",
    "min_len = 10\n",
    "\n",
    "filtered_corpus = [s for s in raw if (len(s) < max_len) & (len(s) >= min_len)]"
   ]
  },
  {
   "cell_type": "code",
   "execution_count": 26,
   "id": "562eb555",
   "metadata": {},
   "outputs": [
    {
     "data": {
      "image/png": "[encoded data removed]",
      "text/plain": [
       "<Figure size 1008x360 with 1 Axes>"
      ]
     },
     "metadata": {
      "needs_background": "light"
     },
     "output_type": "display_data"
    }
   ],
   "source": [
    "# 문장 길이별 분포도\n",
    "sentence_length = np.zeros((max_len), dtype=int)\n",
    "\n",
    "for sentence in filtered_corpus:\n",
    "    sentence_length[len(sentence) - 1] += 1\n",
    "\n",
    "plt.figure(figsize=(14,5))\n",
    "plt.bar(range(max_len), sentence_length, width=1.0)\n",
    "plt.title(\"Sentence Length Distribution\")\n",
    "plt.show()"
   ]
  },
  {
   "cell_type": "code",
   "execution_count": 27,
   "id": "0bce383e",
   "metadata": {},
   "outputs": [],
   "source": [
    "# 정제된 corpus를 임시 파일로 저장\n",
    "temp_file = os.getenv('HOME')+'/aiffel/sp_tokenizer/data/korean-english-park.train.ko.temp'\n",
    "\n",
    "with open(temp_file, 'w') as f:\n",
    "    for row in filtered_corpus:\n",
    "        f.write(str(row) + '\\n')"
   ]
  },
  {
   "cell_type": "code",
   "execution_count": 28,
   "id": "320ae594",
   "metadata": {},
   "outputs": [
    {
     "name": "stderr",
     "output_type": "stream",
     "text": [
      "sentencepiece_trainer.cc(177) LOG(INFO) Running command: --input=/aiffel/aiffel/sp_tokenizer/data/korean-english-park.train.ko.temp --model_prefix=korean_spm --vocab_size=8000\n",
      "sentencepiece_trainer.cc(77) LOG(INFO) Starts training with : \n",
      "trainer_spec {\n",
      "  input: /aiffel/aiffel/sp_tokenizer/data/korean-english-park.train.ko.temp\n",
      "  input_format: \n",
      "  model_prefix: korean_spm\n",
      "  model_type: UNIGRAM\n",
      "  vocab_size: 8000\n",
      "  self_test_sample_size: 0\n",
      "  character_coverage: 0.9995\n",
      "  input_sentence_size: 0\n",
      "  shuffle_input_sentence: 1\n",
      "  seed_sentencepiece_size: 1000000\n",
      "  shrinking_factor: 0.75\n",
      "  max_sentence_length: 4192\n",
      "  num_threads: 16\n",
      "  num_sub_iterations: 2\n",
      "  max_sentencepiece_length: 16\n",
      "  split_by_unicode_script: 1\n",
      "  split_by_number: 1\n",
      "  split_by_whitespace: 1\n",
      "  split_digits: 0\n",
      "  treat_whitespace_as_suffix: 0\n",
      "  allow_whitespace_only_pieces: 0\n",
      "  required_chars: \n",
      "  byte_fallback: 0\n",
      "  vocabulary_output_piece_score: 1\n",
      "  train_extremely_large_corpus: 0\n",
      "  hard_vocab_limit: 1\n",
      "  use_all_vocab: 0\n",
      "  unk_id: 0\n",
      "  bos_id: 1\n",
      "  eos_id: 2\n",
      "  pad_id: -1\n",
      "  unk_piece: <unk>\n",
      "  bos_piece: <s>\n",
      "  eos_piece: </s>\n",
      "  pad_piece: <pad>\n",
      "  unk_surface:  ⁇ \n",
      "}\n",
      "normalizer_spec {\n",
      "  name: nmt_nfkc\n",
      "  add_dummy_prefix: 1\n",
      "  remove_extra_whitespaces: 1\n",
      "  escape_whitespaces: 1\n",
      "  normalization_rule_tsv: \n",
      "}\n",
      "denormalizer_spec {}\n",
      "trainer_interface.cc(329) LOG(INFO) SentenceIterator is not specified. Using MultiFileSentenceIterator.\n",
      "trainer_interface.cc(178) LOG(INFO) Loading corpus: /aiffel/aiffel/sp_tokenizer/data/korean-english-park.train.ko.temp\n",
      "trainer_interface.cc(385) LOG(INFO) Loaded all 76908 sentences\n",
      "trainer_interface.cc(400) LOG(INFO) Adding meta_piece: <unk>\n",
      "trainer_interface.cc(400) LOG(INFO) Adding meta_piece: <s>\n",
      "trainer_interface.cc(400) LOG(INFO) Adding meta_piece: </s>\n",
      "trainer_interface.cc(405) LOG(INFO) Normalizing sentences...\n",
      "trainer_interface.cc(466) LOG(INFO) all chars count=4996369\n",
      "trainer_interface.cc(477) LOG(INFO) Done: 99.95% characters are covered.\n",
      "trainer_interface.cc(487) LOG(INFO) Alphabet size=1317\n",
      "trainer_interface.cc(488) LOG(INFO) Final character coverage=0.9995\n",
      "trainer_interface.cc(520) LOG(INFO) Done! preprocessed 76908 sentences.\n",
      "unigram_model_trainer.cc(139) LOG(INFO) Making suffix array...\n",
      "unigram_model_trainer.cc(143) LOG(INFO) Extracting frequent sub strings...\n",
      "unigram_model_trainer.cc(194) LOG(INFO) Initialized 174340 seed sentencepieces\n",
      "trainer_interface.cc(526) LOG(INFO) Tokenizing input sentences with whitespace: 76908\n",
      "trainer_interface.cc(537) LOG(INFO) Done! 237965\n",
      "unigram_model_trainer.cc(489) LOG(INFO) Using 237965 sentences for EM training\n",
      "unigram_model_trainer.cc(505) LOG(INFO) EM sub_iter=0 size=92555 obj=14.853 num_tokens=523272 num_tokens/piece=5.65363\n",
      "unigram_model_trainer.cc(505) LOG(INFO) EM sub_iter=1 size=82083 obj=13.516 num_tokens=525776 num_tokens/piece=6.40542\n",
      "unigram_model_trainer.cc(505) LOG(INFO) EM sub_iter=0 size=61555 obj=13.5533 num_tokens=546907 num_tokens/piece=8.88485\n",
      "unigram_model_trainer.cc(505) LOG(INFO) EM sub_iter=1 size=61506 obj=13.5101 num_tokens=547350 num_tokens/piece=8.89913\n",
      "unigram_model_trainer.cc(505) LOG(INFO) EM sub_iter=0 size=46126 obj=13.6926 num_tokens=575369 num_tokens/piece=12.4739\n",
      "unigram_model_trainer.cc(505) LOG(INFO) EM sub_iter=1 size=46126 obj=13.6493 num_tokens=575466 num_tokens/piece=12.476\n",
      "unigram_model_trainer.cc(505) LOG(INFO) EM sub_iter=0 size=34594 obj=13.8894 num_tokens=606014 num_tokens/piece=17.5179\n",
      "unigram_model_trainer.cc(505) LOG(INFO) EM sub_iter=1 size=34594 obj=13.8387 num_tokens=606012 num_tokens/piece=17.5178\n",
      "unigram_model_trainer.cc(505) LOG(INFO) EM sub_iter=0 size=25945 obj=14.1301 num_tokens=637532 num_tokens/piece=24.5724\n",
      "unigram_model_trainer.cc(505) LOG(INFO) EM sub_iter=1 size=25945 obj=14.0747 num_tokens=637568 num_tokens/piece=24.5738\n",
      "unigram_model_trainer.cc(505) LOG(INFO) EM sub_iter=0 size=19458 obj=14.4091 num_tokens=670960 num_tokens/piece=34.4825\n",
      "unigram_model_trainer.cc(505) LOG(INFO) EM sub_iter=1 size=19458 obj=14.3468 num_tokens=670999 num_tokens/piece=34.4845\n",
      "unigram_model_trainer.cc(505) LOG(INFO) EM sub_iter=0 size=14593 obj=14.7196 num_tokens=705636 num_tokens/piece=48.3544\n",
      "unigram_model_trainer.cc(505) LOG(INFO) EM sub_iter=1 size=14593 obj=14.648 num_tokens=705645 num_tokens/piece=48.355\n",
      "unigram_model_trainer.cc(505) LOG(INFO) EM sub_iter=0 size=10944 obj=15.0875 num_tokens=741620 num_tokens/piece=67.765\n",
      "unigram_model_trainer.cc(505) LOG(INFO) EM sub_iter=1 size=10944 obj=15.007 num_tokens=741624 num_tokens/piece=67.7654\n",
      "unigram_model_trainer.cc(505) LOG(INFO) EM sub_iter=0 size=8800 obj=15.3757 num_tokens=769363 num_tokens/piece=87.4276\n",
      "unigram_model_trainer.cc(505) LOG(INFO) EM sub_iter=1 size=8800 obj=15.307 num_tokens=769367 num_tokens/piece=87.4281\n",
      "trainer_interface.cc(615) LOG(INFO) Saving model: korean_spm.model\n",
      "trainer_interface.cc(626) LOG(INFO) Saving vocabs: korean_spm.vocab\n"
     ]
    }
   ],
   "source": [
    "# SentencePiece 학습\n",
    "VOCAB_SIZE = 8000\n",
    "\n",
    "spm.SentencePieceTrainer.Train('--input={} --model_prefix=korean_spm --vocab_size={}'.format(temp_file, VOCAB_SIZE))\n",
    "#위 Train에서  --model_type = unigram이 디폴트 적용되어 있습니다. --model_type = bpe로 옵션을 주어 변경할 수 있습니다."
   ]
  },
  {
   "cell_type": "code",
   "execution_count": 29,
   "id": "873c1786",
   "metadata": {},
   "outputs": [
    {
     "name": "stdout",
     "output_type": "stream",
     "text": [
      "-rw-r--r-- 1 root root 376816 Feb 25 05:24 korean_spm.model\r\n",
      "-rw-r--r-- 1 root root 146213 Feb 25 05:24 korean_spm.vocab\r\n"
     ]
    }
   ],
   "source": [
    "# 결과 확인\n",
    "!ls -l korean_spm*"
   ]
  },
  {
   "cell_type": "code",
   "execution_count": 30,
   "id": "d92b67c9",
   "metadata": {},
   "outputs": [
    {
     "name": "stdout",
     "output_type": "stream",
     "text": [
      "[1243, 11, 302, 7, 3608, 11, 287, 38, 3]\n",
      "['▁아버지', '가', '방', '에', '들어', '가', '신', '다', '.']\n",
      "아버지가방에들어가신다.\n"
     ]
    }
   ],
   "source": [
    "# 토크나이저 테스트\n",
    "tokenizer = spm.SentencePieceProcessor()\n",
    "tokenizer.Load('korean_spm.model')\n",
    "\n",
    "# 문장 인코딩\n",
    "tokensIDs = tokenizer.EncodeAsIds('아버지가방에들어가신다.')\n",
    "print(tokensIDs)\n",
    "\n",
    "# 문장 토크화 결과\n",
    "print(tokenizer.SampleEncodeAsPieces('아버지가방에들어가신다.',1, 0.0))\n",
    "\n",
    "# 문장 복원\n",
    "print(tokenizer.DecodeIds(tokensIDs))"
   ]
  },
  {
   "cell_type": "markdown",
   "id": "55e28ec9",
   "metadata": {},
   "source": [
    "### 3. 모델 학습용 데이터 준비"
   ]
  },
  {
   "cell_type": "code",
   "execution_count": 40,
   "id": "47de83fc",
   "metadata": {},
   "outputs": [],
   "source": [
    "# 문장 리스트에 대해 토큰화\n",
    "def sp_tokenize(tokenizer, corpus): \n",
    "    tensor = []\n",
    "\n",
    "    for sentence in corpus:\n",
    "        try:\n",
    "            tensor.append(tokenizer.EncodeAsIds(sentence))\n",
    "        except:\n",
    "            print(sentence)\n",
    "\n",
    "    with open(\"./korean_spm.vocab\", 'r') as f:\n",
    "        vocab = f.readlines()\n",
    "\n",
    "    word_index = {}\n",
    "    index_word = {}\n",
    "\n",
    "    for idx, line in enumerate(vocab):\n",
    "        word = line.split(\"\\t\")[0]\n",
    "\n",
    "        word_index.update({word:idx})\n",
    "        index_word.update({idx:word})\n",
    "\n",
    "    tensor = tf.keras.preprocessing.sequence.pad_sequences(tensor, padding='pre')\n",
    "\n",
    "    return tensor, word_index, index_word"
   ]
  },
  {
   "cell_type": "code",
   "execution_count": 41,
   "id": "2f943363",
   "metadata": {},
   "outputs": [],
   "source": [
    "# 학습/테스트 데이터 토큰화\n",
    "train_x, word_index_train, index_word_train = sp_tokenize(tokenizer, train_data['document'])\n",
    "test_x, word_index_test, index_word_test = sp_tokenize(tokenizer, test_data['document'])"
   ]
  },
  {
   "cell_type": "code",
   "execution_count": 42,
   "id": "b154e433",
   "metadata": {},
   "outputs": [
    {
     "name": "stdout",
     "output_type": "stream",
     "text": [
      "(146182, 140) 8000 8000\n",
      "(49157, 140) 8000 8000\n"
     ]
    }
   ],
   "source": [
    "print(train_x.shape, len(word_index_train), len(index_word_train))\n",
    "print(test_x.shape, len(word_index_test), len(index_word_test))"
   ]
  },
  {
   "cell_type": "code",
   "execution_count": 43,
   "id": "30480f09",
   "metadata": {},
   "outputs": [],
   "source": [
    "# 학습/테스트 데이터 레이블\n",
    "train_y = train_data['label']\n",
    "test_y = test_data['label']\n",
    "\n",
    "train_y = np.array(train_y)\n",
    "test_y = np.array(test_y)"
   ]
  },
  {
   "cell_type": "code",
   "execution_count": 44,
   "id": "f253385b",
   "metadata": {},
   "outputs": [
    {
     "name": "stdout",
     "output_type": "stream",
     "text": [
      "(116182, 140) (116182,) (30000, 140) (30000,)\n"
     ]
    }
   ],
   "source": [
    "# 데이터셋 분리\n",
    "validation_size = 30000\n",
    "validation_x = train_x[:validation_size]\n",
    "validation_y = train_y[:validation_size]\n",
    "\n",
    "# Train Set 조정\n",
    "partial_train_x = train_x[validation_size:]  \n",
    "partial_train_y = train_y[validation_size:]\n",
    "\n",
    "print(partial_train_x.shape, partial_train_y.shape, validation_x.shape, validation_y.shape)"
   ]
  },
  {
   "cell_type": "markdown",
   "id": "058474fb",
   "metadata": {},
   "source": [
    "### 4. 딥러닝 모델"
   ]
  },
  {
   "cell_type": "code",
   "execution_count": 62,
   "id": "41e07440",
   "metadata": {},
   "outputs": [
    {
     "name": "stdout",
     "output_type": "stream",
     "text": [
      "Model: \"sequential_4\"\n",
      "_________________________________________________________________\n",
      "Layer (type)                 Output Shape              Param #   \n",
      "=================================================================\n",
      "embedding_4 (Embedding)      (None, None, 256)         2048000   \n",
      "_________________________________________________________________\n",
      "lstm_4 (LSTM)                (None, 128)               197120    \n",
      "_________________________________________________________________\n",
      "dense_5 (Dense)              (None, 64)                8256      \n",
      "_________________________________________________________________\n",
      "dropout_1 (Dropout)          (None, 64)                0         \n",
      "_________________________________________________________________\n",
      "dense_6 (Dense)              (None, 1)                 65        \n",
      "=================================================================\n",
      "Total params: 2,253,441\n",
      "Trainable params: 2,253,441\n",
      "Non-trainable params: 0\n",
      "_________________________________________________________________\n"
     ]
    }
   ],
   "source": [
    "# 모델 구성 - LSTM\n",
    "EMBEDDING_DIM = 256\n",
    "LSTM_DIM = 128\n",
    "DENSE_DIM = 64\n",
    "DROPOUT = 0.1\n",
    "\n",
    "lstm_model = tf.keras.Sequential()\n",
    "lstm_model.add(tf.keras.layers.Embedding(vocab_size, EMBEDDING_DIM, input_shape=(None,)))\n",
    "lstm_model.add(tf.keras.layers.LSTM(LSTM_DIM))\n",
    "lstm_model.add(tf.keras.layers.Dense(DENSE_DIM, activation='relu'))\n",
    "lstm_model.add(tf.keras.layers.Dropout(DROPOUT))\n",
    "lstm_model.add(tf.keras.layers.Dense(1, activation='sigmoid'))\n",
    "\n",
    "lstm_model.summary()"
   ]
  },
  {
   "cell_type": "code",
   "execution_count": 63,
   "id": "7aee5c54",
   "metadata": {},
   "outputs": [],
   "source": [
    "# 모델 학습 구성\n",
    "optimizer = tf.keras.optimizers.Adam(learning_rate=0.01)\n",
    "best_model_check = tf.keras.callbacks.ModelCheckpoint(filepath='nsmc_lstm.keras', monitor='val_loss', save_best_only=True)\n",
    "\n",
    "EPOCHS = 10\n",
    "BATCH_SIZE = 512"
   ]
  },
  {
   "cell_type": "code",
   "execution_count": 64,
   "id": "492e6039",
   "metadata": {},
   "outputs": [
    {
     "name": "stdout",
     "output_type": "stream",
     "text": [
      "Epoch 1/10\n",
      "227/227 [==============================] - 11s 41ms/step - loss: 0.4207 - accuracy: 0.8071 - val_loss: 0.3536 - val_accuracy: 0.8417\n",
      "Epoch 2/10\n",
      "227/227 [==============================] - 9s 38ms/step - loss: 0.3289 - accuracy: 0.8575 - val_loss: 0.3453 - val_accuracy: 0.8451\n",
      "Epoch 3/10\n",
      "227/227 [==============================] - 9s 38ms/step - loss: 0.2897 - accuracy: 0.8776 - val_loss: 0.3469 - val_accuracy: 0.8488\n",
      "Epoch 4/10\n",
      "227/227 [==============================] - 9s 39ms/step - loss: 0.2603 - accuracy: 0.8922 - val_loss: 0.3508 - val_accuracy: 0.8486\n",
      "Epoch 5/10\n",
      "227/227 [==============================] - 9s 39ms/step - loss: 0.2397 - accuracy: 0.9026 - val_loss: 0.3681 - val_accuracy: 0.8468\n",
      "Epoch 6/10\n",
      "227/227 [==============================] - 9s 39ms/step - loss: 0.2286 - accuracy: 0.9077 - val_loss: 0.3654 - val_accuracy: 0.8466\n",
      "Epoch 7/10\n",
      "227/227 [==============================] - 9s 40ms/step - loss: 0.2205 - accuracy: 0.9105 - val_loss: 0.3891 - val_accuracy: 0.8454\n",
      "Epoch 8/10\n",
      "227/227 [==============================] - 9s 40ms/step - loss: 0.2214 - accuracy: 0.9112 - val_loss: 0.4146 - val_accuracy: 0.8424\n",
      "Epoch 9/10\n",
      "227/227 [==============================] - 9s 40ms/step - loss: 0.2152 - accuracy: 0.9137 - val_loss: 0.3827 - val_accuracy: 0.8402\n",
      "Epoch 10/10\n",
      "227/227 [==============================] - 9s 41ms/step - loss: 0.2117 - accuracy: 0.9154 - val_loss: 0.3760 - val_accuracy: 0.8406\n"
     ]
    }
   ],
   "source": [
    "# 학습\n",
    "lstm_model.compile(optimizer=optimizer, loss='binary_crossentropy', metrics=['accuracy'])\n",
    "\n",
    "lstm_history = lstm_model.fit(partial_train_x, partial_train_y, epochs=EPOCHS, batch_size=BATCH_SIZE, validation_data=(validation_x, validation_y), callbacks=best_model_check)"
   ]
  },
  {
   "cell_type": "code",
   "execution_count": 65,
   "id": "dde96123",
   "metadata": {},
   "outputs": [
    {
     "data": {
      "image/png": "[encoded data removed]",
      "text/plain": [
       "<Figure size 1152x432 with 2 Axes>"
      ]
     },
     "metadata": {
      "needs_background": "light"
     },
     "output_type": "display_data"
    }
   ],
   "source": [
    "# 시각화\n",
    "import matplotlib.pyplot as plt\n",
    "\n",
    "acc = lstm_history.history['accuracy']\n",
    "val_acc = lstm_history.history['val_accuracy']\n",
    "loss = lstm_history.history['loss']\n",
    "val_loss = lstm_history.history['val_loss']\n",
    "\n",
    "epochs = range(1, len(acc) + 1)\n",
    "\n",
    "plt.figure(figsize=(16,6))\n",
    "plt.subplot(1,2,1)\n",
    "plt.plot(epochs, loss, 'bo', label='Training Loss')\n",
    "plt.plot(epochs, val_loss, 'b', label='Validation Loss')\n",
    "plt.title('Training and Validation Loss')\n",
    "plt.xlabel('Epochs')\n",
    "plt.ylabel('Loss')\n",
    "plt.legend()\n",
    "\n",
    "plt.subplot(1,2,2)\n",
    "plt.plot(epochs, acc, 'bo', label='Training Accuracy')\n",
    "plt.plot(epochs, val_acc, 'b', label='Validation Accuracy')\n",
    "plt.title('Training and Validation Accuracy')\n",
    "plt.xlabel('Epochs')\n",
    "plt.ylabel('Loss')\n",
    "plt.legend()\n",
    "\n",
    "plt.show()"
   ]
  },
  {
   "cell_type": "code",
   "execution_count": 68,
   "id": "fb6af17e",
   "metadata": {},
   "outputs": [
    {
     "name": "stdout",
     "output_type": "stream",
     "text": [
      "1537/1537 [==============================] - 6s 4ms/step - loss: 0.3511 - accuracy: 0.8439\n",
      "Loss: 0.3511, Accuracy: 0.8439\n"
     ]
    }
   ],
   "source": [
    "# 테스트 데이터를 이용한 평가\n",
    "best_model = tf.keras.models.load_model(\"nsmc_lstm.keras\")\n",
    "loss, accuracy = best_model.evaluate(test_x, test_y)\n",
    "print(f'Loss: {loss:.6f}, Accuracy: {accuracy:.6f}')"
   ]
  },
  {
   "cell_type": "code",
   "execution_count": null,
   "id": "815274c3",
   "metadata": {},
   "outputs": [],
   "source": []
  },
  {
   "cell_type": "code",
   "execution_count": null,
   "id": "e9825fae",
   "metadata": {},
   "outputs": [],
   "source": []
  },
  {
   "cell_type": "code",
   "execution_count": null,
   "id": "46009503",
   "metadata": {},
   "outputs": [],
   "source": []
  },
  {
   "cell_type": "code",
   "execution_count": null,
   "id": "544b6902",
   "metadata": {},
   "outputs": [],
   "source": []
  },
  {
   "cell_type": "code",
   "execution_count": null,
   "id": "355947ea",
   "metadata": {},
   "outputs": [],
   "source": []
  },
  {
   "cell_type": "code",
   "execution_count": null,
   "id": "5ecd054b",
   "metadata": {},
   "outputs": [],
   "source": []
  },
  {
   "cell_type": "code",
   "execution_count": null,
   "id": "58bc5f51",
   "metadata": {},
   "outputs": [],
   "source": []
  },
  {
   "cell_type": "code",
   "execution_count": null,
   "id": "9c921c48",
   "metadata": {},
   "outputs": [],
   "source": []
  },
  {
   "cell_type": "code",
   "execution_count": null,
   "id": "419aaf26",
   "metadata": {},
   "outputs": [],
   "source": []
  },
  {
   "cell_type": "code",
   "execution_count": null,
   "id": "c14982d6",
   "metadata": {},
   "outputs": [],
   "source": []
  },
  {
   "cell_type": "code",
   "execution_count": null,
   "id": "6a2ffb17",
   "metadata": {},
   "outputs": [],
   "source": []
  },
  {
   "cell_type": "code",
   "execution_count": null,
   "id": "86a6737f",
   "metadata": {},
   "outputs": [],
   "source": []
  },
  {
   "cell_type": "code",
   "execution_count": null,
   "id": "7cebce17",
   "metadata": {},
   "outputs": [],
   "source": []
  }
 ],
 "metadata": {
  "kernelspec": {
   "display_name": "Python 3 (ipykernel)",
   "language": "python",
   "name": "python3"
  },
  "language_info": {
   "codemirror_mode": {
    "name": "ipython",
    "version": 3
   },
   "file_extension": ".py",
   "mimetype": "text/x-python",
   "name": "python",
   "nbconvert_exporter": "python",
   "pygments_lexer": "ipython3",
   "version": "3.9.7"
  }
 },
 "nbformat": 4,
 "nbformat_minor": 5
}
