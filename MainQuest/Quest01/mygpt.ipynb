{
 "cells": [
  {
   "cell_type": "markdown",
   "id": "d3f30b09",
   "metadata": {},
   "source": [
    "## MainQuest 01, MyGPT\n",
    "\n",
    "### 1. 데이터 전처리\n",
    "\n",
    "- 질문 데이터와 답변 데이터를 모두 학습용 데이터(디코더의 입력 데이터)로 사용\n",
    "- 문장부호, 숫자, 알파벳 단어, 한글 단어 단위로 토큰화\n",
    "- SubwordTextEncoder 기반 토크나이저 대신, 공백을 기준으로 토큰을 생성 (한글 단어잘림 문제 방지)\n",
    "\n",
    "### 2. 모델 구성\n",
    "\n",
    "###### 트랜스포머와 다른 점\n",
    "- 인코더 레이어(encoder_layer)와 인코더(encoder) 완전 삭제\n",
    "- 디코더 레이어(decoder_layer)와 디코더(decoder) 새롭게 구성\n",
    "- GPT의 디코더 레이어는 MHA(Multi-head Attention) - LN(LayerNormalization) - Dense - LN 구성임\n",
    "- 트랜스포머의 디코더 레이어는 MHA - LN - MHA - Dropout - LN 구성\n",
    "- 트랜스포머의 디코더 레이어에 있는 Multi-head Attention 계층 통과후 Dropout 레이어, Dense 레이어 구성이 GPT에서는 삭제 (논문에 설명 없음)\n",
    "\n",
    "###### 논문 구성과 다른 점\n",
    "- GPT의 디코더의 출력은 Text Prediction을 위한 Dense 레이어와 Task Classification을 위한 Dense 레이어로 구성\n",
    "- 구현된 모델에서는 Task Classification을 위한 Dense 레이어는 없음 (pre-train part만 구현)\n",
    "- 하이퍼파라미터 구성은 논문과 다름 (입력 차원 수, 어텐션 헤드 수, 러닝 레이트 스케줄러 등)\n",
    "\n",
    "### 3. 학습 및 테스트, 하이퍼파라미터\n",
    "\n",
    "- 빠른 학습을 위해 데이터셋을 1000개만 가지고 옴\n",
    "- 하이퍼파라미터 구성 중 UNIT(내부 dense 레이어의 unit 수), DROPOUT (드랍아웃 비율)은 사용되지 않음 (관련 레이어 삭제됨)"
   ]
  },
  {
   "cell_type": "markdown",
   "id": "4092a601",
   "metadata": {},
   "source": [
    "### 1. 데이터 전처리"
   ]
  },
  {
   "cell_type": "code",
   "execution_count": 203,
   "id": "8e886a5f",
   "metadata": {},
   "outputs": [],
   "source": [
    "import tensorflow as tf\n",
    "import pandas as pd\n",
    "import re"
   ]
  },
  {
   "cell_type": "code",
   "execution_count": 204,
   "id": "5bae527e",
   "metadata": {},
   "outputs": [
    {
     "data": {
      "text/html": [
       "<div>\n",
       "<style scoped>\n",
       "    .dataframe tbody tr th:only-of-type {\n",
       "        vertical-align: middle;\n",
       "    }\n",
       "\n",
       "    .dataframe tbody tr th {\n",
       "        vertical-align: top;\n",
       "    }\n",
       "\n",
       "    .dataframe thead th {\n",
       "        text-align: right;\n",
       "    }\n",
       "</style>\n",
       "<table border=\"1\" class=\"dataframe\">\n",
       "  <thead>\n",
       "    <tr style=\"text-align: right;\">\n",
       "      <th></th>\n",
       "      <th>Q</th>\n",
       "      <th>A</th>\n",
       "      <th>label</th>\n",
       "    </tr>\n",
       "  </thead>\n",
       "  <tbody>\n",
       "    <tr>\n",
       "      <th>0</th>\n",
       "      <td>12시 땡!</td>\n",
       "      <td>하루가 또 가네요.</td>\n",
       "      <td>0</td>\n",
       "    </tr>\n",
       "    <tr>\n",
       "      <th>1</th>\n",
       "      <td>1지망 학교 떨어졌어</td>\n",
       "      <td>위로해 드립니다.</td>\n",
       "      <td>0</td>\n",
       "    </tr>\n",
       "    <tr>\n",
       "      <th>2</th>\n",
       "      <td>3박4일 놀러가고 싶다</td>\n",
       "      <td>여행은 언제나 좋죠.</td>\n",
       "      <td>0</td>\n",
       "    </tr>\n",
       "    <tr>\n",
       "      <th>3</th>\n",
       "      <td>3박4일 정도 놀러가고 싶다</td>\n",
       "      <td>여행은 언제나 좋죠.</td>\n",
       "      <td>0</td>\n",
       "    </tr>\n",
       "    <tr>\n",
       "      <th>4</th>\n",
       "      <td>PPL 심하네</td>\n",
       "      <td>눈살이 찌푸려지죠.</td>\n",
       "      <td>0</td>\n",
       "    </tr>\n",
       "  </tbody>\n",
       "</table>\n",
       "</div>"
      ],
      "text/plain": [
       "                 Q            A  label\n",
       "0           12시 땡!   하루가 또 가네요.      0\n",
       "1      1지망 학교 떨어졌어    위로해 드립니다.      0\n",
       "2     3박4일 놀러가고 싶다  여행은 언제나 좋죠.      0\n",
       "3  3박4일 정도 놀러가고 싶다  여행은 언제나 좋죠.      0\n",
       "4          PPL 심하네   눈살이 찌푸려지죠.      0"
      ]
     },
     "execution_count": 204,
     "metadata": {},
     "output_type": "execute_result"
    }
   ],
   "source": [
    "# 학습 데이터 읽어오기\n",
    "data = pd.read_csv(\"ChatbotData.csv\")[:1000]\n",
    "data.head()\n",
    "# label: 일상다반사 0, 이별(부정) 1, 사랑(긍정) 2"
   ]
  },
  {
   "cell_type": "code",
   "execution_count": 205,
   "id": "151c79b1",
   "metadata": {},
   "outputs": [],
   "source": [
    "# 문장 단위 텍스트 전처리\n",
    "def preprocess_sentence(sentence):\n",
    "    # 소문자 변환\n",
    "    sentence = sentence.lower()\n",
    "\n",
    "    # 문장 부호 간 띄어쓰기\n",
    "    sentence = re.sub(r\"([?.!,])\", r\" \\1 \", sentence)\n",
    "    \n",
    "    # 숫자 간 띄어쓰기\n",
    "    sentence = re.sub(r\"([0-9]+)\", r\" \\1 \", sentence)\n",
    "    \n",
    "    # 알파벳 한글 간 띄어쓰기\n",
    "    sentence = re.sub(r\"([a-zA-Z]+)\", r\" \\1 \", sentence)\n",
    "\n",
    "    # 알파벳, 한글, 숫자, 문장부호를 제외한 모든 문자를 공백으로 대체\n",
    "    sentence = re.sub(\"[^a-zA-Z0-9가-힣.?!,]\", \" \", sentence)\n",
    "\n",
    "    # 빈 칸 반복되는 것 하나로 줄이기\n",
    "    sentence = re.sub(r'[\" \"]+', \" \", sentence)\n",
    "\n",
    "    # 문장 앞 뒤 공백 자르기\n",
    "    sentence = sentence.strip()\n",
    "\n",
    "    return sentence"
   ]
  },
  {
   "cell_type": "code",
   "execution_count": 206,
   "id": "d01951cb",
   "metadata": {},
   "outputs": [],
   "source": [
    "# 데이터셋 단위 전처리\n",
    "def preprocess_data(data):\n",
    "    res = []\n",
    "    for q, a in zip(data['Q'], data['A']):\n",
    "        res.append(preprocess_sentence(q))\n",
    "        res.append(preprocess_sentence(a))\n",
    "\n",
    "    return res"
   ]
  },
  {
   "cell_type": "code",
   "execution_count": 207,
   "id": "4a3feaed",
   "metadata": {},
   "outputs": [
    {
     "name": "stdout",
     "output_type": "stream",
     "text": [
      "2000\n"
     ]
    }
   ],
   "source": [
    "# 데이터셋 구성\n",
    "sentences = preprocess_data(data)\n",
    "print(len(sentences))"
   ]
  },
  {
   "cell_type": "code",
   "execution_count": 208,
   "id": "b72aa6d8",
   "metadata": {},
   "outputs": [],
   "source": [
    "# 단어 사전 생성 -> 띄어쓰기 단위로 토큰을 분리하고 카운팅\n",
    "UNKNOWN_TOKEN = '<unknown>'\n",
    "START_TOKEN = '<start>'\n",
    "END_TOKEN = '<end>'\n",
    "def space_tokenizer(data):\n",
    "    dic = {UNKNOWN_TOKEN: 1, START_TOKEN: 2, END_TOKEN: 3}\n",
    "    index = 4\n",
    "    for sentence in data:\n",
    "        for word in sentence.split(\" \"):\n",
    "            if not word in dic:\n",
    "                dic[word] = index\n",
    "                index += 1\n",
    "    return dic"
   ]
  },
  {
   "cell_type": "code",
   "execution_count": 234,
   "id": "52a6db04",
   "metadata": {},
   "outputs": [
    {
     "name": "stdout",
     "output_type": "stream",
     "text": [
      "단어 사전의 크기: 2834\n"
     ]
    }
   ],
   "source": [
    "word_dic = space_tokenizer(sentences)\n",
    "VOCAB_SIZE = len(word_dic) + 1\n",
    "print(f'단어 사전의 크기: {VOCAB_SIZE}')"
   ]
  },
  {
   "cell_type": "code",
   "execution_count": 235,
   "id": "8191799c",
   "metadata": {},
   "outputs": [],
   "source": [
    "# 토큰화 - 문장 단위 (시작 토큰, 종료 토큰 추가됨)\n",
    "def tokenize(sentence):\n",
    "    res = []\n",
    "    sentence = START_TOKEN + \" \" + sentence + \" \" + END_TOKEN\n",
    "    for word in sentence.split(\" \"):\n",
    "        res.append(word_dic[word])\n",
    "\n",
    "    return res"
   ]
  },
  {
   "cell_type": "code",
   "execution_count": 236,
   "id": "e6e11298",
   "metadata": {},
   "outputs": [],
   "source": [
    "# 토큰화 - 데이터 단위\n",
    "def tokenize_data(data):\n",
    "    res = []\n",
    "    for sentence in data:\n",
    "        res.append(tokenize(sentence))\n",
    "    \n",
    "    return res"
   ]
  },
  {
   "cell_type": "code",
   "execution_count": 237,
   "id": "e9303cea",
   "metadata": {},
   "outputs": [],
   "source": [
    "# 토큰화\n",
    "inputs = tokenize_data(sentences)"
   ]
  },
  {
   "cell_type": "code",
   "execution_count": 238,
   "id": "842614e0",
   "metadata": {},
   "outputs": [],
   "source": [
    "# 최대 길이 구하기\n",
    "def max_array_length(data):\n",
    "    max_len = 0\n",
    "    \n",
    "    for element in data:\n",
    "        if len(element) > max_len:\n",
    "            max_len = len(element)\n",
    "            \n",
    "    return max_len"
   ]
  },
  {
   "cell_type": "code",
   "execution_count": 239,
   "id": "8d8b3919",
   "metadata": {},
   "outputs": [
    {
     "name": "stdout",
     "output_type": "stream",
     "text": [
      "토큰화된 문장의 최대 길이: 15\n"
     ]
    }
   ],
   "source": [
    "MAX_LENGTH = max_array_length(inputs)\n",
    "print(f'토큰화된 문장의 최대 길이: {MAX_LENGTH}')"
   ]
  },
  {
   "cell_type": "code",
   "execution_count": 240,
   "id": "8e60ccd4",
   "metadata": {},
   "outputs": [],
   "source": [
    "# 패딩 - 데이터가 패딩 길이보다 짧으면 삭제됨\n",
    "def padding(data, pad_len):\n",
    "    res = []\n",
    "\n",
    "    for sentence in data:\n",
    "        if len(sentence) <= pad_len:\n",
    "            res.append(sentence)\n",
    "\n",
    "    res = tf.keras.preprocessing.sequence.pad_sequences(res, maxlen=pad_len, padding='post')\n",
    "\n",
    "    return res"
   ]
  },
  {
   "cell_type": "code",
   "execution_count": 241,
   "id": "d2f6419e",
   "metadata": {},
   "outputs": [
    {
     "name": "stdout",
     "output_type": "stream",
     "text": [
      "패딩된 데이터의 차원: (2000, 15)\n"
     ]
    }
   ],
   "source": [
    "inputs = padding(inputs, MAX_LENGTH)\n",
    "print(f'패딩된 데이터의 차원: {inputs.shape}')"
   ]
  },
  {
   "cell_type": "markdown",
   "id": "7cd29aea",
   "metadata": {},
   "source": [
    "## 2. 모델 구성"
   ]
  },
  {
   "cell_type": "code",
   "execution_count": 242,
   "id": "fdd1712c",
   "metadata": {},
   "outputs": [],
   "source": [
    "# 포지셔널 인코딩 레이어\n",
    "class PositionalEncoding(tf.keras.layers.Layer):\n",
    "    def __init__(self, position, d_model):\n",
    "        super(PositionalEncoding, self).__init__()\n",
    "        self.pos_encoding = self.positional_encoding(position, d_model)\n",
    "\n",
    "    def get_angles(self, position, i, d_model):\n",
    "        angles = 1 / tf.pow(10000, (2 * (i // 2)) / tf.cast(d_model, tf.float32))\n",
    "        return position * angles\n",
    "\n",
    "    def positional_encoding(self, position, d_model):\n",
    "        # 각도 배열 생성\n",
    "        angle_rads = self.get_angles(position=tf.range(position, dtype=tf.float32)[:, tf.newaxis], i=tf.range(d_model, dtype=tf.float32)[tf.newaxis, :], d_model=d_model)\n",
    "\n",
    "        # 배열의 짝수 인덱스에는 sin 함수 적용\n",
    "        sines = tf.math.sin(angle_rads[:, 0::2])\n",
    "        # 배열의 홀수 인덱스에는 cosine 함수 적용\n",
    "        cosines = tf.math.cos(angle_rads[:, 1::2])\n",
    "\n",
    "        # sin과 cosine이 교차되도록 재배열\n",
    "        pos_encoding = tf.stack([sines, cosines], axis=0)\n",
    "        pos_encoding = tf.transpose(pos_encoding,[1, 2, 0]) \n",
    "        pos_encoding = tf.reshape(pos_encoding, [position, d_model])\n",
    "\n",
    "        pos_encoding = pos_encoding[tf.newaxis, ...]\n",
    "        return tf.cast(pos_encoding, tf.float32)\n",
    "\n",
    "    def call(self, inputs):\n",
    "        return inputs + self.pos_encoding[:, :tf.shape(inputs)[1], :]"
   ]
  },
  {
   "cell_type": "code",
   "execution_count": 243,
   "id": "4a8acf8f",
   "metadata": {},
   "outputs": [],
   "source": [
    "# 스케일드 닷 프로덕트 어텐션 함수\n",
    "def scaled_dot_product_attention(query, key, value, mask):\n",
    "    # 어텐션 가중치는 Q와 K의 닷 프로덕트\n",
    "    matmul_qk = tf.matmul(query, key, transpose_b=True)\n",
    "\n",
    "    # 가중치를 정규화\n",
    "    depth = tf.cast(tf.shape(key)[-1], tf.float32)\n",
    "    logits = matmul_qk / tf.math.sqrt(depth)\n",
    "\n",
    "    # 패딩에 마스크 추가\n",
    "    if mask is not None:\n",
    "        logits += (mask * -1e9)\n",
    "\n",
    "    # softmax적용\n",
    "    attention_weights = tf.nn.softmax(logits, axis=-1)\n",
    "\n",
    "    # 최종 어텐션은 가중치와 V의 닷 프로덕트\n",
    "    output = tf.matmul(attention_weights, value)\n",
    "\n",
    "    return output"
   ]
  },
  {
   "cell_type": "code",
   "execution_count": 244,
   "id": "733d3e33",
   "metadata": {},
   "outputs": [],
   "source": [
    "# 멀티헤드 어텐션\n",
    "class MultiHeadAttention(tf.keras.layers.Layer):\n",
    "    def __init__(self, d_model, num_heads, name=\"multi_head_attention\"):\n",
    "        super(MultiHeadAttention, self).__init__(name=name)\n",
    "        self.num_heads = num_heads\n",
    "        self.d_model = d_model\n",
    "\n",
    "        assert d_model % self.num_heads == 0\n",
    "\n",
    "        self.depth = d_model // self.num_heads\n",
    "\n",
    "        self.query_dense = tf.keras.layers.Dense(units=d_model)\n",
    "        self.key_dense = tf.keras.layers.Dense(units=d_model)\n",
    "        self.value_dense = tf.keras.layers.Dense(units=d_model)\n",
    "\n",
    "        self.dense = tf.keras.layers.Dense(units=d_model)\n",
    "\n",
    "    def split_heads(self, inputs, batch_size):\n",
    "        inputs = tf.reshape(inputs, shape=(batch_size, -1, self.num_heads, self.depth))\n",
    "\n",
    "        return tf.transpose(inputs, perm=[0, 2, 1, 3])\n",
    "\n",
    "    def call(self, inputs):\n",
    "        query, key, value, mask = inputs['query'], inputs['key'], inputs['value'], inputs['mask']\n",
    "        batch_size = tf.shape(query)[0]\n",
    "\n",
    "        # Q, K, V에 각각 Dense를 적용합니다\n",
    "        query = self.query_dense(query)\n",
    "        key = self.key_dense(key)\n",
    "        value = self.value_dense(value)\n",
    "\n",
    "        # 병렬 연산을 위한 머리를 여러 개 만듭니다\n",
    "        query = self.split_heads(query, batch_size)\n",
    "        key = self.split_heads(key, batch_size)\n",
    "        value = self.split_heads(value, batch_size)\n",
    "\n",
    "        # 스케일드 닷 프로덕트 어텐션 함수\n",
    "        scaled_attention = scaled_dot_product_attention(query, key, value, mask)\n",
    "\n",
    "        scaled_attention = tf.transpose(scaled_attention, perm=[0, 2, 1, 3])\n",
    "\n",
    "        # 어텐션 연산 후에 각 결과를 다시 연결(concatenate)합니다\n",
    "        concat_attention = tf.reshape(scaled_attention, (batch_size, -1, self.d_model))\n",
    "\n",
    "        # 최종 결과에도 Dense를 한 번 더 적용합니다\n",
    "        outputs = self.dense(concat_attention)\n",
    "\n",
    "        return outputs"
   ]
  },
  {
   "cell_type": "code",
   "execution_count": 245,
   "id": "c7fe7eea",
   "metadata": {},
   "outputs": [],
   "source": [
    "def create_padding_mask(x):\n",
    "    mask = tf.cast(tf.math.equal(x, 0), tf.float32)\n",
    "    # (batch_size, 1, 1, sequence length)\n",
    "    return mask[:, tf.newaxis, tf.newaxis, :]\n",
    "\n",
    "def create_look_ahead_mask(x):\n",
    "    seq_len = tf.shape(x)[1]\n",
    "    look_ahead_mask = 1 - tf.linalg.band_part(tf.ones((seq_len, seq_len)), -1, 0)\n",
    "    padding_mask = create_padding_mask(x)\n",
    "    return tf.maximum(look_ahead_mask, padding_mask)"
   ]
  },
  {
   "cell_type": "code",
   "execution_count": 246,
   "id": "3ebfd565",
   "metadata": {},
   "outputs": [],
   "source": [
    "# 디코더 레이어\n",
    "def decoder_layer(units, d_model, num_heads, dropout, name=\"decoder_layer\"):\n",
    "    inputs = tf.keras.Input(shape=(None, d_model), name=\"inputs\")\n",
    "    look_ahead_mask = tf.keras.Input(shape=(1, None, None), name=\"look_ahead_mask\")\n",
    "    padding_mask = tf.keras.Input(shape=(1, 1, None), name='padding_mask')\n",
    "\n",
    "    # 첫 번째 서브 레이어: Masked Multi Self Attention\n",
    "    attention = MultiHeadAttention(d_model, num_heads, name=\"attention\")(inputs={'query': inputs, 'key': inputs, 'value': inputs, 'mask': look_ahead_mask})\n",
    "\n",
    "    # 두 번째 서브 레이터: Layer Normalization\n",
    "    normalized_attention = tf.keras.layers.LayerNormalization(epsilon=1e-6)(attention + inputs)\n",
    "\n",
    "    # 세 번째 서브 레이어: Feed Forward -> Layer Normalization 결과와 합치기 위해 feed_forward 레이어의 출력이 d_model과 같아야 함\n",
    "    feed_forward = tf.keras.layers.Dense(d_model, name=\"feed_forward\")(inputs=normalized_attention)\n",
    "\n",
    "    # 네 번째 서브 레이어: Layer Normalization\n",
    "    outputs = tf.keras.layers.LayerNormalization(epsilon=1e-6)(feed_forward + normalized_attention)\n",
    "\n",
    "    # Dropout 필요한가?\n",
    "    #attention2 = tf.keras.layers.Dropout(rate=dropout)(attention2)\n",
    "\n",
    "    # 출력 레이어 1: 2개의 완전연결층\n",
    "    #outputs = tf.keras.layers.Dense(units=units, activation='relu')(attention2)\n",
    "    #outputs = tf.keras.layers.Dense(units=d_model)(outputs)\n",
    "\n",
    "    # 출력 레이어 2: 완전연결층의 결과는 Dropout과 LayerNormalization 수행\n",
    "    #outputs = tf.keras.layers.Dropout(rate=dropout)(outputs)\n",
    "    #outputs = tf.keras.layers.LayerNormalization(epsilon=1e-6)(outputs + attention2)\n",
    "\n",
    "    return tf.keras.Model(inputs=[inputs, look_ahead_mask, padding_mask], outputs=outputs, name=name)"
   ]
  },
  {
   "cell_type": "code",
   "execution_count": 247,
   "id": "24001327",
   "metadata": {},
   "outputs": [],
   "source": [
    "# 디코더\n",
    "def decoder(vocab_size, num_layers, units, d_model, num_heads, dropout, name='decoder'):\n",
    "    inputs = tf.keras.Input(shape=(None,), name='inputs')\n",
    "\n",
    "    # 마스크\n",
    "    look_ahead_mask = tf.keras.Input(shape=(1, None, None), name='look_ahead_mask')\n",
    "    padding_mask = tf.keras.Input(shape=(1, 1, None), name='padding_mask')\n",
    "  \n",
    "    # 임베딩 레이어\n",
    "    embeddings = tf.keras.layers.Embedding(vocab_size, d_model)(inputs)\n",
    "    embeddings *= tf.math.sqrt(tf.cast(d_model, tf.float32))\n",
    "\n",
    "    # 포지셔널 인코딩\n",
    "    embeddings = PositionalEncoding(vocab_size, d_model)(embeddings)\n",
    "\n",
    "    # Dropout이라는 훈련을 돕는 테크닉을 수행\n",
    "    outputs = tf.keras.layers.Dropout(rate=dropout)(embeddings)\n",
    "\n",
    "    for i in range(num_layers):\n",
    "        outputs = decoder_layer(units=units, d_model=d_model, num_heads=num_heads, dropout=dropout, name='decoder_layer_{}'.format(i))(inputs=[outputs, look_ahead_mask, padding_mask])\n",
    "\n",
    "    return tf.keras.Model(inputs=[inputs, look_ahead_mask, padding_mask], outputs=outputs, name=name)"
   ]
  },
  {
   "cell_type": "code",
   "execution_count": 248,
   "id": "de361919",
   "metadata": {},
   "outputs": [],
   "source": [
    "# MyGPT\n",
    "def mygpt(vocab_size, num_layers, units, d_model, num_heads, dropout, name=\"mygpt\"):\n",
    "    inputs = tf.keras.Input(shape=(None,), name=\"inputs\")\n",
    "\n",
    "    look_ahead_mask = tf.keras.layers.Lambda(create_look_ahead_mask, output_shape=(1, None, None), name='look_ahead_mask')(inputs)\n",
    "    padding_mask = tf.keras.layers.Lambda(create_padding_mask, output_shape=(1, 1, None), name='padding_mask')(inputs)\n",
    "\n",
    "    # 디코더\n",
    "    outputs = decoder(vocab_size=vocab_size, num_layers=num_layers, units=units, d_model=d_model, num_heads=num_heads, dropout=dropout)(inputs=[inputs, look_ahead_mask, padding_mask])\n",
    "\n",
    "    # 완전연결층 - 논문에 의하면 독립된 완전 연결층이 2개 필요 -> pretrain 단계만 구현\n",
    "    outputs = tf.keras.layers.Dense(units=vocab_size, name=\"outputs\")(outputs)\n",
    "\n",
    "    return tf.keras.Model(inputs=inputs, outputs=outputs, name=name)"
   ]
  },
  {
   "cell_type": "code",
   "execution_count": 249,
   "id": "6cba4ea4",
   "metadata": {},
   "outputs": [
    {
     "name": "stdout",
     "output_type": "stream",
     "text": [
      "Model: \"mygpt\"\n",
      "__________________________________________________________________________________________________\n",
      "Layer (type)                    Output Shape         Param #     Connected to                     \n",
      "==================================================================================================\n",
      "inputs (InputLayer)             [(None, None)]       0                                            \n",
      "__________________________________________________________________________________________________\n",
      "look_ahead_mask (Lambda)        (None, 1, None, None 0           inputs[0][0]                     \n",
      "__________________________________________________________________________________________________\n",
      "padding_mask (Lambda)           (None, 1, 1, None)   0           inputs[0][0]                     \n",
      "__________________________________________________________________________________________________\n",
      "decoder (Functional)            (None, None, 256)    1385472     inputs[0][0]                     \n",
      "                                                                 look_ahead_mask[0][0]            \n",
      "                                                                 padding_mask[0][0]               \n",
      "__________________________________________________________________________________________________\n",
      "outputs (Dense)                 (None, None, 2834)   728338      decoder[0][0]                    \n",
      "==================================================================================================\n",
      "Total params: 2,113,810\n",
      "Trainable params: 2,113,810\n",
      "Non-trainable params: 0\n",
      "__________________________________________________________________________________________________\n"
     ]
    }
   ],
   "source": [
    "# 하이퍼파라미터\n",
    "NUM_LAYERS = 2 # 디코더의 층의 개수\n",
    "D_MODEL = 256 # 디코더 내부의 입, 출력의 고정 차원\n",
    "NUM_HEADS = 8 # 멀티 헤드 어텐션에서의 헤드 수 \n",
    "UNITS = 512 # 피드 포워드 신경망의 은닉층의 크기 -> 사용하지 않음\n",
    "DROPOUT = 0.1 # 드롭아웃의 비율 -> 사용하지 않음\n",
    "\n",
    "# 모델\n",
    "model = mygpt(vocab_size=VOCAB_SIZE, num_layers=NUM_LAYERS, units=UNITS, d_model=D_MODEL, num_heads=NUM_HEADS, dropout=DROPOUT)\n",
    "model.summary()"
   ]
  },
  {
   "cell_type": "markdown",
   "id": "e5489ed8",
   "metadata": {},
   "source": [
    "### 3. 학습 및 테스트, 하이퍼파라미터"
   ]
  },
  {
   "cell_type": "code",
   "execution_count": 250,
   "id": "56d548f8",
   "metadata": {},
   "outputs": [],
   "source": [
    "# Loss 함수\n",
    "def loss_function(y_true, y_pred):\n",
    "    y_true = tf.reshape(y_true, shape=(-1, MAX_LENGTH - 1))\n",
    "  \n",
    "    loss = tf.keras.losses.SparseCategoricalCrossentropy(from_logits=True, reduction='none')(y_true, y_pred)\n",
    "\n",
    "    mask = tf.cast(tf.not_equal(y_true, 0), tf.float32)\n",
    "    loss = tf.multiply(loss, mask)\n",
    "\n",
    "    return tf.reduce_mean(loss)"
   ]
  },
  {
   "cell_type": "code",
   "execution_count": 251,
   "id": "b41d8775",
   "metadata": {},
   "outputs": [],
   "source": [
    "# Learning rate 스케줄러\n",
    "class CustomSchedule(tf.keras.optimizers.schedules.LearningRateSchedule):\n",
    "    def __init__(self, d_model, warmup_steps=4000):\n",
    "        super(CustomSchedule, self).__init__()\n",
    "\n",
    "        self.d_model = d_model\n",
    "        self.d_model = tf.cast(self.d_model, tf.float32)\n",
    "\n",
    "        self.warmup_steps = warmup_steps\n",
    "\n",
    "    def __call__(self, step):\n",
    "        arg1 = tf.math.rsqrt(step)\n",
    "        arg2 = step * (self.warmup_steps**-1.5)\n",
    "\n",
    "        return tf.math.rsqrt(self.d_model) * tf.math.minimum(arg1, arg2)"
   ]
  },
  {
   "cell_type": "code",
   "execution_count": 252,
   "id": "26545478",
   "metadata": {},
   "outputs": [],
   "source": [
    "# 옵티마이져\n",
    "learning_rate = CustomSchedule(D_MODEL)\n",
    "\n",
    "optimizer = tf.keras.optimizers.Adam(learning_rate, beta_1=0.9, beta_2=0.98, epsilon=1e-9)"
   ]
  },
  {
   "cell_type": "code",
   "execution_count": 253,
   "id": "6d1bd746",
   "metadata": {},
   "outputs": [],
   "source": [
    "# Accuracy 함수\n",
    "def accuracy(y_true, y_pred):\n",
    "    y_true = tf.reshape(y_true, shape=(-1, MAX_LENGTH - 1))\n",
    "    return tf.keras.metrics.sparse_categorical_accuracy(y_true, y_pred)"
   ]
  },
  {
   "cell_type": "code",
   "execution_count": 254,
   "id": "d3462f54",
   "metadata": {},
   "outputs": [],
   "source": [
    "# 모델 학습을 위한 데이터셋 준비\n",
    "BATCH_SIZE = 64\n",
    "BUFFER_SIZE = 20000\n",
    "\n",
    "trainset = tf.data.Dataset.from_tensor_slices((\n",
    "    {\n",
    "        'inputs': inputs[:, :-1]\n",
    "    },\n",
    "    {\n",
    "        'outputs': inputs[:, 1:]\n",
    "    },\n",
    "))\n",
    "\n",
    "trainset = trainset.cache()\n",
    "trainset = trainset.shuffle(BUFFER_SIZE)\n",
    "trainset = trainset.batch(BATCH_SIZE)\n",
    "trainset = trainset.prefetch(tf.data.experimental.AUTOTUNE)"
   ]
  },
  {
   "cell_type": "code",
   "execution_count": 255,
   "id": "7e9dae09",
   "metadata": {},
   "outputs": [
    {
     "name": "stdout",
     "output_type": "stream",
     "text": [
      "Epoch 1/10\n",
      "32/32 [==============================] - 11s 268ms/step - loss: 2.8423 - accuracy: 7.1429e-05\n",
      "Epoch 2/10\n",
      "32/32 [==============================] - 9s 273ms/step - loss: 2.7486 - accuracy: 0.0108\n",
      "Epoch 3/10\n",
      "32/32 [==============================] - 9s 267ms/step - loss: 2.5919 - accuracy: 0.0703\n",
      "Epoch 4/10\n",
      "32/32 [==============================] - 9s 268ms/step - loss: 2.4399 - accuracy: 0.0714\n",
      "Epoch 5/10\n",
      "32/32 [==============================] - 8s 265ms/step - loss: 2.3272 - accuracy: 0.0714\n",
      "Epoch 6/10\n",
      "32/32 [==============================] - 9s 268ms/step - loss: 2.2443 - accuracy: 0.0714\n",
      "Epoch 7/10\n",
      "32/32 [==============================] - 9s 272ms/step - loss: 2.1747 - accuracy: 0.0715\n",
      "Epoch 8/10\n",
      "32/32 [==============================] - 9s 273ms/step - loss: 2.1103 - accuracy: 0.0747\n",
      "Epoch 9/10\n",
      "32/32 [==============================] - 9s 273ms/step - loss: 2.0471 - accuracy: 0.0821\n",
      "Epoch 10/10\n",
      "32/32 [==============================] - 9s 269ms/step - loss: 1.9869 - accuracy: 0.0937\n"
     ]
    }
   ],
   "source": [
    "# 학습\n",
    "EPOCHS = 10\n",
    "\n",
    "model.compile(optimizer=optimizer, loss=loss_function, metrics=[accuracy])\n",
    "history = model.fit(trainset, epochs=EPOCHS, verbose=1)"
   ]
  },
  {
   "cell_type": "code",
   "execution_count": null,
   "id": "1bdf18ba",
   "metadata": {},
   "outputs": [],
   "source": []
  }
 ],
 "metadata": {
  "kernelspec": {
   "display_name": "Python 3 (ipykernel)",
   "language": "python",
   "name": "python3"
  },
  "language_info": {
   "codemirror_mode": {
    "name": "ipython",
    "version": 3
   },
   "file_extension": ".py",
   "mimetype": "text/x-python",
   "name": "python",
   "nbconvert_exporter": "python",
   "pygments_lexer": "ipython3",
   "version": "3.9.7"
  }
 },
 "nbformat": 4,
 "nbformat_minor": 5
}
